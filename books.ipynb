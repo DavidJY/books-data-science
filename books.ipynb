{
 "cells": [
  {
   "cell_type": "markdown",
   "metadata": {},
   "source": [
    "# Analisis Exploratorio"
   ]
  },
  {
   "cell_type": "markdown",
   "metadata": {},
   "source": [
    "## Tabla de contenidos:\n",
    "* [Descarga de datos](#descarga-datos)\n",
    "* [Carga inicial de los datos](#carga-inicial)\n",
    "* [Observación de valores nulos](#datos-nulos)\n",
    "    * [Identificadores](#columnas-identificadores)\n",
    "    * [Información](#columnas-informacion)\n",
    "    * [Usuarios](#columnas-usuarios)\n"
   ]
  },
  {
   "cell_type": "markdown",
   "metadata": {},
   "source": [
    "## Descarga de datos <a class=\"anchor\" name=\"descarga-datos\"/>\n",
    "Para la descarga de datos, se ha optado por el uso de un API.\n",
    "En concreto se va a utilizar el API de goodreads, una página especializada en libros, con más de 85 millones de usuarios y más de 2.5 billones (americanos) de libros. (https://www.goodreads.com/about/us).\n",
    "\n",
    "El API (https://www.goodreads.com/api) disponde un endpoint rest en el que se puede obtener la información detallada de un libro por _ISBN_ o por un _ID_ propio de su sistema. \n",
    "Para el caso de esta práctica se ha hecho un script en python (*goodreads.py*) que permite descargar la lista completa de libros en un fichero csv. Para facilitar el uso del notebook, se proporciorna un fichero csv con los libros descargados previamente: _books.csv_ \n",
    "\n",
    "Para usar el script bastaría con lanzar el comando: `python3 goodreads.py` Este script acepta parametros de entrada, como desde que libro hasta que libro se quiere ir, y cuantos libros se quieren saltar entre cada libro. `python3 goodreads.py -o FILENAME -s START_BOOK -e END_BOOK -l SKIP_BOOKS` "
   ]
  },
  {
   "cell_type": "markdown",
   "metadata": {},
   "source": [
    "## Carga inicial de los datos <a class=\"anchor\" name=\"carga-inicial\"/>\n",
    "\n",
    "Se carga en memoria mediante pandas el dataset de libros almancenado en _books.csv_. \n",
    "\n",
    "Adicionalmente se obtiene la primera información sobre los datos que contine el dataset. "
   ]
  },
  {
   "cell_type": "code",
   "execution_count": 4,
   "metadata": {},
   "outputs": [
    {
     "name": "stdout",
     "output_type": "stream",
     "text": [
      "<class 'pandas.core.frame.DataFrame'>\n",
      "RangeIndex: 28362 entries, 0 to 28361\n",
      "Data columns (total 42 columns):\n",
      "id                           28362 non-null int64\n",
      "isbn                         28061 non-null object\n",
      "title                        28362 non-null object\n",
      "isbn13                       27969 non-null float64\n",
      "asin                         7 non-null object\n",
      "kindle_asin                  0 non-null float64\n",
      "marketplace_id               0 non-null float64\n",
      "country_code                 28362 non-null object\n",
      "publication_date             21862 non-null object\n",
      "publisher                    21770 non-null object\n",
      "language_code                8754 non-null object\n",
      "is_ebook                     28362 non-null bool\n",
      "books_count                  28362 non-null int64\n",
      "best_book_id                 28362 non-null int64\n",
      "reviews_count                28362 non-null int64\n",
      "ratings_sum                  28362 non-null int64\n",
      "ratings_count                28362 non-null int64\n",
      "text_reviews_count           28362 non-null int64\n",
      "original_publication_date    27524 non-null object\n",
      "original_title               26983 non-null object\n",
      "media_type                   18131 non-null object\n",
      "num_ratings_5                28362 non-null int64\n",
      "num_ratings_4                28362 non-null int64\n",
      "num_ratings_3                28362 non-null int64\n",
      "num_ratings_2                28362 non-null int64\n",
      "num_ratings_1                28362 non-null int64\n",
      "average_rating               28362 non-null float64\n",
      "num_pages                    20094 non-null float64\n",
      "format                       21545 non-null object\n",
      "edition_information          1651 non-null object\n",
      "ratings_count_global         28362 non-null int64\n",
      "text_reviews_count_global    28362 non-null int64\n",
      "authors                      27082 non-null object\n",
      "illustrator                  1380 non-null object\n",
      "contributor                  275 non-null object\n",
      "editor                       2147 non-null object\n",
      "translator                   1210 non-null object\n",
      "narrator                     173 non-null object\n",
      "to_read                      28319 non-null float64\n",
      "read                         28362 non-null int64\n",
      "currently_reading            18572 non-null float64\n",
      "genres                       21642 non-null object\n",
      "dtypes: bool(1), float64(7), int64(15), object(19)\n",
      "memory usage: 8.9+ MB\n"
     ]
    }
   ],
   "source": [
    "import pandas as pd\n",
    "\n",
    "df = pd.read_csv(\"books.csv\")\n",
    "df.info()"
   ]
  },
  {
   "cell_type": "code",
   "execution_count": 5,
   "metadata": {},
   "outputs": [
    {
     "data": {
      "text/html": [
       "<div>\n",
       "<style scoped>\n",
       "    .dataframe tbody tr th:only-of-type {\n",
       "        vertical-align: middle;\n",
       "    }\n",
       "\n",
       "    .dataframe tbody tr th {\n",
       "        vertical-align: top;\n",
       "    }\n",
       "\n",
       "    .dataframe thead th {\n",
       "        text-align: right;\n",
       "    }\n",
       "</style>\n",
       "<table border=\"1\" class=\"dataframe\">\n",
       "  <thead>\n",
       "    <tr style=\"text-align: right;\">\n",
       "      <th></th>\n",
       "      <th>id</th>\n",
       "      <th>isbn</th>\n",
       "      <th>title</th>\n",
       "      <th>isbn13</th>\n",
       "      <th>asin</th>\n",
       "      <th>kindle_asin</th>\n",
       "      <th>marketplace_id</th>\n",
       "      <th>country_code</th>\n",
       "      <th>publication_date</th>\n",
       "      <th>publisher</th>\n",
       "      <th>...</th>\n",
       "      <th>authors</th>\n",
       "      <th>illustrator</th>\n",
       "      <th>contributor</th>\n",
       "      <th>editor</th>\n",
       "      <th>translator</th>\n",
       "      <th>narrator</th>\n",
       "      <th>to_read</th>\n",
       "      <th>read</th>\n",
       "      <th>currently_reading</th>\n",
       "      <th>genres</th>\n",
       "    </tr>\n",
       "  </thead>\n",
       "  <tbody>\n",
       "    <tr>\n",
       "      <th>0</th>\n",
       "      <td>1</td>\n",
       "      <td>0439785960</td>\n",
       "      <td>Harry Potter and the Half-Blood Prince (Harry ...</td>\n",
       "      <td>9.780440e+12</td>\n",
       "      <td>NaN</td>\n",
       "      <td>NaN</td>\n",
       "      <td>NaN</td>\n",
       "      <td>ES</td>\n",
       "      <td>2006/9/16</td>\n",
       "      <td>Scholastic Inc.</td>\n",
       "      <td>...</td>\n",
       "      <td>J.K. Rowling</td>\n",
       "      <td>Mary GrandPré</td>\n",
       "      <td>NaN</td>\n",
       "      <td>NaN</td>\n",
       "      <td>NaN</td>\n",
       "      <td>NaN</td>\n",
       "      <td>230083.0</td>\n",
       "      <td>7496</td>\n",
       "      <td>22382.0</td>\n",
       "      <td>adventure,childrens,classics,contemporary,fant...</td>\n",
       "    </tr>\n",
       "    <tr>\n",
       "      <th>1</th>\n",
       "      <td>6</td>\n",
       "      <td>0439139600</td>\n",
       "      <td>Harry Potter and the Goblet of Fire (Harry Pot...</td>\n",
       "      <td>9.780439e+12</td>\n",
       "      <td>NaN</td>\n",
       "      <td>NaN</td>\n",
       "      <td>NaN</td>\n",
       "      <td>ES</td>\n",
       "      <td>2002/9/28</td>\n",
       "      <td>Scholastic</td>\n",
       "      <td>...</td>\n",
       "      <td>J.K. Rowling</td>\n",
       "      <td>Mary GrandPré</td>\n",
       "      <td>NaN</td>\n",
       "      <td>NaN</td>\n",
       "      <td>NaN</td>\n",
       "      <td>NaN</td>\n",
       "      <td>187868.0</td>\n",
       "      <td>8966</td>\n",
       "      <td>39685.0</td>\n",
       "      <td>adventure,childrens,classics,contemporary,fant...</td>\n",
       "    </tr>\n",
       "    <tr>\n",
       "      <th>2</th>\n",
       "      <td>11</td>\n",
       "      <td>NaN</td>\n",
       "      <td>The Hitchhiker's Guide to the Galaxy (Hitchhik...</td>\n",
       "      <td>NaN</td>\n",
       "      <td>NaN</td>\n",
       "      <td>NaN</td>\n",
       "      <td>NaN</td>\n",
       "      <td>ES</td>\n",
       "      <td>2017/1/1</td>\n",
       "      <td>Del Rey Books</td>\n",
       "      <td>...</td>\n",
       "      <td>Douglas Adams</td>\n",
       "      <td>NaN</td>\n",
       "      <td>NaN</td>\n",
       "      <td>NaN</td>\n",
       "      <td>NaN</td>\n",
       "      <td>NaN</td>\n",
       "      <td>2468.0</td>\n",
       "      <td>2329</td>\n",
       "      <td>19129.0</td>\n",
       "      <td>adult,adult-fiction,adventure,aliens,british-l...</td>\n",
       "    </tr>\n",
       "    <tr>\n",
       "      <th>3</th>\n",
       "      <td>16</td>\n",
       "      <td>0739322206</td>\n",
       "      <td>The Hitchhiker's Guide to the Galaxy (Hitchhik...</td>\n",
       "      <td>9.780739e+12</td>\n",
       "      <td>NaN</td>\n",
       "      <td>NaN</td>\n",
       "      <td>NaN</td>\n",
       "      <td>ES</td>\n",
       "      <td>2005/3/23</td>\n",
       "      <td>Random House Audio</td>\n",
       "      <td>...</td>\n",
       "      <td>Douglas Adams</td>\n",
       "      <td>NaN</td>\n",
       "      <td>NaN</td>\n",
       "      <td>NaN</td>\n",
       "      <td>NaN</td>\n",
       "      <td>Stephen Fry</td>\n",
       "      <td>2468.0</td>\n",
       "      <td>2329</td>\n",
       "      <td>19129.0</td>\n",
       "      <td>adult,adult-fiction,adventure,aliens,british-l...</td>\n",
       "    </tr>\n",
       "    <tr>\n",
       "      <th>4</th>\n",
       "      <td>21</td>\n",
       "      <td>076790818X</td>\n",
       "      <td>A Short History of Nearly Everything</td>\n",
       "      <td>9.780768e+12</td>\n",
       "      <td>NaN</td>\n",
       "      <td>NaN</td>\n",
       "      <td>NaN</td>\n",
       "      <td>ES</td>\n",
       "      <td>2004/9/14</td>\n",
       "      <td>Broadway Books</td>\n",
       "      <td>...</td>\n",
       "      <td>Bill Bryson</td>\n",
       "      <td>NaN</td>\n",
       "      <td>NaN</td>\n",
       "      <td>NaN</td>\n",
       "      <td>NaN</td>\n",
       "      <td>William Roberts</td>\n",
       "      <td>242439.0</td>\n",
       "      <td>651</td>\n",
       "      <td>16741.0</td>\n",
       "      <td>adult,american,anthropology,education,essays,f...</td>\n",
       "    </tr>\n",
       "  </tbody>\n",
       "</table>\n",
       "<p>5 rows × 42 columns</p>\n",
       "</div>"
      ],
      "text/plain": [
       "   id        isbn                                              title  \\\n",
       "0   1  0439785960  Harry Potter and the Half-Blood Prince (Harry ...   \n",
       "1   6  0439139600  Harry Potter and the Goblet of Fire (Harry Pot...   \n",
       "2  11         NaN  The Hitchhiker's Guide to the Galaxy (Hitchhik...   \n",
       "3  16  0739322206  The Hitchhiker's Guide to the Galaxy (Hitchhik...   \n",
       "4  21  076790818X               A Short History of Nearly Everything   \n",
       "\n",
       "         isbn13 asin  kindle_asin  marketplace_id country_code  \\\n",
       "0  9.780440e+12  NaN          NaN             NaN           ES   \n",
       "1  9.780439e+12  NaN          NaN             NaN           ES   \n",
       "2           NaN  NaN          NaN             NaN           ES   \n",
       "3  9.780739e+12  NaN          NaN             NaN           ES   \n",
       "4  9.780768e+12  NaN          NaN             NaN           ES   \n",
       "\n",
       "  publication_date           publisher  \\\n",
       "0        2006/9/16     Scholastic Inc.   \n",
       "1        2002/9/28          Scholastic   \n",
       "2         2017/1/1       Del Rey Books   \n",
       "3        2005/3/23  Random House Audio   \n",
       "4        2004/9/14      Broadway Books   \n",
       "\n",
       "                         ...                                authors  \\\n",
       "0                        ...                           J.K. Rowling   \n",
       "1                        ...                           J.K. Rowling   \n",
       "2                        ...                          Douglas Adams   \n",
       "3                        ...                          Douglas Adams   \n",
       "4                        ...                            Bill Bryson   \n",
       "\n",
       "     illustrator  contributor  editor  translator         narrator   to_read  \\\n",
       "0  Mary GrandPré          NaN     NaN         NaN              NaN  230083.0   \n",
       "1  Mary GrandPré          NaN     NaN         NaN              NaN  187868.0   \n",
       "2            NaN          NaN     NaN         NaN              NaN    2468.0   \n",
       "3            NaN          NaN     NaN         NaN      Stephen Fry    2468.0   \n",
       "4            NaN          NaN     NaN         NaN  William Roberts  242439.0   \n",
       "\n",
       "   read currently_reading                                             genres  \n",
       "0  7496           22382.0  adventure,childrens,classics,contemporary,fant...  \n",
       "1  8966           39685.0  adventure,childrens,classics,contemporary,fant...  \n",
       "2  2329           19129.0  adult,adult-fiction,adventure,aliens,british-l...  \n",
       "3  2329           19129.0  adult,adult-fiction,adventure,aliens,british-l...  \n",
       "4   651           16741.0  adult,american,anthropology,education,essays,f...  \n",
       "\n",
       "[5 rows x 42 columns]"
      ]
     },
     "execution_count": 5,
     "metadata": {},
     "output_type": "execute_result"
    }
   ],
   "source": [
    "df.head()"
   ]
  },
  {
   "cell_type": "markdown",
   "metadata": {},
   "source": [
    "## Observación de valores nulos <a class=\"anchor\" name=\"datos-nulos\"/>\n",
    "El siguiente paso es observar los datos, los valores que toman y si hay valores nulos. \n",
    "\n",
    "Para cada una de las columnas del dataset se identifica si tienen valores nulos y cuántos hay en cada uno y la acción a tomar en cada caso.\n"
   ]
  },
  {
   "cell_type": "code",
   "execution_count": 6,
   "metadata": {},
   "outputs": [
    {
     "data": {
      "text/plain": [
       "id                             int64\n",
       "isbn                          object\n",
       "title                         object\n",
       "isbn13                       float64\n",
       "asin                          object\n",
       "kindle_asin                  float64\n",
       "marketplace_id               float64\n",
       "country_code                  object\n",
       "publication_date              object\n",
       "publisher                     object\n",
       "language_code                 object\n",
       "is_ebook                        bool\n",
       "books_count                    int64\n",
       "best_book_id                   int64\n",
       "reviews_count                  int64\n",
       "ratings_sum                    int64\n",
       "ratings_count                  int64\n",
       "text_reviews_count             int64\n",
       "original_publication_date     object\n",
       "original_title                object\n",
       "media_type                    object\n",
       "num_ratings_5                  int64\n",
       "num_ratings_4                  int64\n",
       "num_ratings_3                  int64\n",
       "num_ratings_2                  int64\n",
       "num_ratings_1                  int64\n",
       "average_rating               float64\n",
       "num_pages                    float64\n",
       "format                        object\n",
       "edition_information           object\n",
       "ratings_count_global           int64\n",
       "text_reviews_count_global      int64\n",
       "authors                       object\n",
       "illustrator                   object\n",
       "contributor                   object\n",
       "editor                        object\n",
       "translator                    object\n",
       "narrator                      object\n",
       "to_read                      float64\n",
       "read                           int64\n",
       "currently_reading            float64\n",
       "genres                        object\n",
       "dtype: object"
      ]
     },
     "execution_count": 6,
     "metadata": {},
     "output_type": "execute_result"
    }
   ],
   "source": [
    "df[df.columns].dtypes"
   ]
  },
  {
   "cell_type": "markdown",
   "metadata": {},
   "source": [
    "Con los tipos y la muestra, se puede deducir la información de cada columna:\n",
    "\n",
    "| Columna | Tipo | Observaciones | Tipo de Campo |\n",
    "| --- | --- | --- | --- |\n",
    "| id | int64 | ID en GoodReads | Identificador |\n",
    "| isbn | object |  ISBN | Identificador |\n",
    "| title | object |  Titulo | Información |\n",
    "| isbn13 | float64 | Codigo ISBN de 13 digitos |  Identificador |\n",
    "| asin | object | ??? |  Identificador |\n",
    "| kindle_asin | float64 | Codigo Kindle |  Identificador |\n",
    "| marketplace_id | float64 | Código del mercado |  Identificador |\n",
    "| country_code | object |  Código de País | Información |\n",
    "| publication_date | object |  Fecha de publicación | Información | \n",
    "| publisher | object | Publicador/Editorial | Información |\n",
    "| language_code | object | Código de idioma de la publicación | Información |\n",
    "| is_ebook | bool | Es un E-Book | Información |\n",
    "| books_count | int64 | ? | Usuarios |\n",
    "| best_book_id | int64 | ? | Usuarios |\n",
    "| reviews_count | int64 | Número de opiniones | Usuarios |\n",
    "| ratings_sum | int64 | Sumatorio de las puntuaciones | Usuarios |\n",
    "| ratings_count | int64 | Número de puntuaciones | Usuarios |\n",
    "| text_reviews_count | int64 | Número de opiniones escritas | Usuarios |\n",
    "| original_publication_date | object | Fecha de publicación original | Informacion |\n",
    "| original_title | object| Titulo original | Informacion |\n",
    "| media_type | object | Tipo de medio | Información |\n",
    "| num_ratings_5 | int64 | Número de veces que han puntuado con un 5 | Usuarios |\n",
    "| num_ratings_4 | int64 | Número de veces que han puntuado con un 4 | Usuarios |\n",
    "| num_ratings_3 | int64 | Número de veces que han puntuado con un 3 | Usuarios |\n",
    "| num_ratings_2 | int64 | Número de veces que han puntuado con un 2 | Usuarios |\n",
    "| num_ratings_1 | int64 | Número de veces que han puntuado con un 1 | Usuarios |\n",
    "| average_rating | float64 | Valoración media | Usuarios |\n",
    "| num_pages | float64 | Número de páginas | Información |\n",
    "| format | object | Formato | Información |\n",
    "| edition_information | object  | Informacíón sobre la edición | Información |\n",
    "| ratings_count_global | int64  | Número de valoraciones total | Usuarios |\n",
    "| text_reviews_count_global | int64 | Número de reseñas total | Usuarios |\n",
    "| authors | object | Autor | Información |\n",
    "| illustrator | object | Ilustrador | Información | \n",
    "| contributor | object | Constribuidor | Información |\n",
    "| editor | object | Editor | Información |\n",
    "| translator | object | Traductor | Información |\n",
    "| narrator | object | Narrador | Información |\n",
    "| to_read | float64 | Número de personas que lo quieren leer | Usuarios |\n",
    "| read | int64 | Número de personas que lo han leído | Usuarios |\n",
    "| currently_reading | float64 | Número de personas que lo están leyendo | Usuarios |\n",
    "| genres | object | Lista de géneros | Información |\n",
    "\n",
    "Adicionalmente se ha identificado a que hace referencia cada columna:\n",
    "* Identificador : Identificadores del libro\n",
    "* Información: Información sobre el libro o la edición\n",
    "* Usuarios: Información sobre las valoraciones de los usuarios, reseñas, etc."
   ]
  },
  {
   "cell_type": "markdown",
   "metadata": {},
   "source": [
    "Se observa cuantos valores contiene cada columna"
   ]
  },
  {
   "cell_type": "code",
   "execution_count": 7,
   "metadata": {},
   "outputs": [
    {
     "data": {
      "text/plain": [
       "id                           28362\n",
       "isbn                         28061\n",
       "title                        28362\n",
       "isbn13                       27969\n",
       "asin                             7\n",
       "kindle_asin                      0\n",
       "marketplace_id                   0\n",
       "country_code                 28362\n",
       "publication_date             21862\n",
       "publisher                    21770\n",
       "language_code                 8754\n",
       "is_ebook                     28362\n",
       "books_count                  28362\n",
       "best_book_id                 28362\n",
       "reviews_count                28362\n",
       "ratings_sum                  28362\n",
       "ratings_count                28362\n",
       "text_reviews_count           28362\n",
       "original_publication_date    27524\n",
       "original_title               26983\n",
       "media_type                   18131\n",
       "num_ratings_5                28362\n",
       "num_ratings_4                28362\n",
       "num_ratings_3                28362\n",
       "num_ratings_2                28362\n",
       "num_ratings_1                28362\n",
       "average_rating               28362\n",
       "num_pages                    20094\n",
       "format                       21545\n",
       "edition_information           1651\n",
       "ratings_count_global         28362\n",
       "text_reviews_count_global    28362\n",
       "authors                      27082\n",
       "illustrator                   1380\n",
       "contributor                    275\n",
       "editor                        2147\n",
       "translator                    1210\n",
       "narrator                       173\n",
       "to_read                      28319\n",
       "read                         28362\n",
       "currently_reading            18572\n",
       "genres                       21642\n",
       "dtype: int64"
      ]
     },
     "execution_count": 7,
     "metadata": {},
     "output_type": "execute_result"
    }
   ],
   "source": [
    "df.count()"
   ]
  },
  {
   "cell_type": "markdown",
   "metadata": {},
   "source": [
    "### Información sobre los identificadores <a class=\"anchor\" name=\"columnas-identificadores\"/>"
   ]
  },
  {
   "cell_type": "markdown",
   "metadata": {},
   "source": [
    "Se eliminarán todas las filas que no contengan **isbn** ni **isbn13** dado que es un identificador de libro y va ayudar a eliminar libros que no tienen todos los datos cargados."
   ]
  },
  {
   "cell_type": "code",
   "execution_count": 8,
   "metadata": {},
   "outputs": [],
   "source": [
    "df.dropna(subset=[\"isbn\", \"isbn13\"], inplace=True)"
   ]
  },
  {
   "cell_type": "markdown",
   "metadata": {},
   "source": [
    "Las columnas **asin**, **kindel_asin** y **marketplace_id** apenas si tienen valores, por lo que no parecen que vayan a ser estadísticamente relevantes por lo que se pueden eliminar del dataset."
   ]
  },
  {
   "cell_type": "code",
   "execution_count": 9,
   "metadata": {},
   "outputs": [],
   "source": [
    "df.drop(columns = ['asin', 'kindle_asin', 'marketplace_id'], inplace=True)"
   ]
  },
  {
   "cell_type": "markdown",
   "metadata": {},
   "source": [
    "### Información sobre el libro <a class=\"anchor\" name=\"columnas-informacion\"/>"
   ]
  },
  {
   "cell_type": "markdown",
   "metadata": {},
   "source": [
    "Se observa que todos los libros tienen titulo(**title**). En caso contrario se debería suprimir dicho libro."
   ]
  },
  {
   "cell_type": "code",
   "execution_count": 10,
   "metadata": {},
   "outputs": [
    {
     "name": "stdout",
     "output_type": "stream",
     "text": [
      "0\n",
      "0\n"
     ]
    }
   ],
   "source": [
    "print(df.title.isna().sum())\n",
    "df.dropna(subset=[\"title\"], inplace=True)\n",
    "print(df.title.isna().sum())"
   ]
  },
  {
   "cell_type": "markdown",
   "metadata": {},
   "source": [
    "Se observa que sucede con el campo **original_title**"
   ]
  },
  {
   "cell_type": "code",
   "execution_count": 11,
   "metadata": {},
   "outputs": [
    {
     "data": {
      "text/plain": [
       "1349"
      ]
     },
     "execution_count": 11,
     "metadata": {},
     "output_type": "execute_result"
    }
   ],
   "source": [
    "df.original_title.isna().sum()"
   ]
  },
  {
   "cell_type": "markdown",
   "metadata": {},
   "source": [
    "Para los campos que no tienen titulo original, se va a introducir el literal \"unknown\""
   ]
  },
  {
   "cell_type": "code",
   "execution_count": 12,
   "metadata": {},
   "outputs": [],
   "source": [
    "df.original_title.fillna(value=\"unkown\", inplace=True)"
   ]
  },
  {
   "cell_type": "markdown",
   "metadata": {},
   "source": [
    "Las columna **country_code** no contiene nulos pero se ve que todos los valores son iguales por lo que podría ser eliminada."
   ]
  },
  {
   "cell_type": "code",
   "execution_count": 13,
   "metadata": {},
   "outputs": [
    {
     "data": {
      "text/plain": [
       "array(['ES'], dtype=object)"
      ]
     },
     "execution_count": 13,
     "metadata": {},
     "output_type": "execute_result"
    }
   ],
   "source": [
    "df.country_code.unique()"
   ]
  },
  {
   "cell_type": "code",
   "execution_count": 14,
   "metadata": {},
   "outputs": [],
   "source": [
    "df.drop(columns = ['country_code'], inplace=True)"
   ]
  },
  {
   "cell_type": "markdown",
   "metadata": {},
   "source": [
    "#### ¿Qué hacer con la columna de fechas?"
   ]
  },
  {
   "cell_type": "code",
   "execution_count": 15,
   "metadata": {},
   "outputs": [
    {
     "name": "stdout",
     "output_type": "stream",
     "text": [
      "publication_date 6341\n",
      "original_publication_date 808\n"
     ]
    }
   ],
   "source": [
    "print(\"publication_date\", df.publication_date.isna().sum())\n",
    "print(\"original_publication_date\", df.original_publication_date.isna().sum())"
   ]
  },
  {
   "cell_type": "markdown",
   "metadata": {},
   "source": [
    "Tanto la columna **publisher** como **language_code** contienen nulos y deben ser tratados como *unkown* en lugar de como nulos, dado que es una información que no ha sido proporcionada."
   ]
  },
  {
   "cell_type": "code",
   "execution_count": 16,
   "metadata": {},
   "outputs": [
    {
     "name": "stdout",
     "output_type": "stream",
     "text": [
      "6418 19302\n"
     ]
    }
   ],
   "source": [
    "print(\n",
    "    df.publisher.isna().sum(), \n",
    "    df.language_code.isna().sum()\n",
    ")"
   ]
  },
  {
   "cell_type": "code",
   "execution_count": 17,
   "metadata": {},
   "outputs": [],
   "source": [
    "df.publisher.fillna(value=\"unknown\", inplace=True)\n",
    "df.language_code.fillna(value=\"unknown\", inplace=True)"
   ]
  },
  {
   "cell_type": "markdown",
   "metadata": {},
   "source": [
    "La columna **is_ebook** tiene un valor boolean en el que indica si un libro está en formato electrónico o no. En principio no contiene nulos."
   ]
  },
  {
   "cell_type": "code",
   "execution_count": 18,
   "metadata": {},
   "outputs": [
    {
     "data": {
      "text/plain": [
       "array([False,  True])"
      ]
     },
     "execution_count": 18,
     "metadata": {},
     "output_type": "execute_result"
    }
   ],
   "source": [
    "df.is_ebook.unique()"
   ]
  },
  {
   "cell_type": "markdown",
   "metadata": {},
   "source": [
    "Parece que la columna **media_type** tiene nulos, se obtienen los valores únicos:"
   ]
  },
  {
   "cell_type": "code",
   "execution_count": 19,
   "metadata": {},
   "outputs": [
    {
     "data": {
      "text/plain": [
       "array(['book', nan, 'not a book', 'periodical'], dtype=object)"
      ]
     },
     "execution_count": 19,
     "metadata": {},
     "output_type": "execute_result"
    }
   ],
   "source": [
    "df[\"media_type\"].unique()"
   ]
  },
  {
   "cell_type": "markdown",
   "metadata": {},
   "source": [
    "Se comprueba qué tipo de elementos son considerados *not a book*:"
   ]
  },
  {
   "cell_type": "code",
   "execution_count": 20,
   "metadata": {},
   "outputs": [
    {
     "data": {
      "text/html": [
       "<div>\n",
       "<style scoped>\n",
       "    .dataframe tbody tr th:only-of-type {\n",
       "        vertical-align: middle;\n",
       "    }\n",
       "\n",
       "    .dataframe tbody tr th {\n",
       "        vertical-align: top;\n",
       "    }\n",
       "\n",
       "    .dataframe thead th {\n",
       "        text-align: right;\n",
       "    }\n",
       "</style>\n",
       "<table border=\"1\" class=\"dataframe\">\n",
       "  <thead>\n",
       "    <tr style=\"text-align: right;\">\n",
       "      <th></th>\n",
       "      <th>title</th>\n",
       "      <th>media_type</th>\n",
       "    </tr>\n",
       "  </thead>\n",
       "  <tbody>\n",
       "    <tr>\n",
       "      <th>240</th>\n",
       "      <td>The Leadership Challenge</td>\n",
       "      <td>not a book</td>\n",
       "    </tr>\n",
       "    <tr>\n",
       "      <th>259</th>\n",
       "      <td>The Fables of Phaedrus</td>\n",
       "      <td>not a book</td>\n",
       "    </tr>\n",
       "    <tr>\n",
       "      <th>609</th>\n",
       "      <td>Fabeln.</td>\n",
       "      <td>not a book</td>\n",
       "    </tr>\n",
       "    <tr>\n",
       "      <th>1366</th>\n",
       "      <td>The Count of Monte Cristo</td>\n",
       "      <td>not a book</td>\n",
       "    </tr>\n",
       "    <tr>\n",
       "      <th>1367</th>\n",
       "      <td>The Count of Monte Cristo</td>\n",
       "      <td>not a book</td>\n",
       "    </tr>\n",
       "  </tbody>\n",
       "</table>\n",
       "</div>"
      ],
      "text/plain": [
       "                          title  media_type\n",
       "240    The Leadership Challenge  not a book\n",
       "259      The Fables of Phaedrus  not a book\n",
       "609                     Fabeln.  not a book\n",
       "1366  The Count of Monte Cristo  not a book\n",
       "1367  The Count of Monte Cristo  not a book"
      ]
     },
     "execution_count": 20,
     "metadata": {},
     "output_type": "execute_result"
    }
   ],
   "source": [
    "df[[\"title\", \"media_type\"]][df.media_type == \"not a book\"].head()"
   ]
  },
  {
   "cell_type": "markdown",
   "metadata": {},
   "source": [
    "Se verifican ahora los que se consideran *periodical*:"
   ]
  },
  {
   "cell_type": "code",
   "execution_count": 21,
   "metadata": {},
   "outputs": [
    {
     "data": {
      "text/html": [
       "<div>\n",
       "<style scoped>\n",
       "    .dataframe tbody tr th:only-of-type {\n",
       "        vertical-align: middle;\n",
       "    }\n",
       "\n",
       "    .dataframe tbody tr th {\n",
       "        vertical-align: top;\n",
       "    }\n",
       "\n",
       "    .dataframe thead th {\n",
       "        text-align: right;\n",
       "    }\n",
       "</style>\n",
       "<table border=\"1\" class=\"dataframe\">\n",
       "  <thead>\n",
       "    <tr style=\"text-align: right;\">\n",
       "      <th></th>\n",
       "      <th>title</th>\n",
       "      <th>media_type</th>\n",
       "    </tr>\n",
       "  </thead>\n",
       "  <tbody>\n",
       "    <tr>\n",
       "      <th>2987</th>\n",
       "      <td>McSweeney's #24</td>\n",
       "      <td>periodical</td>\n",
       "    </tr>\n",
       "    <tr>\n",
       "      <th>4260</th>\n",
       "      <td>Vimanarama</td>\n",
       "      <td>periodical</td>\n",
       "    </tr>\n",
       "    <tr>\n",
       "      <th>4271</th>\n",
       "      <td>The Invisibles, Vol. 4: Bloody Hell in America</td>\n",
       "      <td>periodical</td>\n",
       "    </tr>\n",
       "    <tr>\n",
       "      <th>4272</th>\n",
       "      <td>The Invisibles, Vol. 6: Kissing Mister Quimper</td>\n",
       "      <td>periodical</td>\n",
       "    </tr>\n",
       "    <tr>\n",
       "      <th>5064</th>\n",
       "      <td>Calvin et Hobbes 7: Que fait la police ?</td>\n",
       "      <td>periodical</td>\n",
       "    </tr>\n",
       "  </tbody>\n",
       "</table>\n",
       "</div>"
      ],
      "text/plain": [
       "                                               title  media_type\n",
       "2987                                 McSweeney's #24  periodical\n",
       "4260                                      Vimanarama  periodical\n",
       "4271  The Invisibles, Vol. 4: Bloody Hell in America  periodical\n",
       "4272  The Invisibles, Vol. 6: Kissing Mister Quimper  periodical\n",
       "5064        Calvin et Hobbes 7: Que fait la police ?  periodical"
      ]
     },
     "execution_count": 21,
     "metadata": {},
     "output_type": "execute_result"
    }
   ],
   "source": [
    "df[[\"title\", \"media_type\"]][df.media_type == \"periodical\"].head()"
   ]
  },
  {
   "cell_type": "markdown",
   "metadata": {},
   "source": [
    "Por último, se revisa cuales son considerados nulos:"
   ]
  },
  {
   "cell_type": "code",
   "execution_count": 22,
   "metadata": {},
   "outputs": [
    {
     "data": {
      "text/html": [
       "<div>\n",
       "<style scoped>\n",
       "    .dataframe tbody tr th:only-of-type {\n",
       "        vertical-align: middle;\n",
       "    }\n",
       "\n",
       "    .dataframe tbody tr th {\n",
       "        vertical-align: top;\n",
       "    }\n",
       "\n",
       "    .dataframe thead th {\n",
       "        text-align: right;\n",
       "    }\n",
       "</style>\n",
       "<table border=\"1\" class=\"dataframe\">\n",
       "  <thead>\n",
       "    <tr style=\"text-align: right;\">\n",
       "      <th></th>\n",
       "      <th>title</th>\n",
       "      <th>media_type</th>\n",
       "    </tr>\n",
       "  </thead>\n",
       "  <tbody>\n",
       "    <tr>\n",
       "      <th>43</th>\n",
       "      <td>Comedy after Postmodernism: Rereading Comedy f...</td>\n",
       "      <td>NaN</td>\n",
       "    </tr>\n",
       "    <tr>\n",
       "      <th>50</th>\n",
       "      <td>Just in Time! Pastoral Prayers in Public Places</td>\n",
       "      <td>NaN</td>\n",
       "    </tr>\n",
       "    <tr>\n",
       "      <th>52</th>\n",
       "      <td>New Essays on 'the Portrait of a Lady'</td>\n",
       "      <td>NaN</td>\n",
       "    </tr>\n",
       "    <tr>\n",
       "      <th>60</th>\n",
       "      <td>Essential Jazz: The First 100 Years (with CD-ROM)</td>\n",
       "      <td>NaN</td>\n",
       "    </tr>\n",
       "    <tr>\n",
       "      <th>63</th>\n",
       "      <td>Ziggy the Zebra</td>\n",
       "      <td>NaN</td>\n",
       "    </tr>\n",
       "  </tbody>\n",
       "</table>\n",
       "</div>"
      ],
      "text/plain": [
       "                                                title media_type\n",
       "43  Comedy after Postmodernism: Rereading Comedy f...        NaN\n",
       "50    Just in Time! Pastoral Prayers in Public Places        NaN\n",
       "52             New Essays on 'the Portrait of a Lady'        NaN\n",
       "60  Essential Jazz: The First 100 Years (with CD-ROM)        NaN\n",
       "63                                    Ziggy the Zebra        NaN"
      ]
     },
     "execution_count": 22,
     "metadata": {},
     "output_type": "execute_result"
    }
   ],
   "source": [
    "df[[\"title\", \"media_type\"]][df.media_type.isna()].head()"
   ]
  },
  {
   "cell_type": "markdown",
   "metadata": {},
   "source": [
    "Se reemplazan los libros con **media_type** *NaN* por *Unknown*:"
   ]
  },
  {
   "cell_type": "code",
   "execution_count": 23,
   "metadata": {},
   "outputs": [
    {
     "data": {
      "text/plain": [
       "array(['book', 'unknown', 'not a book', 'periodical'], dtype=object)"
      ]
     },
     "execution_count": 23,
     "metadata": {},
     "output_type": "execute_result"
    }
   ],
   "source": [
    "df.media_type.fillna(value='unknown', inplace=True)\n",
    "df.media_type.unique()"
   ]
  },
  {
   "cell_type": "markdown",
   "metadata": {},
   "source": [
    "Se analiza la columna **num_pages**, en ella se observa que hay valores nulos. \n",
    "Hay que tenerlo en cuenta a la hora de calcular datos con ésta columna (p.ej la media, etc)."
   ]
  },
  {
   "cell_type": "code",
   "execution_count": 24,
   "metadata": {},
   "outputs": [
    {
     "data": {
      "text/plain": [
       "8032"
      ]
     },
     "execution_count": 24,
     "metadata": {},
     "output_type": "execute_result"
    }
   ],
   "source": [
    "df.num_pages.isna().sum()"
   ]
  },
  {
   "cell_type": "markdown",
   "metadata": {},
   "source": [
    "Además, se comprubea si hay libros con 0 páginas, en ese caso se modifica su valor por np.nan"
   ]
  },
  {
   "cell_type": "code",
   "execution_count": 25,
   "metadata": {},
   "outputs": [
    {
     "data": {
      "text/plain": [
       "8231"
      ]
     },
     "execution_count": 25,
     "metadata": {},
     "output_type": "execute_result"
    }
   ],
   "source": [
    "import numpy as np\n",
    "df.loc[df.num_pages == 0, \"num_pages\"] = np.nan\n",
    "df.num_pages.isna().sum()"
   ]
  },
  {
   "cell_type": "code",
   "execution_count": 26,
   "metadata": {},
   "outputs": [
    {
     "data": {
      "text/plain": [
       "295.09222929936305"
      ]
     },
     "execution_count": 26,
     "metadata": {},
     "output_type": "execute_result"
    }
   ],
   "source": [
    "df.num_pages.loc[~df.num_pages.isna()].mean() #num_pages_mean sin tener en cuenta datos nulos"
   ]
  },
  {
   "cell_type": "code",
   "execution_count": 27,
   "metadata": {},
   "outputs": [
    {
     "data": {
      "text/plain": [
       "array([ 652,  734,    6, ..., 2035, 2408,  754])"
      ]
     },
     "execution_count": 27,
     "metadata": {},
     "output_type": "execute_result"
    }
   ],
   "source": [
    "df.num_pages.loc[~df.num_pages.isna()].astype(\"int64\").unique()"
   ]
  },
  {
   "cell_type": "markdown",
   "metadata": {},
   "source": [
    "Se analiza la columna **format** y se observan valores nulos"
   ]
  },
  {
   "cell_type": "code",
   "execution_count": 28,
   "metadata": {},
   "outputs": [
    {
     "data": {
      "text/plain": [
       "array(['Paperback', 'Audio CD', 'Hardcover', 'Mass Market Paperback', nan,\n",
       "       'Audio Cassette', 'Audio', 'paper', 'Unknown Binding', 'MP3 CD',\n",
       "       'cloth', 'Spiral-bound', 'ebook', 'Audiobook', 'Taschenbuch',\n",
       "       'Map', 'Board Book', 'Book + CD', 'Board book', 'Trade Paperback',\n",
       "       'dust jacket', 'コミック', 'Leather Bound', 'CD-ROM', 'Turtleback',\n",
       "       'Library Binding', 'Boxed Set', 'Single Issue Magazine',\n",
       "       'Loose-Leaf', 'Ring-bound', 'hardback', 'Paperback Manga',\n",
       "       'DVD-ROM', 'audio cd', 'Novelty Book', 'Paperback Boxed Set',\n",
       "       'Trade paperback', 'School &amp; Library Binding', 'Unbound',\n",
       "       'Capa Mole', 'Stencils', 'journal', 'Rag Book', 'Braille',\n",
       "       'paperback', 'Brochura (Paperback)', 'Broché', 'Gebundene Ausgabe',\n",
       "       'Sheet music', 'Cards', 'Loose Leaf', 'Kindle Edition',\n",
       "       'Твердый переплет', 'Paperback in Hard Sleeve',\n",
       "       'Paperback + 2 CDs', 'Hardcover (Travel Size)', 'Chapbook',\n",
       "       'Paperback with CD Rom', 'Poche', 'poche', 'Hardback', 'Bath Book',\n",
       "       'unknown', 'Misc. Supplies', 'Card Book', 'Audio with Paperback',\n",
       "       'Perfect Paperback'], dtype=object)"
      ]
     },
     "execution_count": 28,
     "metadata": {},
     "output_type": "execute_result"
    }
   ],
   "source": [
    "df.format.unique()"
   ]
  },
  {
   "cell_type": "markdown",
   "metadata": {},
   "source": [
    "Para evitar el borrado de muchos libros de forma inncesaria a todos los libros que no tengan un formato especificado se les asigna el formato \"unknown\""
   ]
  },
  {
   "cell_type": "code",
   "execution_count": 29,
   "metadata": {},
   "outputs": [
    {
     "data": {
      "text/plain": [
       "Paperback                       13926\n",
       "unknown                          6555\n",
       "Hardcover                        5525\n",
       "Mass Market Paperback             619\n",
       "Unknown Binding                   374\n",
       "Audio CD                          351\n",
       "Audiobook                         107\n",
       "Audio Cassette                     70\n",
       "Board Book                         58\n",
       "Audio                              42\n",
       "Spiral-bound                       40\n",
       "Leather Bound                      26\n",
       "ebook                              14\n",
       "Library Binding                    14\n",
       "paper                              13\n",
       "cloth                              12\n",
       "Board book                         11\n",
       "Trade Paperback                     9\n",
       "CD-ROM                              7\n",
       "hardback                            5\n",
       "Novelty Book                        5\n",
       "Ring-bound                          5\n",
       "Turtleback                          4\n",
       "Taschenbuch                         4\n",
       "MP3 CD                              4\n",
       "Unbound                             3\n",
       "Poche                               3\n",
       "コミック                                3\n",
       "Broché                              3\n",
       "Kindle Edition                      2\n",
       "                                ...  \n",
       "Chapbook                            1\n",
       "Map                                 1\n",
       "Audio with Paperback                1\n",
       "Hardback                            1\n",
       "poche                               1\n",
       "Твердый переплет                    1\n",
       "Paperback Manga                     1\n",
       "Hardcover (Travel Size)             1\n",
       "dust jacket                         1\n",
       "Stencils                            1\n",
       "Misc. Supplies                      1\n",
       "Paperback with CD Rom               1\n",
       "Sheet music                         1\n",
       "journal                             1\n",
       "DVD-ROM                             1\n",
       "Loose Leaf                          1\n",
       "Paperback Boxed Set                 1\n",
       "Brochura (Paperback)                1\n",
       "Braille                             1\n",
       "Book + CD                           1\n",
       "Bath Book                           1\n",
       "Gebundene Ausgabe                   1\n",
       "Paperback in Hard Sleeve            1\n",
       "Perfect Paperback                   1\n",
       "Trade paperback                     1\n",
       "Single Issue Magazine               1\n",
       "School &amp; Library Binding        1\n",
       "Paperback + 2 CDs                   1\n",
       "Rag Book                            1\n",
       "Card Book                           1\n",
       "Name: format, Length: 66, dtype: int64"
      ]
     },
     "execution_count": 29,
     "metadata": {},
     "output_type": "execute_result"
    }
   ],
   "source": [
    "df.format = df.format.fillna(value=\"unknown\")\n",
    "df.format.value_counts()"
   ]
  },
  {
   "cell_type": "markdown",
   "metadata": {},
   "source": [
    "Del mismo modo que la columna anterior, se analiza la columna **edition_information** y se tratan los valores nulos. "
   ]
  },
  {
   "cell_type": "code",
   "execution_count": 30,
   "metadata": {},
   "outputs": [
    {
     "data": {
      "text/plain": [
       "array([nan, 'First Scholastic Trade Paperback Edition', 'Unabridged',\n",
       "       'First Trade Paperback Edition', '50th Anniversary Edition',\n",
       "       'Authors Guild Backinprint.com Edition', '1st THUS edition',\n",
       "       'Reissue edition', 'High Risk Books Series',\n",
       "       'Penguin Classics Deluxe Edition', 'Dover Giant Thrift Editions',\n",
       "       'First Edition', 'EMC Masterpiece Series Access Editions',\n",
       "       'Kahlil Gibran Pocket Library Series', 'Harlequin Blaze #264',\n",
       "       '(Casebook Edition Text Notes and Criticism)',\n",
       "       '25th Anniversary Special Edition', \"Oxford World's Classics\",\n",
       "       '5th Edition', 'USA / Canada', 'Spanish Edition', 'first',\n",
       "       'US / CAN Edition', 'الطبعة الأولى', 'Abridged',\n",
       "       'Revised and Expanded Edition, Large Print', \"Oprah's Book Club\",\n",
       "       'Third Edition', 'bilingual Greek/English', 'Deluxe Edition',\n",
       "       'Second Edition', '2nd Critical edition', 'Penguin Classics',\n",
       "       'Edición definitiva', 'revised w/new epilogue', 'Sixth Edition',\n",
       "       'Scholastic Classics', 'Holt McDougal Library',\n",
       "       '200th Anniversary Edition', '1st edition', 'Collins Gem',\n",
       "       'Revised Second Edition', 'unabridged', 'Norton Critical Edition',\n",
       "       'Critical Editions', 'slipcased edition', '2nd Revised Edition',\n",
       "       'Modern Classics', 'Large Print', 'thrift', 'Chronicles',\n",
       "       'Large print edition', 'First', '10th Anniversary ',\n",
       "       'Reissue Edition', 'First Love from Silhouette #178',\n",
       "       'Revised Edition, The Viking Portable Library',\n",
       "       'Collins Modern Classics',\n",
       "       'Penguin Great Books of the 20th Century',\n",
       "       'Meisterwerke der Science Fiction', 'Ediciones B',\n",
       "       'Steinbeck Centennial Edition (US / CAN)', 'Core Classics (US)',\n",
       "       'Autores Españoles E Iberoamericanos', 'Vintage Classics',\n",
       "       'First Ballantine Books Edition', 'Penguin Modern Classics',\n",
       "       '1st pbk. ed.', 'Penguin Popular Classics',\n",
       "       'Focus On The Family Great Stories', 'Reprint', 'Original Edition',\n",
       "       'Centennial Edition', 'The Definitive and Extended Edition',\n",
       "       'updated', 'Illustrated Graphic Novel',\n",
       "       'Bilingual English and Spanish', 'Reprint Edition',\n",
       "       'Cambridge Wizard English Student Guides', \"Everyman's Library\",\n",
       "       'Silhouette Bombshell #66', 'Silhouette Bombshell #041',\n",
       "       'Faber and Faber Screenplays', 'Omnibus',\n",
       "       'Signed Edition Limited to 1500 Unnumbered copies',\n",
       "       'First Anchor Books Edition (US/CAN)', 'No Fear Shakespeare',\n",
       "       'Monarch Notes', 'Puffin Modern Classics', 'Full Cast Production',\n",
       "       'Revised and Updated', '75th Anniversary Edition', '1st',\n",
       "       'Mundos Asombrosos', '20th Anniversary Edition',\n",
       "       'Random House Trade Paperback Edition', 'movie tie-in',\n",
       "       'Wings Books Edition', 'With flip book', 'Later Printing edition',\n",
       "       'Costerus New Series 68', 'Slipcase', '25th Anniversary Edition',\n",
       "       'First Riverhead trade paperback edition', 'US/CAN', 'US/CAN/UK',\n",
       "       'First Ballantine Books Edition (US/CAN), Reissue Edition',\n",
       "       'First Edition (U.S.)', 'Contemporary American Fiction',\n",
       "       'Movie Tie-in Edition',\n",
       "       'The Viking Portable Library, Revised Edition',\n",
       "       'Compactos Anagrama', 'Time Reading Program Special Edition',\n",
       "       'Non-Classics', 'Vintage Contempories', 'Large Print Edition',\n",
       "       \"Lunes d'encre\", 'Six Volume Box Set ',\n",
       "       \"New York Public Library Collector's Edition\",\n",
       "       'First Vintage International edition', 'Lecturas de Poesia 1',\n",
       "       'Boxed Set', 'Folio SF', 'First Evergreen Edition', '2nd Edition',\n",
       "       'UK / AUS / NZ', 'Modern Library Edition', 'Illustrated',\n",
       "       'The Viking Critical Library (US/CAN)', \"Reader's Circle\",\n",
       "       'Bantam Classic Reissue', 'Oxford School Shakespeare',\n",
       "       'The New Cambridge Shakespeare',\n",
       "       'Loeb Classical Library #56 (Greek and English)',\n",
       "       'Loeb Classical Library #57 (old version)(Greek and English)',\n",
       "       '1st ', 'First Mass Market Edition',\n",
       "       'Silhouette Special Editions #1027', 'First Tor Edition',\n",
       "       '10th anniversary ed.', \"Author's Preferred Text edition\",\n",
       "       'Colección Booket', 'Less Bleak Edition', 'German-English Edition',\n",
       "       'Sonderausgaben', 'New Edition', 'Deckle Page Edition',\n",
       "       'Canongate Myths', 'Movie Tie-In Edition',\n",
       "       ' (Collins Modern Classics)', '1st edition Conceptos Básicos',\n",
       "       'Box Set', 'Large Format Illustrated Edition', '7th Edition',\n",
       "       'Fourth Edition', 'First American Edition', 'Large Print edition',\n",
       "       'First Vintage Contemporaries Edition', 'Literatura Mondadori',\n",
       "       'Common Reader Edition', 'Agatha Christie Signature Edition',\n",
       "       'Agatha Christie Collection', 'Collected Works of P.G. Wodehouse',\n",
       "       'Facsimile of first edition', 'Revised',\n",
       "       'Revised and Expanded Second Edition', '10th Anniversary Edition',\n",
       "       'First edition', 'Media Tie-In; Vintage Crime / Black Lizard',\n",
       "       'Twentieth Century Classics (CAN/US)', '60th Anniversary edition',\n",
       "       ' (C.B. Charmers)', 'Third revision', 'Everyman Wodehouse',\n",
       "       '2000 Reprint (1st edition in Penguin 1945)',\n",
       "       'The Standard Edition - Complete Psychological Works of Sigmund Freud',\n",
       "       '(Theory &amp; History of Literature Volume 8)',\n",
       "       'Unabridged - Library Ed', 'First Anchor Books Edition',\n",
       "       \"Everyman's Library Classics, #6\", '2nd Revised Edition (1995)',\n",
       "       'Bantam Classic', 'Norton Critical Editions',\n",
       "       'Penguin Classics Reprint Edition (UK/CAN)',\n",
       "       'Longman Cultural Editions', 'BBC Radio Collection',\n",
       "       'Silhouette Desire #1686', '3rd edition',\n",
       "       'Tenth Anniversary Edition', ' Tv Tie In',\n",
       "       'Complete Revised and Updated Edition',\n",
       "       'Matt Christopher Sports Classics', '2-in-1', '37th', 'Trade',\n",
       "       'Crime masterworks #10', 'Film Tie-In Edition',\n",
       "       'U.K. Paperback Edition; Movie tie-in cover',\n",
       "       'US, New American Library Essential Editions', 'US, Abridged',\n",
       "       'Jet', 'Harlequin Presents, #2418', 'UK Edition', '5th',\n",
       "       '150th Anniversary Edition', 'Verso Radical Thinkers', 'Reissue',\n",
       "       'All-New Third Edition', 'TCG Translations',\n",
       "       'BBC Radio 4 Full-Cast Dramatisation ', 'Biblioteca mínima',\n",
       "       \"Editor's Choice (2nd edition)\",\n",
       "       'Signed, Limited to 1500 Unnumbered copies',\n",
       "       'Colección Andanzas, #568', 'Screenplay', '(Library Edition)',\n",
       "       'First mass market edition', 'Harper Trophy Book',\n",
       "       \"Kierkegaard's Writings #3\", '10th', 'Bristol Latin Texts',\n",
       "       'Corps 16', 'Revised &amp; Expanded', '3rd Edition',\n",
       "       'Book Club Box Set Edition', 'Seventh Edition', 'Past Masters',\n",
       "       'Loeb Classical Library #121 (Greek and English)',\n",
       "       'El libro de bolsillo. Biblioteca de autor', \"L'imaginaire\",\n",
       "       'Letras Universales', '1st edition  (Art &amp; Imagination)',\n",
       "       'Book Club Edition', 'International Edition', '6th edition',\n",
       "       'Pocket Mystery 45527-3', 'Revised Edition', '2nd edition',\n",
       "       'Second  Edition', 'International Socialism',\n",
       "       '10th Anniversary Edition (Devotional Supplement Included)',\n",
       "       '15th printing', '26th Edition', '4th Printing edition',\n",
       "       'Large print', 'Candlelight Ecstasy #21', \"collectors'\",\n",
       "       \" ('Cong ming nu ren zhi fu qi zhao', in traditional Chinese, NOT in English)\",\n",
       "       'with audiocassette', '9th Edition',\n",
       "       \"Third Edition of 1857, Oxford World's Classics\", 'with 3 CDs',\n",
       "       'First Perennial Classics Edition', 'Action Edition',\n",
       "       'Arden Shakespeare Edition, revised and reset', 'deluxe',\n",
       "       'Norton Critical Edition - Second Edition', 'Third Printing',\n",
       "       'Norton Critical Edition; Second Edition', 'Omnibus Edition',\n",
       "       '40th Anniverary Edition', 'Book-of-the-Month Club',\n",
       "       'Third Series', '2002 Modern Library paperback edition (USA/CAN)',\n",
       "       '3rd', 'Oxford School Shakespeare (UK)', 'German Edition',\n",
       "       'European Classics', 'Easy Readers-Level 4',\n",
       "       'Heartsong Presents #255', 'Loveswept #807', 'First Trade',\n",
       "       '8th Edition', 'Prion Humour Classics',\n",
       "       'S &amp; S Classic Edition (US/CAN', 'definitive 2nd',\n",
       "       '(Penguin Classics)', 'CliffsComplete', 'Book Club Hardcover',\n",
       "       'Special Edition', 'Daw Science Fiction',\n",
       "       'Harlequin Historical #38', 'first book publication',\n",
       "       '1st paperback edition', 'Avon', 'Penguin',\n",
       "       'Unabridged. 9 cassettes.', 'unabridged edition',\n",
       "       'limited to 500 copies, unnumbered', 'School Market Edition',\n",
       "       'Deluxe Edition (Literary Classics)', 'Annotated Edition',\n",
       "       'Heinemann Guider Readers', 'Cloth Bound Pocket Series',\n",
       "       'Expanded Paperback Edition', 'Library Edition',\n",
       "       'Vintage International', 'ARC Proof',\n",
       "       'Harlequin Super Romance #1248',\n",
       "       'Silhouette Special Edition #1683', 'no. 73008',\n",
       "       '30th Anniversary Edition', 'First North American Edition',\n",
       "       '1st Edition', 'Nookbook', 'SF Masterworks', 'F-702',\n",
       "       ' (2nd Edition)  ', 'Tor Orb',\n",
       "       'Classics of Modern Science Fiction', '1st HarperBusiness ed.',\n",
       "       'The Uncensored Original Edition', 'Enriched Classics', '4',\n",
       "       '12th', 'First Scholastic Printing edition', '5th edition',\n",
       "       'Arkangel Complete Shakespeare', 'Revised and updated',\n",
       "       'Bestseller', 'Harlequin Intrigue #573',\n",
       "       'Harlequin Historical Series, No. 577', 'Silhouette Bombshell #14',\n",
       "       'Audiofy Digital Audiobook Chips',\n",
       "       '(Lecture Notes in Computer Science)', 'Revised edition',\n",
       "       'Collección Andanzas', 'Biblioteca Jorge Luis Borges',\n",
       "       'Revised Edition (1973)', '1', \"The Louis L'Amour Collection\",\n",
       "       '4th edition', 'Later Printing', 'Colección Textos del Escribidor',\n",
       "       '1ª Edición', 'First Mariner Books edition', 'Biblioteca de autor',\n",
       "       'First Scribner Paperback Fiction Edition', '21st edition',\n",
       "       'Updated and Expanded Edition', 'Bilingual edition',\n",
       "       '1st. ed.; Printed on acid-free paper.',\n",
       "       'The Viking Portable Library',\n",
       "       'Libro de bolsillo nº 399 Sección Literatura',\n",
       "       'Illustrated Classics', 'Letras Universales #318', 'Compactos',\n",
       "       'US', 'Booket', 'Modern Library Paperbacks', 'Large Edition',\n",
       "       'No Fear Shakespeare (US/CAN)', \"With Reader's Guide\",\n",
       "       'Modern Library Classics', 'Fifth Edition', 'revised',\n",
       "       'Third edition', 'signed limited to 750 numbered copies',\n",
       "       '12th Edition', 'Compact Seventh Edition',\n",
       "       'Harlequin Intrigue #657, Flesh &amp; Blood #2',\n",
       "       'W/Sci-Fi Pinball CD Rom', 'Expanded, Anniversary Edition',\n",
       "       'Pocket', 'Byblos', 'La trama', 'Harlequin Romance #2060', '7th',\n",
       "       'Unabridged, 2 Cassettes', 'Virago Modern Classics', 'US / Canada',\n",
       "       'D2419', 'Library Edition, Unabridged', '57',\n",
       "       'First Owl Books Edition 1998', '6th edition, abridged',\n",
       "       'Aula de Literatura', '2nd', 'Complete and unabridged',\n",
       "       '(Foreign Relations and the Presidency, No. 5)',\n",
       "       'Canongate Myth Series', 'Penn Reading Project Edition',\n",
       "       'Signet Classics', 'Tenth Edition', 'Ninth Edition',\n",
       "       'Second edition', 'Summer Reading Edition',\n",
       "       'Colección Best Sellers', 'Los Jets de Plaza &amp; Janés',\n",
       "       'Precious Gems #46', 'New Ed edition', '1st ed.',\n",
       "       'First Vintage Edition', 'Biblioteca del Sur',\n",
       "       'Love Spell: Timeswept #44', 'Nouvelle edition', 'rororo',\n",
       "       'de bolsillo', '1st U.S. Paperback Edition',\n",
       "       'DAW book collectors #1151', 'Metatemas',\n",
       "       'Edición del IV centenario', 'Mills &amp; Boon Medical #978',\n",
       "       'Narrativas hispánicas',\n",
       "       'Cambridge School Shakespeare, 2nd Edition',\n",
       "       'Byblos Ciencia Ficcion,516/1', 'School market', 'Folio', 'UK',\n",
       "       'Dover Thrift Editions', 'Rowohlts Monographien',\n",
       "       ' Clásicos de la literatura,18', 'Man of the Month #119', '9th',\n",
       "       '1st edition Biblioteca Umberto Eco. Palabra en el tiempo [265]',\n",
       "       'Narrativa Salamandra',\n",
       "       '100th Anniversary Edition - Books of Wonder',\n",
       "       '1st edition Sabiduría perenne', \"Ladybird Children's Classics\",\n",
       "       \"Webster's French Thesaurus Edition\", 'Universale Economica #1302',\n",
       "       'Biblioteca Adelphi #482', 'Crónicas Anagrama ',\n",
       "       'Biblioteca Didactica Anaya', '4th',\n",
       "       'Galería literaria contemporánea',\n",
       "       'First Edition, Library Binding', 'Harlequin Blaze #16',\n",
       "       'revised paperback edition', 'Flipped',\n",
       "       'Harlequin American Romance #845', 'Žepnice',\n",
       "       '100th anniversary edition',\n",
       "       'Pantheon Fairy Tale and Folklore Library', 'Expanded',\n",
       "       'Ed. ilustrada', 'First Edition (U.S./U.K.)', 'Colección Austral',\n",
       "       'Study guide edition', 'Ballinger Publishing',\n",
       "       'Deluxe 25th Anniversary Edition', '28th Edition',\n",
       "       'A Marvel Illustrated Novel', 'Quarterstick Records',\n",
       "       'Colección Argumentos', 'UK edition', 'Überarbeitete Neuausgabe',\n",
       "       'Biblioteca Eduardo Mendoza, #3', 'Longman Critical Edition',\n",
       "       \"Full-Color Collector's Edition\", 'Larger Print',\n",
       "       'Historia Universal Asimov', '1th edition Serie Mayor',\n",
       "       '4th Edition', 'Bruguera Libro amigo',\n",
       "       'Booket, Novela Historica 6007', 'Biblioteca Breve',\n",
       "       'Tascabili Bompiani #283', 'Western Philosophy',\n",
       "       'Colección Quinteto', '21st century', 'First U.S. Edition',\n",
       "       'Biblioteka Dometi', 'Poètica',\n",
       "       'Biblioteca temática: Fantasía y terror', 'Expanded Edition',\n",
       "       'Colección Visor Narrativa', 'Biblioteca de bolsillo',\n",
       "       'Edición especial', \"Everyman's Library, #3\",\n",
       "       'Серия: Азбука. The Best', 'Penguin Twentieth-Century Classics',\n",
       "       'Harlequin Romance #2061', 'English Edition',\n",
       "       'Halrequin Romance #2564', 'Biblioteca Calvino',\n",
       "       'Présence du futur', 'Deluxe 30th Anniversary',\n",
       "       'The Penguin English Library',\n",
       "       '8th Printing, Motion Picture Tie-in',\n",
       "       'Tascabili Bompiani - Classici per Ragazzi',\n",
       "       'Revised 2012 Edition', 'Compactos #93', 'Únicos',\n",
       "       'Clasicos Hispanicos',\n",
       "       'slipcased edition limited to 2000 copies, unsigned, unnumbered',\n",
       "       \"Everyman's Library \", 'Domaine étranger',\n",
       "       'I libri di Italo Calvino',\n",
       "       '1st edition Special Edition Arqueología Mexicana',\n",
       "       '1st edition Sección de obras de antropología',\n",
       "       'revised, expanded', 'Film tie-in ed.',\n",
       "       '1st edition Nueva Consciencia', 'New York Review Books Classics',\n",
       "       'Mínima Minor', 'Twelfth Impression', '60th Anniversary ',\n",
       "       '1st U.S.', 'Panorama de narrativas', 'texte intégral',\n",
       "       'Methuen Modern Plays', 'Biblioteca de fantasía y terror',\n",
       "       'Dual Language Edition', 'Thirtieth Anniversary Edition',\n",
       "       'Silhouette Desire #1514', 'LCC 8747742', '11th printing',\n",
       "       'Grand Master Edition', 'CAN / US', \"Special Collector's Edition\",\n",
       "       'Crimeline', 'first edition', '10th Edition',\n",
       "       'New Revised Edition', 'Rororo #23140', 'Charming Classics',\n",
       "       'Xbox 360/PSP', 'Einaudi Tascabili #180', 'Gesammelte Werke #39',\n",
       "       'édition de Noel Arnaud', 'Revised and Enlarged Edition',\n",
       "       'Routledge Classics', '3rd Revised edition',\n",
       "       'The Viking Portable Library #96', \"The World's Classics\",\n",
       "       'Silhouette Romance , No 1296', 'Fifth edition', 'Werkedition',\n",
       "       'Akal Bolsillo', 'Greek and Latin Classics', 'Classiques en poche',\n",
       "       \"Oxford World's Classics Reissue\", 'Movie Tie In',\n",
       "       'Folger Shakespeare Library', 'Second Revised Edition',\n",
       "       '2006-07 edition',\n",
       "       \"Profil littérature. Série profil d'une oeuvre, #40\",\n",
       "       'French, English, Persian', 'Second Edition ',\n",
       "       'Agatha Christie signature ed', 'A Minstrel Book',\n",
       "       '+ preview Seize the Night', 'omnibus', 'Oxford World’s Classics',\n",
       "       'Seventh edition', 'Film and TV Tie-In Edition',\n",
       "       'John Nunn edition', 'Corrected ed.', 'Unabridged Edition',\n",
       "       'New Library of the Universe',\n",
       "       '1st edition Theory Out of Bounds [20]',\n",
       "       'Parallel English and Spanish Texts', 'El Ojo Sin Párpado',\n",
       "       'Biblioteca Clasica Y Contemporanea', 'First Edition (U.K.)',\n",
       "       'Masquerade #84', 'Nuovi Coralli #86',\n",
       "       '1st edition Historia inmediata', 'Special Overseas Edition',\n",
       "       \"Everyman's Library #287 (US / CAN)\", 'Keepsake Edition',\n",
       "       'Bilingual Edition', 'Harlequin Romance #2328',\n",
       "       '2nd Edition, Revised', 'Inner Work Book', 'Sixth edition',\n",
       "       '4ª edición, colección &quot;Clásicos del pensamiento&quot; (n.25)',\n",
       "       'Unabridged ', 'Illustrated edition', 'New Directions edition',\n",
       "       'Reading Group Guides', 'First paperback',\n",
       "       'Fantasy Masterworks #46', 'Bookclub edition',\n",
       "       'Lifestyles Paperback', '1855', 'Tor Double 13', 'Star Wars',\n",
       "       'DK Classics', 'Treasury of Illustrated Classics',\n",
       "       'Classic Starts Series', 'Second Printing',\n",
       "       'Silhouette Special Edition #1360', 'Harlequin Romance #1666',\n",
       "       'Movie novelisation', 'Vintage Ace Sf, F 279',\n",
       "       'Scientists in the Field', \"Kierkegaard's Writings #7\",\n",
       "       '1a edition', \"Children's Edition\", 'Literatura Alfaguara',\n",
       "       ' With STUDENT CONSULT Online Access (Rapid Review)',\n",
       "       'Pegasus (Booket)', 'El Barco de Vapor', 'MacFadden Romance #161',\n",
       "       'Landmark Series : Horror, No. 2',\n",
       "       'Limited Edition, 3500 signed copies', 'Dyslexia Friendly',\n",
       "       'Loeb Classical Library #62 (Latin and English)', 'Tor',\n",
       "       'Trayectos: Vidas y letras 44', 'Silhouette Romance #877',\n",
       "       'Large Print, Love Inspired #356', 'Ace', '6th Edition',\n",
       "       'Harlequin Intrigue #923', 'Braille', 'Piccolo', 'special',\n",
       "       'Illustrated Edition', 'Dual-Language Book',\n",
       "       'Colección Letras Alegres', 'Colección Crepúsculo',\n",
       "       'Limited 1st edition', 'Second', 'New Windmills', 'Uncanny X-Men',\n",
       "       '10th edition', 'Mills &amp; Boon Large Print',\n",
       "       'Harlequin Historical #391', 'Collection Folio n° 806 ',\n",
       "       'Sepan Cuantos, #631', 'The Oxford Shakespeare', 'Third',\n",
       "       'Limited Edition', 'Passepartout', 'Corgi',\n",
       "       '1st Scholastic Edition', 'Folio policier #195',\n",
       "       '1st Spanish Edition (Translated from 3rd English Edition)',\n",
       "       'Marvel Premiere HC', 'OPUS', 'Ready-to-Read, Level 3', 'Pastel',\n",
       "       '1st American ed.', '100th Anniversary Edition', 'Reillustrated',\n",
       "       'Expanded Second Edition', 'Barnes &amp; Noble Classics',\n",
       "       'Classic Library', 'Crown Journeys',\n",
       "       'John Constantine, Hellblazer Novels #3', 'QPB', 'illustrated',\n",
       "       'El barco de papel', 'First Perennial edition', 'Revised edition ',\n",
       "       'چاپ دوم', 'Norton Critical Editions: Second Edition',\n",
       "       'First Signet Classic Printing', 'Manuel Dalloz de droit usuel',\n",
       "       'Graphic novel', 'concise', 'Language of Love #21 - Orchid',\n",
       "       'French/English Bilingual', 'First Scholastic printing',\n",
       "       'Peanuts Colour', 'Abridged By The Author', 'Skylark Novel',\n",
       "       'Universale Economica #1078', 'Penguin 60s',\n",
       "       'Reprinted with corrections ',\n",
       "       'Red Letter Indexed Bonded Black Leather',\n",
       "       'A Fully Annotated Edition', '1st U.S. Edition', 'Harper Torch',\n",
       "       'Applause Books', \"Webster's Chinese Simplified Thesaurus Edition\",\n",
       "       '16. Auflage', ' 8th Edition ', '25th anniversary edition',\n",
       "       '8 discs', 'Unabridged edition', 'American Folk Tales', '5',\n",
       "       '7th edition', 'Revised Edition 2000',\n",
       "       'Harlequin Intrigue #981, Bodyguards Unlimited, Denver, Colorado #2',\n",
       "       'Signet Edition', ' Heyne #62, Diana-Taschenbuch #0190',\n",
       "       'Biblioteca de la memoria 6', 'Eighth Edition',\n",
       "       'Translation by Oriana Fallaci', 'KJV', 'First Paperback Edition',\n",
       "       \"Louis L'Amour Collection\",\n",
       "       'The Agatha Christie Mystery Collection',\n",
       "       '(Christian Peace Shelf Series)', 'Diorama',\n",
       "       'Présence du futur n° 500', 'Livre de Poche - biblio',\n",
       "       '4 Book Boxed Set', 'Storytime Classics',\n",
       "       \"Methuen's Twentieth Century French Texts\", 'The Penguin Proust',\n",
       "       'Library of Freedom - 1883', 'first paperback edition',\n",
       "       'Cambridge School Shakespeare', 'Mills &amp; Boon Romance #2714',\n",
       "       \"World's Classics, Abridged\", 'Paperback Health Communications',\n",
       "       'with audiocassette, Abridged',\n",
       "       'Gilded Holographic Foil Hardcover Edition', 'No. 300 (UJ1393)',\n",
       "       'City Lights Pocket Poets Series, #47',\n",
       "       'Tutone Leatherlike Brown/Tan NKJV', 'Abridged edition',\n",
       "       'Teadue #825', 'Silhouette Desire, #1184',\n",
       "       'Harlequin Super Romance, #358', 'Tankoubon',\n",
       "       'Littérature &amp; Documents', 'Corrected Fifth Printing',\n",
       "       'The New Penguin Shakespeare (UK/CAN/USA)',\n",
       "       \"Andersen Young Readers' Library\", 'Trumpet Special edition',\n",
       "       'New York review books classics', \"Quest'Italia\",\n",
       "       'Oscar Opere di Italo Calvino', 'Macmillan Master Guides',\n",
       "       '1st edition Sección de obras de historia',\n",
       "       \"Corgi SF Collector's Library\", 'Junior Mondadori',\n",
       "       'Penguin Classic', 'Libro de Bolsillo 604 Seccion Literatura',\n",
       "       'York Medieval Texts', 'New English Library Edition (UK/AUST.)',\n",
       "       'Silhouette Special Edition', 'Islamiques',\n",
       "       'With Printed Access Card/Thomsonnow/Infotrac',\n",
       "       \"Children's Thrift Classics\", 'large print',\n",
       "       'Weimar &amp; Now: German Cultural Criticism 12', 'Eminent Lives',\n",
       "       'Penguin Great Ideas', 'Dangerous to Love USA #3',\n",
       "       'Little Apple Paperback', 'Dover Military History Weapons Armor',\n",
       "       '1st edition Oxford Paperbacks [83]', 'First Printing',\n",
       "       ' Tra edition', 'Gli struzzi. Società #55', 'Deluxe Leatherbound',\n",
       "       'Penguin C2025; 1st Penguin Reprint - BBC TV Cover',\n",
       "       'Hometown Reunion #9', 'Love Inspired, #180', 'School Market',\n",
       "       'SFBC Omnibus edition',\n",
       "       'Bantam Agatha Christie Mystery Collection',\n",
       "       'Harlequin Presents #2307', 'Colección Andanzas',\n",
       "       \"Guide d'étude et roman\", 'Regard littéraire',\n",
       "       'The Complete Classics', '3rd edtion', 'Expanded Third Edition',\n",
       "       '#W187', 'A Reconstructive Critical Edition', 'Hb289',\n",
       "       '(Wheeler Large Print Book Series)',\n",
       "       'Il Narratore Italian Literature on Tape',\n",
       "       'Unabridged 15 Volume Set',\n",
       "       'First Edition (A Robert Stewart Book)', 'Masquerade #30',\n",
       "       'Letras Hispánicas', 'Anejos De Biblioteca Clásica',\n",
       "       'Letras universales',\n",
       "       'Loeb Classical LIbrary #123 (Greek and English)',\n",
       "       'American Edition', 'Reprint ', 'Special Scholastic Edition',\n",
       "       'Holiday Feature Edition', 'Du monde entier, A71077',\n",
       "       'Containing the Old and New Testaments in the King James Version (Self-Pronouncing Red Letter Edition Gift and Award Bible Black Leatherflex #162M)',\n",
       "       \"Everyman's Library 135 (US/CAN)\", 'GOLLANCZ S.F.',\n",
       "       'Flamingo originals'], dtype=object)"
      ]
     },
     "execution_count": 30,
     "metadata": {},
     "output_type": "execute_result"
    }
   ],
   "source": [
    "df.edition_information.unique()"
   ]
  },
  {
   "cell_type": "markdown",
   "metadata": {},
   "source": [
    "Para evitar el borrado de muchos libros de forma inncesaria se asigna el formato \"unknown\". "
   ]
  },
  {
   "cell_type": "code",
   "execution_count": 33,
   "metadata": {},
   "outputs": [
    {
     "data": {
      "text/plain": [
       "unknown           26236\n",
       "Abridged            174\n",
       "Large Print          92\n",
       "Second Edition       87\n",
       "First Edition        47\n",
       "Name: edition_information, dtype: int64"
      ]
     },
     "execution_count": 33,
     "metadata": {},
     "output_type": "execute_result"
    }
   ],
   "source": [
    "df.edition_information = df.edition_information.fillna(value=\"unknown\")\n",
    "df.edition_information.value_counts().head()"
   ]
  },
  {
   "cell_type": "markdown",
   "metadata": {},
   "source": [
    "Se puede observar que en la mayoría de los casos no se ha propocionado información por lo que esta información puede terminar no siendo de utilidad. "
   ]
  },
  {
   "cell_type": "markdown",
   "metadata": {},
   "source": [
    "### Información sobre los usuarios <a class=\"anchor\" name=\"columnas-usuarios\"/>"
   ]
  },
  {
   "cell_type": "markdown",
   "metadata": {},
   "source": [
    "Las columnas **books_count** y **best_book_id** no tienen un valor relevante para este estudio por lo que se eliminan del set de datos."
   ]
  },
  {
   "cell_type": "code",
   "execution_count": 34,
   "metadata": {},
   "outputs": [],
   "source": [
    "df.drop(columns=[\"books_count\", \"best_book_id\"], inplace=True)"
   ]
  },
  {
   "cell_type": "markdown",
   "metadata": {},
   "source": [
    "Se observan si existen nulos en las columnas referidas a las valoraciones de los usuarios:"
   ]
  },
  {
   "cell_type": "code",
   "execution_count": 36,
   "metadata": {},
   "outputs": [
    {
     "name": "stdout",
     "output_type": "stream",
     "text": [
      "reviews_count: 0\n",
      "ratings_sum: 0\n",
      "ratings_count: 0\n",
      "text_reviews_count: 0\n",
      "text_reviews_count_global: 0\n",
      "num_ratings_5: 0\n",
      "num_ratings_4: 0\n",
      "num_ratings_3: 0\n",
      "num_ratings_2: 0\n",
      "num_ratings_1: 0\n",
      "average_rating: 0\n",
      "rating_count_global: 0\n",
      "to read: 42\n",
      "read: 0\n",
      "currently reading: 9580\n"
     ]
    }
   ],
   "source": [
    "print(\"reviews_count: {}\".format(df[\"reviews_count\"].isna().sum()))\n",
    "print(\"ratings_sum: {}\".format(df[\"ratings_sum\"].isna().sum()))\n",
    "print(\"ratings_count: {}\".format(df[\"ratings_count\"].isna().sum()))\n",
    "print(\"text_reviews_count: {}\".format(df[\"text_reviews_count\"].isna().sum()))\n",
    "print(\"text_reviews_count_global: {}\".format(df.text_reviews_count_global.isna().sum()))\n",
    "print(\"num_ratings_5: {}\".format(df[\"num_ratings_5\"].isna().sum()))\n",
    "print(\"num_ratings_4: {}\".format(df[\"num_ratings_4\"].isna().sum()))\n",
    "print(\"num_ratings_3: {}\".format(df[\"num_ratings_3\"].isna().sum()))\n",
    "print(\"num_ratings_2: {}\".format(df[\"num_ratings_2\"].isna().sum()))\n",
    "print(\"num_ratings_1: {}\".format(df[\"num_ratings_1\"].isna().sum()))\n",
    "print(\"average_rating: {}\".format(df.average_rating.isna().sum()))\n",
    "print(\"rating_count_global: {}\".format(df.ratings_count_global.isna().sum()))\n",
    "print(\"to read: {}\".format(df.to_read.isna().sum()))\n",
    "print(\"read: {}\".format(df.read.isna().sum()))\n",
    "print(\"currently reading: {}\".format(df.currently_reading.isna().sum()))"
   ]
  },
  {
   "cell_type": "markdown",
   "metadata": {},
   "source": [
    "Se analiza la columna **average_rating**. En caso de no tener valores, se deberían filtrar los registros que correspondan en una vista para hacer calculos. P.ej calcular los libros que tengan valoración por encima de la media.\n",
    "\n",
    "A priori, no se observan libross sin valoración media."
   ]
  },
  {
   "cell_type": "code",
   "execution_count": 42,
   "metadata": {},
   "outputs": [
    {
     "data": {
      "text/plain": [
       "0.0    2980\n",
       "4.0    1451\n",
       "3.0     730\n",
       "5.0     645\n",
       "3.5     424\n",
       "Name: average_rating, dtype: int64"
      ]
     },
     "execution_count": 42,
     "metadata": {},
     "output_type": "execute_result"
    }
   ],
   "source": [
    "df.average_rating.fillna(value=\"unknow\", inplace=True)\n",
    "df.average_rating.value_counts().head()"
   ]
  },
  {
   "cell_type": "markdown",
   "metadata": {},
   "source": [
    "A continuación se trata el campo **ratings_count_global**. Representa el total de valoraciones que ha recibido el libro.\n",
    "En caso de tener algun valor nulo, se reemplaza por cero."
   ]
  },
  {
   "cell_type": "code",
   "execution_count": 44,
   "metadata": {},
   "outputs": [],
   "source": [
    "df.ratings_count_global.fillna(value=0, inplace=True)"
   ]
  },
  {
   "cell_type": "markdown",
   "metadata": {},
   "source": [
    "Además, el tipo de datos es el correcto para un contador"
   ]
  },
  {
   "cell_type": "code",
   "execution_count": 41,
   "metadata": {},
   "outputs": [
    {
     "data": {
      "text/plain": [
       "dtype('int64')"
      ]
     },
     "execution_count": 41,
     "metadata": {},
     "output_type": "execute_result"
    }
   ],
   "source": [
    "df.ratings_count_global.dtype"
   ]
  },
  {
   "cell_type": "markdown",
   "metadata": {},
   "source": [
    "Las columnas **to_read**, **read**, **currently_reading** se interprentan como un contador con la gente que ha leído, está leyendo o va leer el libro, por lo que se establece que los valores nulos se sustituyen por 0."
   ]
  },
  {
   "cell_type": "code",
   "execution_count": 46,
   "metadata": {},
   "outputs": [],
   "source": [
    "df.to_read.fillna(value=0, inplace=True)\n",
    "df.read.fillna(value=0, inplace=True)\n",
    "df.currently_reading.fillna(value=0, inplace=True)"
   ]
  },
  {
   "cell_type": "markdown",
   "metadata": {},
   "source": [
    "Dado que representa un número de personas, expresamos los resultados como números enteros"
   ]
  },
  {
   "cell_type": "code",
   "execution_count": 51,
   "metadata": {},
   "outputs": [
    {
     "data": {
      "text/plain": [
       "0        22382\n",
       "1        39685\n",
       "3        19129\n",
       "4        16741\n",
       "5          841\n",
       "6        20328\n",
       "7           22\n",
       "8            1\n",
       "9            0\n",
       "10           1\n",
       "11          22\n",
       "12          20\n",
       "13          98\n",
       "14           3\n",
       "15          17\n",
       "16          13\n",
       "17          44\n",
       "18          44\n",
       "19           1\n",
       "20        2716\n",
       "21         831\n",
       "22          21\n",
       "23           1\n",
       "24        1625\n",
       "25           0\n",
       "26           0\n",
       "27          25\n",
       "28           0\n",
       "29       55587\n",
       "30       55587\n",
       "         ...  \n",
       "28332        0\n",
       "28333        0\n",
       "28334        0\n",
       "28335        0\n",
       "28336        1\n",
       "28337        0\n",
       "28338        0\n",
       "28339      833\n",
       "28340      393\n",
       "28341        9\n",
       "28342      409\n",
       "28343      181\n",
       "28344        0\n",
       "28345        0\n",
       "28346        0\n",
       "28347        1\n",
       "28348       25\n",
       "28349        8\n",
       "28350        0\n",
       "28351        0\n",
       "28352        0\n",
       "28353       21\n",
       "28354        0\n",
       "28355       79\n",
       "28356        5\n",
       "28357        2\n",
       "28358        0\n",
       "28359        1\n",
       "28360        0\n",
       "28361      117\n",
       "Name: currently_reading, Length: 27856, dtype: int64"
      ]
     },
     "execution_count": 51,
     "metadata": {},
     "output_type": "execute_result"
    }
   ],
   "source": [
    "df.to_read.astype('int64')\n",
    "df.read.astype('int64')\n",
    "df.currently_reading.astype('int64')"
   ]
  },
  {
   "cell_type": "code",
   "execution_count": 53,
   "metadata": {},
   "outputs": [
    {
     "name": "stdout",
     "output_type": "stream",
     "text": [
      "<class 'pandas.core.frame.DataFrame'>\n",
      "Int64Index: 27856 entries, 0 to 28361\n",
      "Data columns (total 36 columns):\n",
      "id                           27856 non-null int64\n",
      "isbn                         27856 non-null object\n",
      "title                        27856 non-null object\n",
      "isbn13                       27856 non-null float64\n",
      "publication_date             21515 non-null object\n",
      "publisher                    27856 non-null object\n",
      "language_code                27856 non-null object\n",
      "is_ebook                     27856 non-null bool\n",
      "reviews_count                27856 non-null int64\n",
      "ratings_sum                  27856 non-null int64\n",
      "ratings_count                27856 non-null int64\n",
      "text_reviews_count           27856 non-null int64\n",
      "original_publication_date    27048 non-null object\n",
      "original_title               27856 non-null object\n",
      "media_type                   27856 non-null object\n",
      "num_ratings_5                27856 non-null int64\n",
      "num_ratings_4                27856 non-null int64\n",
      "num_ratings_3                27856 non-null int64\n",
      "num_ratings_2                27856 non-null int64\n",
      "num_ratings_1                27856 non-null int64\n",
      "average_rating               27856 non-null float64\n",
      "num_pages                    19625 non-null float64\n",
      "format                       27856 non-null object\n",
      "edition_information          27856 non-null object\n",
      "ratings_count_global         27856 non-null int64\n",
      "text_reviews_count_global    27856 non-null int64\n",
      "authors                      26588 non-null object\n",
      "illustrator                  1365 non-null object\n",
      "contributor                  273 non-null object\n",
      "editor                       2128 non-null object\n",
      "translator                   1182 non-null object\n",
      "narrator                     172 non-null object\n",
      "to_read                      27856 non-null float64\n",
      "read                         27856 non-null int64\n",
      "currently_reading            27856 non-null float64\n",
      "genres                       21316 non-null object\n",
      "dtypes: bool(1), float64(5), int64(13), object(17)\n",
      "memory usage: 7.7+ MB\n"
     ]
    }
   ],
   "source": [
    "df.info()"
   ]
  }
 ],
 "metadata": {
  "kernelspec": {
   "display_name": "Python 3",
   "language": "python",
   "name": "python3"
  },
  "language_info": {
   "codemirror_mode": {
    "name": "ipython",
    "version": 3
   },
   "file_extension": ".py",
   "mimetype": "text/x-python",
   "name": "python",
   "nbconvert_exporter": "python",
   "pygments_lexer": "ipython3",
   "version": "3.6.5"
  }
 },
 "nbformat": 4,
 "nbformat_minor": 2
}
