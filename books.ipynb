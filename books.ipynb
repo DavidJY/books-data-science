{
 "cells": [
  {
   "cell_type": "markdown",
   "metadata": {},
   "source": [
    "## Carga inicial de los datos\n",
    "\n",
    "Cargamos con pandas en memoria nuestro dataset de libros"
   ]
  },
  {
   "cell_type": "code",
   "execution_count": 103,
   "metadata": {},
   "outputs": [
    {
     "name": "stdout",
     "output_type": "stream",
     "text": [
      "<class 'pandas.core.frame.DataFrame'>\n",
      "RangeIndex: 3080 entries, 0 to 3079\n",
      "Data columns (total 37 columns):\n",
      "id                           3080 non-null int64\n",
      "isbn                         3051 non-null object\n",
      "author                       0 non-null float64\n",
      "title                        3080 non-null object\n",
      "isbn13                       3061 non-null float64\n",
      "asin                         2 non-null object\n",
      "kindle_asin                  0 non-null float64\n",
      "marketplace_id               0 non-null float64\n",
      "country_code                 3080 non-null object\n",
      "publication_date             3080 non-null object\n",
      "publisher                    3038 non-null object\n",
      "language_code                1208 non-null object\n",
      "is_ebook                     3080 non-null bool\n",
      "books_count                  3080 non-null int64\n",
      "best_book_id                 3080 non-null int64\n",
      "reviews_count                3080 non-null int64\n",
      "ratings_sum                  3080 non-null int64\n",
      "ratings_count                3080 non-null int64\n",
      "text_reviews_count           3080 non-null int64\n",
      "original_publication_date    3080 non-null object\n",
      "original_title               2940 non-null object\n",
      "media_type                   2144 non-null object\n",
      "num_ratings_5                3080 non-null int64\n",
      "num_ratings_4                3080 non-null int64\n",
      "num_ratings_3                3080 non-null int64\n",
      "num_ratings_2                3080 non-null int64\n",
      "num_ratings_1                3080 non-null int64\n",
      "average_rating               3080 non-null float64\n",
      "num_pages                    2877 non-null float64\n",
      "format                       3022 non-null object\n",
      "edition_information          224 non-null object\n",
      "ratings_count_global         3080 non-null int64\n",
      "text_reviews_count_global    3080 non-null int64\n",
      "authors                      3080 non-null object\n",
      "to_read                      3079 non-null float64\n",
      "read                         3080 non-null int64\n",
      "currently_reading            2371 non-null float64\n",
      "dtypes: bool(1), float64(8), int64(15), object(13)\n",
      "memory usage: 869.3+ KB\n"
     ]
    }
   ],
   "source": [
    "import pandas as pd\n",
    "\n",
    "df = pd.read_csv(\"books.csv\")\n",
    "df.info()"
   ]
  },
  {
   "cell_type": "code",
   "execution_count": 104,
   "metadata": {},
   "outputs": [
    {
     "data": {
      "text/html": [
       "<div>\n",
       "<style scoped>\n",
       "    .dataframe tbody tr th:only-of-type {\n",
       "        vertical-align: middle;\n",
       "    }\n",
       "\n",
       "    .dataframe tbody tr th {\n",
       "        vertical-align: top;\n",
       "    }\n",
       "\n",
       "    .dataframe thead th {\n",
       "        text-align: right;\n",
       "    }\n",
       "</style>\n",
       "<table border=\"1\" class=\"dataframe\">\n",
       "  <thead>\n",
       "    <tr style=\"text-align: right;\">\n",
       "      <th></th>\n",
       "      <th>id</th>\n",
       "      <th>isbn</th>\n",
       "      <th>author</th>\n",
       "      <th>title</th>\n",
       "      <th>isbn13</th>\n",
       "      <th>asin</th>\n",
       "      <th>kindle_asin</th>\n",
       "      <th>marketplace_id</th>\n",
       "      <th>country_code</th>\n",
       "      <th>publication_date</th>\n",
       "      <th>...</th>\n",
       "      <th>average_rating</th>\n",
       "      <th>num_pages</th>\n",
       "      <th>format</th>\n",
       "      <th>edition_information</th>\n",
       "      <th>ratings_count_global</th>\n",
       "      <th>text_reviews_count_global</th>\n",
       "      <th>authors</th>\n",
       "      <th>to_read</th>\n",
       "      <th>read</th>\n",
       "      <th>currently_reading</th>\n",
       "    </tr>\n",
       "  </thead>\n",
       "  <tbody>\n",
       "    <tr>\n",
       "      <th>0</th>\n",
       "      <td>1</td>\n",
       "      <td>0439785960</td>\n",
       "      <td>NaN</td>\n",
       "      <td>Harry Potter and the Half-Blood Prince (Harry ...</td>\n",
       "      <td>9.780440e+12</td>\n",
       "      <td>NaN</td>\n",
       "      <td>NaN</td>\n",
       "      <td>NaN</td>\n",
       "      <td>ES</td>\n",
       "      <td>2006/9/16</td>\n",
       "      <td>...</td>\n",
       "      <td>4.56</td>\n",
       "      <td>652.0</td>\n",
       "      <td>Paperback</td>\n",
       "      <td>NaN</td>\n",
       "      <td>1919694</td>\n",
       "      <td>25791</td>\n",
       "      <td>['J.K. Rowling', 'Mary GrandPré']</td>\n",
       "      <td>229495.0</td>\n",
       "      <td>7492</td>\n",
       "      <td>22335.0</td>\n",
       "    </tr>\n",
       "    <tr>\n",
       "      <th>1</th>\n",
       "      <td>3</td>\n",
       "      <td>0439554934</td>\n",
       "      <td>NaN</td>\n",
       "      <td>Harry Potter and the Sorcerer's Stone (Harry P...</td>\n",
       "      <td>9.780440e+12</td>\n",
       "      <td>NaN</td>\n",
       "      <td>NaN</td>\n",
       "      <td>NaN</td>\n",
       "      <td>ES</td>\n",
       "      <td>1997/6/26</td>\n",
       "      <td>...</td>\n",
       "      <td>4.46</td>\n",
       "      <td>320.0</td>\n",
       "      <td>Hardcover</td>\n",
       "      <td>NaN</td>\n",
       "      <td>5536122</td>\n",
       "      <td>69174</td>\n",
       "      <td>['J.K. Rowling', 'Mary GrandPré']</td>\n",
       "      <td>3286.0</td>\n",
       "      <td>15019</td>\n",
       "      <td>87801.0</td>\n",
       "    </tr>\n",
       "    <tr>\n",
       "      <th>2</th>\n",
       "      <td>5</td>\n",
       "      <td>043965548X</td>\n",
       "      <td>NaN</td>\n",
       "      <td>Harry Potter and the Prisoner of Azkaban (Harr...</td>\n",
       "      <td>9.780440e+12</td>\n",
       "      <td>NaN</td>\n",
       "      <td>NaN</td>\n",
       "      <td>NaN</td>\n",
       "      <td>ES</td>\n",
       "      <td>2004/5/1</td>\n",
       "      <td>...</td>\n",
       "      <td>4.55</td>\n",
       "      <td>435.0</td>\n",
       "      <td>Mass Market Paperback</td>\n",
       "      <td>NaN</td>\n",
       "      <td>2120869</td>\n",
       "      <td>33324</td>\n",
       "      <td>['J.K. Rowling', 'Mary GrandPré']</td>\n",
       "      <td>193024.0</td>\n",
       "      <td>10469</td>\n",
       "      <td>31945.0</td>\n",
       "    </tr>\n",
       "    <tr>\n",
       "      <th>3</th>\n",
       "      <td>7</td>\n",
       "      <td>0439887453</td>\n",
       "      <td>NaN</td>\n",
       "      <td>The Harry Potter Collection (Harry Potter, #1-6)</td>\n",
       "      <td>9.780440e+12</td>\n",
       "      <td>NaN</td>\n",
       "      <td>NaN</td>\n",
       "      <td>NaN</td>\n",
       "      <td>ES</td>\n",
       "      <td>2006/9/1</td>\n",
       "      <td>...</td>\n",
       "      <td>4.73</td>\n",
       "      <td>NaN</td>\n",
       "      <td>Paperback</td>\n",
       "      <td>Box Set</td>\n",
       "      <td>1597</td>\n",
       "      <td>115</td>\n",
       "      <td>['J.K. Rowling', 'Mary GrandPré']</td>\n",
       "      <td>4521.0</td>\n",
       "      <td>24</td>\n",
       "      <td>189.0</td>\n",
       "    </tr>\n",
       "    <tr>\n",
       "      <th>4</th>\n",
       "      <td>9</td>\n",
       "      <td>0976540606</td>\n",
       "      <td>NaN</td>\n",
       "      <td>Unauthorized Harry Potter Book Seven News: \"Ha...</td>\n",
       "      <td>9.780977e+12</td>\n",
       "      <td>NaN</td>\n",
       "      <td>NaN</td>\n",
       "      <td>NaN</td>\n",
       "      <td>ES</td>\n",
       "      <td>2005/4/26</td>\n",
       "      <td>...</td>\n",
       "      <td>3.69</td>\n",
       "      <td>152.0</td>\n",
       "      <td>Paperback</td>\n",
       "      <td>NaN</td>\n",
       "      <td>18</td>\n",
       "      <td>1</td>\n",
       "      <td>['W. Frederick Zimmerman']</td>\n",
       "      <td>27.0</td>\n",
       "      <td>2</td>\n",
       "      <td>NaN</td>\n",
       "    </tr>\n",
       "  </tbody>\n",
       "</table>\n",
       "<p>5 rows × 37 columns</p>\n",
       "</div>"
      ],
      "text/plain": [
       "   id        isbn  author                                              title  \\\n",
       "0   1  0439785960     NaN  Harry Potter and the Half-Blood Prince (Harry ...   \n",
       "1   3  0439554934     NaN  Harry Potter and the Sorcerer's Stone (Harry P...   \n",
       "2   5  043965548X     NaN  Harry Potter and the Prisoner of Azkaban (Harr...   \n",
       "3   7  0439887453     NaN   The Harry Potter Collection (Harry Potter, #1-6)   \n",
       "4   9  0976540606     NaN  Unauthorized Harry Potter Book Seven News: \"Ha...   \n",
       "\n",
       "         isbn13 asin  kindle_asin  marketplace_id country_code  \\\n",
       "0  9.780440e+12  NaN          NaN             NaN           ES   \n",
       "1  9.780440e+12  NaN          NaN             NaN           ES   \n",
       "2  9.780440e+12  NaN          NaN             NaN           ES   \n",
       "3  9.780440e+12  NaN          NaN             NaN           ES   \n",
       "4  9.780977e+12  NaN          NaN             NaN           ES   \n",
       "\n",
       "  publication_date        ...        average_rating num_pages  \\\n",
       "0        2006/9/16        ...                  4.56     652.0   \n",
       "1        1997/6/26        ...                  4.46     320.0   \n",
       "2         2004/5/1        ...                  4.55     435.0   \n",
       "3         2006/9/1        ...                  4.73       NaN   \n",
       "4        2005/4/26        ...                  3.69     152.0   \n",
       "\n",
       "                  format  edition_information  ratings_count_global  \\\n",
       "0              Paperback                  NaN               1919694   \n",
       "1              Hardcover                  NaN               5536122   \n",
       "2  Mass Market Paperback                  NaN               2120869   \n",
       "3              Paperback              Box Set                  1597   \n",
       "4              Paperback                  NaN                    18   \n",
       "\n",
       "   text_reviews_count_global                            authors   to_read  \\\n",
       "0                      25791  ['J.K. Rowling', 'Mary GrandPré']  229495.0   \n",
       "1                      69174  ['J.K. Rowling', 'Mary GrandPré']    3286.0   \n",
       "2                      33324  ['J.K. Rowling', 'Mary GrandPré']  193024.0   \n",
       "3                        115  ['J.K. Rowling', 'Mary GrandPré']    4521.0   \n",
       "4                          1         ['W. Frederick Zimmerman']      27.0   \n",
       "\n",
       "    read currently_reading  \n",
       "0   7492           22335.0  \n",
       "1  15019           87801.0  \n",
       "2  10469           31945.0  \n",
       "3     24             189.0  \n",
       "4      2               NaN  \n",
       "\n",
       "[5 rows x 37 columns]"
      ]
     },
     "execution_count": 104,
     "metadata": {},
     "output_type": "execute_result"
    }
   ],
   "source": [
    "df.head()"
   ]
  },
  {
   "cell_type": "markdown",
   "metadata": {},
   "source": [
    "### average_rating\n",
    "Analizamos la columna \"average_rating\". En caso de tener valores, deberemos filtrar los registros que correspondan en una vista para hacer calculos. P.ej calcular los libros que tengan valoración por encima de la media"
   ]
  },
  {
   "cell_type": "code",
   "execution_count": 105,
   "metadata": {},
   "outputs": [
    {
     "data": {
      "text/plain": [
       "4.00    137\n",
       "0.00     81\n",
       "4.06     51\n",
       "3.67     50\n",
       "3.75     46\n",
       "4.11     45\n",
       "3.83     43\n",
       "5.00     43\n",
       "4.25     42\n",
       "3.96     42\n",
       "3.00     41\n",
       "3.50     40\n",
       "4.14     40\n",
       "4.05     39\n",
       "4.13     39\n",
       "3.92     38\n",
       "4.04     38\n",
       "3.88     37\n",
       "3.90     37\n",
       "3.94     37\n",
       "3.71     36\n",
       "3.79     36\n",
       "3.95     36\n",
       "4.12     35\n",
       "3.82     34\n",
       "3.86     33\n",
       "4.03     33\n",
       "4.22     32\n",
       "4.33     32\n",
       "4.20     32\n",
       "       ... \n",
       "4.54      2\n",
       "3.36      2\n",
       "4.87      1\n",
       "2.76      1\n",
       "4.69      1\n",
       "2.92      1\n",
       "4.77      1\n",
       "1.50      1\n",
       "2.88      1\n",
       "2.79      1\n",
       "4.79      1\n",
       "2.77      1\n",
       "3.16      1\n",
       "3.19      1\n",
       "2.80      1\n",
       "4.61      1\n",
       "4.82      1\n",
       "3.07      1\n",
       "3.06      1\n",
       "2.95      1\n",
       "2.78      1\n",
       "4.68      1\n",
       "3.15      1\n",
       "4.74      1\n",
       "3.13      1\n",
       "2.66      1\n",
       "4.78      1\n",
       "4.88      1\n",
       "3.35      1\n",
       "2.96      1\n",
       "Name: average_rating, Length: 193, dtype: int64"
      ]
     },
     "execution_count": 105,
     "metadata": {},
     "output_type": "execute_result"
    }
   ],
   "source": [
    "df.average_rating = df.average_rating.fillna(value=\"unknow\")\n",
    "df.average_rating.value_counts()"
   ]
  },
  {
   "cell_type": "markdown",
   "metadata": {},
   "source": [
    "### num_pages\n",
    "Analizamos la columna \"num_pages\". Observamos que hay valores nulos. Tenemos que tenerlo en cuenta a la hora de calcular datos con ésta columna (p.ej la media, etc)."
   ]
  },
  {
   "cell_type": "code",
   "execution_count": 106,
   "metadata": {},
   "outputs": [
    {
     "data": {
      "text/plain": [
       "203"
      ]
     },
     "execution_count": 106,
     "metadata": {},
     "output_type": "execute_result"
    }
   ],
   "source": [
    "df.num_pages.isna().sum()"
   ]
  },
  {
   "cell_type": "markdown",
   "metadata": {},
   "source": [
    "Comprobamos que si hay libros con 0 páginas. En ese caso cambiamos su valor por np.nan"
   ]
  },
  {
   "cell_type": "code",
   "execution_count": 107,
   "metadata": {},
   "outputs": [
    {
     "data": {
      "text/plain": [
       "231"
      ]
     },
     "execution_count": 107,
     "metadata": {},
     "output_type": "execute_result"
    }
   ],
   "source": [
    "import numpy as np\n",
    "df.loc[df.num_pages == 0, \"num_pages\"] = np.nan\n",
    "df.num_pages.isna().sum()"
   ]
  },
  {
   "cell_type": "code",
   "execution_count": 108,
   "metadata": {},
   "outputs": [
    {
     "data": {
      "text/plain": [
       "303.5328185328185"
      ]
     },
     "execution_count": 108,
     "metadata": {},
     "output_type": "execute_result"
    }
   ],
   "source": [
    "df.num_pages.loc[~df.num_pages.isna()].mean() #num_pages_mean sin tener en cuenta datos nulos"
   ]
  },
  {
   "cell_type": "code",
   "execution_count": 129,
   "metadata": {},
   "outputs": [
    {
     "data": {
      "text/plain": [
       "array([ 652,  320,  435,  152,  815,  544, 1184, 1216,  558,   48,  144,\n",
       "        228,  304,  137,  339,  334,  248,  208,  138,  192,  298,  123,\n",
       "        240,  423,  592,  480,  471,  256,  386,  260,  384,  391,  873,\n",
       "        514,  368,  308,  216,   32,  352,  738,   24,  217,  288,  244,\n",
       "        314,  246,  178,  311,  245,  272,   80,  559,  224,  176,  589,\n",
       "        439,  232,  336,  342, 1085,  776,  199,   40,  104,  608,  262,\n",
       "         88,  128,  828,  397,  328,  287,  432,  186,  103,  341,  255,\n",
       "        296,  520,  319,  392,  112,  200,  448,  160,  222,  127,  571,\n",
       "        416,  456,  226,  212,   16,    8,  496,  363,  927,  381,   84,\n",
       "         79,  292,  134,  221,   58,  400,  202,  235,  196,  157,  467,\n",
       "        206,  383,  258,  197,  231,  273,  166,  285,  399, 1344,  405,\n",
       "        291,  250,   64,   68,  102,  191,  181,  542,  367,  506,  464,\n",
       "        512,  125,  340,  472,  161,  366,  129,  172,  164,  190,  300,\n",
       "         90,  126,  519,  555,  672,   95,  624,  348,  376,  251,   55,\n",
       "        415,   96,  302,  195,  184,  171,  528,  360,  640, 2036,  323,\n",
       "        414,  242,  279,  616,  122,  389,  327,  407,  374,  870,  734,\n",
       "       2690, 3342,  215,    6,  335, 1728,  398, 1223,   56,  150,  369,\n",
       "        393,   72,  832,  426,  408,  159,  205,  385,  864,  175,  508,\n",
       "        344,  331,  441,  213,  524,  440,  133,  417,  434,    7,  444,\n",
       "        547,  784,  227, 1122,  156,  306,   97,  211,  351,  155,  100,\n",
       "        564,  149,  750,  532,  702, 1183,  492,  261,  143,  681,  286,\n",
       "        358,  277,  254,  312,  141,  237,   45,  233,  140,  633,  450,\n",
       "        259,  928,    4,  489,  744,  290,  229,  230,    5,  201,  270,\n",
       "        148,  280,  338,  401,  333,  207,  395,  193,   20,  372,  468,\n",
       "        729,  420,  606,  332,  108,   71,  324,  664,  854,  356,  478,\n",
       "       1128,  264,  318,  136,  111,  354,  576,  466,  739,  495,  449,\n",
       "        562,  665,  276,  364, 1016,  588, 1160,  168,  688,  182,   61,\n",
       "       2832,   10,  455,  252,  109,  900,  241,  462,  247,  752,  697,\n",
       "        146,  451,  410,  116,  550,  682,  132,   99,  124,  380,  627,\n",
       "         86,  377,  204,  177,  303,  154,  189,  560,  436,  733,  786,\n",
       "        500,  173,  656,  422,  460,  648,  294,   60,  804,  119,  896,\n",
       "       1104,  268,    2,  135,  117,  598,  107,  709,  418,   93,  431,\n",
       "        503,  404,  403,  257,  748,  234,  326,  158,  394, 1023, 1168,\n",
       "        816,  322,  618,  120,   57,  716,  769,  163,  187,  412,  219,\n",
       "        115,  223,  169,  313,  557,   85,   42,  955,  174,  490,  601,\n",
       "        615,  849,  641,  295, 1040,   87,  289,   14,  185,  720,   81,\n",
       "        461,  796,  538,  475,  931,  350, 2405, 1014,  307,  476,  151,\n",
       "        543,  165,  105,  546,   78,  266,  278,  535,  743,   17,  586,\n",
       "        419,  317,  225,  101,  106, 1336,  662,  479,  387,  167,  113,\n",
       "         36,  188,  239,  379,  349,  912,  612,  424,  180,   66,  670,\n",
       "        635, 1200,  411,  481,  198,  114,  406,  236,  850,  378,  522,\n",
       "        337,   30,  516,  511,  453,  822,   11,  293,  253,  267,  582,\n",
       "        806,  382,  210,  361,  218,  282, 1054,  243,  779,  497,  396,\n",
       "        465,  388,  284,  907,  347,  359,  793,  343,   82,  704,   75,\n",
       "        515,   13,  438,  325, 1008,  800,  454,  429,  209,  321,  446,\n",
       "         39,  357,  118,  330,  533,  445,  602,  430,  299,  390,  275,\n",
       "        238,  498,  309,   26,  645,  517,   34,  488,  305,   28,  469,\n",
       "        507, 1408,  801,  621,  679,  142,  375,  675,  749,  442,  736,\n",
       "        162,  969,  540,  220,  346, 1180, 1110,  880,  590,   18,  551,\n",
       "        130,  566,  131,  447,  692, 1520,  798,  203,  567,  530,  892,\n",
       "        940, 1036,  975, 2136,  263,  485, 1056,  579, 1092,  600,  715,\n",
       "          1,  505, 4638,   52,  421,  413, 1195,  708, 2208,  459,  646,\n",
       "        183,  194,  666,  301,  179,  362,  170,  625,  554,  518,  830,\n",
       "        795,  297,   62,  370,  537,  980,  772,  638,  768,  402,  944,\n",
       "        269,  572,  452,   70,  613,  315,  639, 1600, 1031,  774,  329,\n",
       "        887,  437,  685,  893,  249,  726,  274,   37,  568,  818,  569,\n",
       "        861,  153])"
      ]
     },
     "execution_count": 129,
     "metadata": {},
     "output_type": "execute_result"
    }
   ],
   "source": [
    "df.num_pages.loc[~df.num_pages.isna()].astype(\"int64\").unique()"
   ]
  },
  {
   "cell_type": "markdown",
   "metadata": {},
   "source": [
    "### format\n",
    "Analizamos la columna \"format\" y observamos valores nulos"
   ]
  },
  {
   "cell_type": "code",
   "execution_count": 110,
   "metadata": {},
   "outputs": [
    {
     "data": {
      "text/plain": [
       "array(['Paperback', 'Hardcover', 'Mass Market Paperback', 'Audio CD', nan,\n",
       "       'Unknown Binding', 'Spiral-bound', 'Library Binding',\n",
       "       'Kindle Edition', 'hardback', 'Leather Bound', 'Spiral Bound',\n",
       "       'Audiobook', 'Hardcover - Deluxe Illustrated Edition', 'cloth',\n",
       "       'Board Book', 'Audio Cassette', 'ebook', 'MP3 CD', 'Audio',\n",
       "       'Novelty Book', 'Rag Book', 'CD-ROM', 'コミック', 'Loose-Leaf'],\n",
       "      dtype=object)"
      ]
     },
     "execution_count": 110,
     "metadata": {},
     "output_type": "execute_result"
    }
   ],
   "source": [
    "df.format.unique()"
   ]
  },
  {
   "cell_type": "markdown",
   "metadata": {},
   "source": [
    "Para evitar el borrado de muchos libros de forma inncesaria, todos los libros en los que no tengamos un formato especificado, le asignamos el formato \"unknow\""
   ]
  },
  {
   "cell_type": "code",
   "execution_count": 111,
   "metadata": {},
   "outputs": [
    {
     "data": {
      "text/plain": [
       "Paperback                                 1992\n",
       "Hardcover                                  823\n",
       "Audio CD                                    69\n",
       "Mass Market Paperback                       69\n",
       "unknow                                      58\n",
       "Unknown Binding                             20\n",
       "Audiobook                                    7\n",
       "Spiral-bound                                 7\n",
       "Audio Cassette                               6\n",
       "Board Book                                   5\n",
       "Library Binding                              4\n",
       "Kindle Edition                               2\n",
       "コミック                                         2\n",
       "hardback                                     2\n",
       "Audio                                        2\n",
       "cloth                                        2\n",
       "ebook                                        2\n",
       "Loose-Leaf                                   1\n",
       "Novelty Book                                 1\n",
       "CD-ROM                                       1\n",
       "Spiral Bound                                 1\n",
       "Hardcover - Deluxe Illustrated Edition       1\n",
       "MP3 CD                                       1\n",
       "Leather Bound                                1\n",
       "Rag Book                                     1\n",
       "Name: format, dtype: int64"
      ]
     },
     "execution_count": 111,
     "metadata": {},
     "output_type": "execute_result"
    }
   ],
   "source": [
    "df.format = df.format.fillna(value=\"unknow\")\n",
    "df.format.value_counts()"
   ]
  },
  {
   "cell_type": "markdown",
   "metadata": {},
   "source": [
    "### edition_information\n",
    "Analizamos la columna \"edition_information\" y observamos valores nulos. "
   ]
  },
  {
   "cell_type": "code",
   "execution_count": 112,
   "metadata": {},
   "outputs": [
    {
     "data": {
      "text/plain": [
       "array([nan, 'Box Set', 'Dramatization edition; unabridged',\n",
       "       'First Trade Paperback Edition', '50th Anniversary Edition',\n",
       "       '50th Anniversary One-volume Edition', '1st edition',\n",
       "       'High Risk Books Series', 'Reissue edition',\n",
       "       'Series: Golden Kite Honors', 'Second Edition', '1st Edition',\n",
       "       'First Edition Edition', 'Unabridged', 'First Paperback Edition',\n",
       "       'Abridged', 'Penguin Classics Deluxe Edition',\n",
       "       'Harlequin Blaze #264', '1st Scribner trade paperback edition',\n",
       "       '3rd Edition', 'First Vintage International Edition (US/CAN)',\n",
       "       'Fourth Edition', 'P.S. Edition (US/CAN)', 'New Edition',\n",
       "       'Special Illustrated Edition; First Paperback Edition (US/CAN)',\n",
       "       'Large Print', 'US / Canada', 'P.S. (USA/CAN)', 'UK Edition',\n",
       "       'Revised and Expanded Edition, Unabridged', 'Sixth Edition',\n",
       "       'Oxford World’s Classics', 'Modern Library Classics, USA / CAN',\n",
       "       'Movie Tie-In Edition', \"The Illustrated Children's Library\",\n",
       "       'First Scholastica trade paperback printing (US Edition)',\n",
       "       'First Scholastic Trade Paperback Edition', '25th Anniversary ',\n",
       "       'First Edition', 'Hobbit Movie Tie-in Boxed set',\n",
       "       'Media Tie-In Edition', '1st THUS edition',\n",
       "       'With Workbook and Ruler and Pen &amp; Pencil and Eraser',\n",
       "       '2nd Edition', '40th Anniversary Edition', 'BK &amp; DVD',\n",
       "       'CliffsNotes Literature Guides',\n",
       "       'Landmarks of World Literature Series',\n",
       "       'The Classic Collection. Unabridged', 'Citadel Press',\n",
       "       '(Casebook Edition Text Notes and Criticism)', '3 CDs. Abridged. ',\n",
       "       'USA / Canada', 'Tie-In edition; P.S. (US/CAN)',\n",
       "       'Revised and Expanded Edition (US/CAN)',\n",
       "       'Revised and Expanded Edition, Large Print', 'Penguin Classics',\n",
       "       'Vintage Contemporaries', 'Eighth Edition', 'Expanded Edition',\n",
       "       'Oxford World Classics, UK / USA', 'Scholastic Classics',\n",
       "       'Science Masters Series', 'Collins Gem', 'Cover to cover classics',\n",
       "       '7th edition', 'Norton Critical Edition', '2nd edition',\n",
       "       'Illustrated Large Format', 'The Modern Library Classics',\n",
       "       'US / CAN Edition', 'First BasicBooks Edition', 'Reissue Edition',\n",
       "       'Borzoi (US / Canada)', 'Library of Literary Classics',\n",
       "       'Illustrated', '1st U.S. edition',\n",
       "       'First Harper Perennial Modern Classics Edition',\n",
       "       'John Steinbeck Centennial Edition', 'New Millennium Edition',\n",
       "       'Pocket Books Premium Edition',\n",
       "       'Perfection Learning Cover Craft Edition',\n",
       "       'Focus On The Family Great Stories', 'Signet Classics',\n",
       "       'Unabridged: 10 Cassettes / 14.25 hour', 'updated',\n",
       "       'Penguin Popular Classics',\n",
       "       \"First Oxford World's Classics hardback edition\",\n",
       "       'First Edition (US/CAN)', \"Everyman's Library\",\n",
       "       'Silhouette Bombshell #041', 'Omnibus', '2007', 'PLUS Edition',\n",
       "       \"Oxford World's Classics\", 'Penguin Essential Edition',\n",
       "       'Updated Edition', 'Third Edition',\n",
       "       'Penguin Great Books of the 20th Century',\n",
       "       'First Edition, First Printing', ' (Genre Writing Series)',\n",
       "       'First edition', 'Harlequin Temptation #1028', 'Pocket Classiques',\n",
       "       'With flip book', \"Abridged - Dover Children's Thrift Classics\",\n",
       "       'Specially Priced Limited Edition', 'Special ', 'Slipcase',\n",
       "       'First Broadway Books trade paperback edition',\n",
       "       '25th Anniversary Edition', 'Book with CD', 'with audio CD',\n",
       "       'First edition; Hard Case Crime #13', 'UK',\n",
       "       'Barnes &amp; Noble Classics',\n",
       "       'Vintage Contemporaries Original Edition', 'CliffsComplete',\n",
       "       'Monarch Notes', 'Scholastic Junior Classics',\n",
       "       'Deluxe Edition (Literary Classics)', 'First Edition (U.S.)',\n",
       "       'Unabridged Edition', 'Trade', 'A4-size', ' Abridged',\n",
       "       'The Cambridge Edition of the Works of Jane Austen',\n",
       "       'The Century Jane Austen I  ', 'Star Wars - Legends - Reprint',\n",
       "       '5th Edition', 'film tie-in edition', 'Film tie-in edition',\n",
       "       ' (Collins Modern Classics)', 'Complete Sixth Edition',\n",
       "       'Smithsonian ', 'US Edition', 'Agatha Christie Collection Edition'],\n",
       "      dtype=object)"
      ]
     },
     "execution_count": 112,
     "metadata": {},
     "output_type": "execute_result"
    }
   ],
   "source": [
    "df.edition_information.unique()"
   ]
  },
  {
   "cell_type": "markdown",
   "metadata": {},
   "source": [
    "Para evitar el borrado de muchos libros de forma inncesaria, todos los libros en los que no tengamos un formato especificado, le asignamos el formato \"unknow\". Podemos observar que en la mayoría de los casos no se ha propocionado información por lo que esta información puede terminar no siendo de utilidad. "
   ]
  },
  {
   "cell_type": "code",
   "execution_count": 113,
   "metadata": {},
   "outputs": [
    {
     "data": {
      "text/plain": [
       "unknow                                                           2856\n",
       "Abridged                                                           22\n",
       "Second Edition                                                     15\n",
       "Large Print                                                        12\n",
       "First Edition                                                      12\n",
       "1st edition                                                         6\n",
       "Penguin Classics                                                    6\n",
       "Unabridged                                                          5\n",
       "1st Edition                                                         3\n",
       "Norton Critical Edition                                             3\n",
       "Sixth Edition                                                       3\n",
       "Oxford World's Classics                                             3\n",
       "Box Set                                                             3\n",
       "Third Edition                                                       2\n",
       "50th Anniversary Edition                                            2\n",
       "2nd edition                                                         2\n",
       "New Edition                                                         2\n",
       "Omnibus                                                             2\n",
       "3rd Edition                                                         2\n",
       "US / CAN Edition                                                    2\n",
       "First Oxford World's Classics hardback edition                      1\n",
       "Borzoi (US / Canada)                                                1\n",
       "PLUS Edition                                                        1\n",
       "High Risk Books Series                                              1\n",
       "CliffsComplete                                                      1\n",
       "The Century Jane Austen I                                           1\n",
       "UK Edition                                                          1\n",
       "Movie Tie-In Edition                                                1\n",
       "Penguin Great Books of the 20th Century                             1\n",
       "Citadel Press                                                       1\n",
       "                                                                 ... \n",
       "updated                                                             1\n",
       "25th Anniversary Edition                                            1\n",
       "The Illustrated Children's Library                                  1\n",
       "Harlequin Temptation #1028                                          1\n",
       "First Edition (U.S.)                                                1\n",
       "with audio CD                                                       1\n",
       "First Scholastica trade paperback printing (US Edition)             1\n",
       "Special Illustrated Edition; First Paperback Edition (US/CAN)       1\n",
       "First Edition Edition                                               1\n",
       "Signet Classics                                                     1\n",
       "7th edition                                                         1\n",
       "With Workbook and Ruler and Pen &amp; Pencil and Eraser             1\n",
       "Pocket Classiques                                                   1\n",
       "Tie-In edition; P.S. (US/CAN)                                       1\n",
       "Penguin Essential Edition                                           1\n",
       "John Steinbeck Centennial Edition                                   1\n",
       "Reissue edition                                                     1\n",
       "Dramatization edition; unabridged                                   1\n",
       "1st THUS edition                                                    1\n",
       "Collins Gem                                                         1\n",
       "1st U.S. edition                                                    1\n",
       "Special                                                             1\n",
       "First BasicBooks Edition                                            1\n",
       "Media Tie-In Edition                                                1\n",
       "Harlequin Blaze #264                                                1\n",
       "The Modern Library Classics                                         1\n",
       "First Edition, First Printing                                       1\n",
       "Modern Library Classics, USA / CAN                                  1\n",
       "Penguin Classics Deluxe Edition                                     1\n",
       " (Genre Writing Series)                                             1\n",
       "Name: edition_information, Length: 137, dtype: int64"
      ]
     },
     "execution_count": 113,
     "metadata": {},
     "output_type": "execute_result"
    }
   ],
   "source": [
    "df.edition_information = df.edition_information.fillna(value=\"unknow\")\n",
    "df.edition_information.value_counts()"
   ]
  },
  {
   "cell_type": "markdown",
   "metadata": {},
   "source": [
    "### ratings_count_global\n",
    "Analizamos ahora \"ratings_count_global\". Representa el total de valoraciones que ha recibido el libro.\n",
    "En caso de tener algun valor nulo, lo reemplazamos por cero.\n",
    "\n",
    "Como tiene muchos valores \"unique\" distintos, podemos comprobar que no tiene valores nulos con: "
   ]
  },
  {
   "cell_type": "code",
   "execution_count": 114,
   "metadata": {},
   "outputs": [
    {
     "data": {
      "text/plain": [
       "0"
      ]
     },
     "execution_count": 114,
     "metadata": {},
     "output_type": "execute_result"
    }
   ],
   "source": [
    "df.ratings_count_global = df.ratings_count_global.fillna(value=0)\n",
    "df.ratings_count_global.isna().sum()"
   ]
  },
  {
   "cell_type": "markdown",
   "metadata": {},
   "source": [
    "Además, el tipo de datos es el correcto para un contador"
   ]
  },
  {
   "cell_type": "code",
   "execution_count": 115,
   "metadata": {},
   "outputs": [
    {
     "data": {
      "text/plain": [
       "dtype('int64')"
      ]
     },
     "execution_count": 115,
     "metadata": {},
     "output_type": "execute_result"
    }
   ],
   "source": [
    "df.ratings_count_global.dtype"
   ]
  },
  {
   "cell_type": "markdown",
   "metadata": {},
   "source": [
    "### text_reviews_count_global\n",
    "Analizamos la columna \"text_reviews_count_global\". Representa el número de personas que han escrito una review del libro. Reemplazamos los valores nulos por 0 y comprobamos que no tengamos valores nulos"
   ]
  },
  {
   "cell_type": "code",
   "execution_count": 116,
   "metadata": {},
   "outputs": [
    {
     "data": {
      "text/plain": [
       "0"
      ]
     },
     "execution_count": 116,
     "metadata": {},
     "output_type": "execute_result"
    }
   ],
   "source": [
    "df.text_reviews_count_global = df.text_reviews_count_global.fillna(value=0)\n",
    "df.text_reviews_count_global.isna().sum()"
   ]
  },
  {
   "cell_type": "markdown",
   "metadata": {},
   "source": [
    "### to_read\n",
    "Analizamos la columna \"to_read\". Representa el número de personas que quieren leer el libro. Reemplazamos los valores nulos por 0 y comprobamos que no tengamos valores nulos"
   ]
  },
  {
   "cell_type": "code",
   "execution_count": 117,
   "metadata": {},
   "outputs": [
    {
     "data": {
      "text/plain": [
       "0"
      ]
     },
     "execution_count": 117,
     "metadata": {},
     "output_type": "execute_result"
    }
   ],
   "source": [
    "df.to_read = df.to_read.fillna(value=0)\n",
    "df.to_read.isna().sum()"
   ]
  },
  {
   "cell_type": "markdown",
   "metadata": {},
   "source": [
    "Dado que representa un número de personas, expresamos los resultados como números enteros"
   ]
  },
  {
   "cell_type": "code",
   "execution_count": 131,
   "metadata": {},
   "outputs": [
    {
     "data": {
      "text/plain": [
       "0       229495\n",
       "1         3286\n",
       "2       193024\n",
       "3         4521\n",
       "4           27\n",
       "5        93424\n",
       "6        34566\n",
       "7       241899\n",
       "8       153158\n",
       "9       153158\n",
       "10      153158\n",
       "11         883\n",
       "12          14\n",
       "13        1497\n",
       "14          68\n",
       "15         182\n",
       "16        6770\n",
       "17         444\n",
       "18        2353\n",
       "19         988\n",
       "20         810\n",
       "21         155\n",
       "22          28\n",
       "23         948\n",
       "24          84\n",
       "25         104\n",
       "26          37\n",
       "27       15686\n",
       "28         761\n",
       "29       15720\n",
       "         ...  \n",
       "3050      2038\n",
       "3051         5\n",
       "3052        27\n",
       "3053       291\n",
       "3054         7\n",
       "3055         1\n",
       "3056         7\n",
       "3057       443\n",
       "3058        20\n",
       "3059       178\n",
       "3060        64\n",
       "3061      4394\n",
       "3062        49\n",
       "3063     32887\n",
       "3064      9577\n",
       "3065      7806\n",
       "3066     11830\n",
       "3067     11830\n",
       "3068      2911\n",
       "3069       407\n",
       "3070       334\n",
       "3071       234\n",
       "3072       206\n",
       "3073       229\n",
       "3074      5740\n",
       "3075      5433\n",
       "3076       986\n",
       "3077       584\n",
       "3078       636\n",
       "3079       311\n",
       "Name: to_read, Length: 3080, dtype: int64"
      ]
     },
     "execution_count": 131,
     "metadata": {},
     "output_type": "execute_result"
    }
   ],
   "source": [
    "df.to_read.astype(\"int64\")"
   ]
  },
  {
   "cell_type": "markdown",
   "metadata": {},
   "source": [
    "### read\n",
    "Analizamos la columna \"read\". Representa el número de personas que han leído el libro. Reemplazamos los valores nulos por 0 y comprobamos que no tengamos valores nulos"
   ]
  },
  {
   "cell_type": "code",
   "execution_count": 119,
   "metadata": {},
   "outputs": [
    {
     "data": {
      "text/plain": [
       "0"
      ]
     },
     "execution_count": 119,
     "metadata": {},
     "output_type": "execute_result"
    }
   ],
   "source": [
    "df.read = df.read.fillna(value=0)\n",
    "df.read.isna().sum()"
   ]
  },
  {
   "cell_type": "markdown",
   "metadata": {},
   "source": [
    "Se puede observar igualmente que ésta columna tiene bien el tipo de dato para lo que queremos representar"
   ]
  },
  {
   "cell_type": "code",
   "execution_count": 120,
   "metadata": {},
   "outputs": [
    {
     "data": {
      "text/plain": [
       "dtype('int64')"
      ]
     },
     "execution_count": 120,
     "metadata": {},
     "output_type": "execute_result"
    }
   ],
   "source": [
    "df.read.dtype"
   ]
  },
  {
   "cell_type": "markdown",
   "metadata": {},
   "source": [
    "### currently_reading\n",
    "Analizamos la columna \"currently_reading\". Representa el número de personas que están leyendo el libro. Podemos ver que tiene valores nulos."
   ]
  },
  {
   "cell_type": "code",
   "execution_count": 121,
   "metadata": {},
   "outputs": [
    {
     "data": {
      "text/plain": [
       "709"
      ]
     },
     "execution_count": 121,
     "metadata": {},
     "output_type": "execute_result"
    }
   ],
   "source": [
    "df.currently_reading.isna().sum()"
   ]
  },
  {
   "cell_type": "markdown",
   "metadata": {},
   "source": [
    "Procedemos a sustituir esos nulos por el valor \"cero\" como en el caso anterior de la columna \"to_read\""
   ]
  },
  {
   "cell_type": "code",
   "execution_count": 122,
   "metadata": {},
   "outputs": [
    {
     "data": {
      "text/plain": [
       "0"
      ]
     },
     "execution_count": 122,
     "metadata": {},
     "output_type": "execute_result"
    }
   ],
   "source": [
    "df.currently_reading = df.currently_reading.fillna(value=0)\n",
    "df.currently_reading.isna().sum()"
   ]
  },
  {
   "cell_type": "markdown",
   "metadata": {},
   "source": [
    "Podemos ver que es necesario ajustar esta columna para que se represente como valores enteros en lugar de float"
   ]
  },
  {
   "cell_type": "code",
   "execution_count": 133,
   "metadata": {},
   "outputs": [
    {
     "data": {
      "text/plain": [
       "array([2.2335e+04, 8.7801e+04, 3.1945e+04, 1.8900e+02, 0.0000e+00,\n",
       "       1.1483e+04, 1.0440e+03, 1.6677e+04, 2.0281e+04, 1.7600e+02,\n",
       "       1.0200e+02, 3.0000e+00, 3.2000e+01, 1.8000e+01, 9.7000e+01])"
      ]
     },
     "execution_count": 133,
     "metadata": {},
     "output_type": "execute_result"
    }
   ],
   "source": [
    "df.currently_reading.unique()[:15]"
   ]
  },
  {
   "cell_type": "code",
   "execution_count": 132,
   "metadata": {},
   "outputs": [
    {
     "data": {
      "text/plain": [
       "array([22335, 87801, 31945,   189,     0, 11483,  1044, 16677, 20281,\n",
       "         176,   102,     3,    32,    18,    97])"
      ]
     },
     "execution_count": 132,
     "metadata": {},
     "output_type": "execute_result"
    }
   ],
   "source": [
    "df.currently_reading.astype(\"int64\").unique()[:15]"
   ]
  },
  {
   "cell_type": "code",
   "execution_count": null,
   "metadata": {},
   "outputs": [],
   "source": []
  }
 ],
 "metadata": {
  "kernelspec": {
   "display_name": "Python 3",
   "language": "python",
   "name": "python3"
  },
  "language_info": {
   "codemirror_mode": {
    "name": "ipython",
    "version": 3
   },
   "file_extension": ".py",
   "mimetype": "text/x-python",
   "name": "python",
   "nbconvert_exporter": "python",
   "pygments_lexer": "ipython3",
   "version": "3.7.1"
  }
 },
 "nbformat": 4,
 "nbformat_minor": 2
}
