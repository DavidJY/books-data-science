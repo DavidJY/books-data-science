{
 "cells": [
  {
   "cell_type": "markdown",
   "metadata": {},
   "source": [
    "# Analisis Exploratorio"
   ]
  },
  {
   "cell_type": "markdown",
   "metadata": {},
   "source": [
    "## Tabla de contenidos:\n",
    "* [Descarga de datos](#descarga-datos)\n",
    "* [Carga inicial de los datos](#carga-inicial)\n",
    "* [Observación de valores nulos](#datos-nulos)\n",
    "    * [Identificadores](#columnas-identificadores)\n",
    "    * [Información](#columnas-informacion)\n",
    "    * [Usuarios](#columnas-usuarios)\n",
    "    * [Autores](#columnas-autores)\n",
    "* [Distribución y Correlaciones](#distribucion-correlacion)"
   ]
  },
  {
   "cell_type": "markdown",
   "metadata": {},
   "source": [
    "## Descarga de datos <a class=\"anchor\" name=\"descarga-datos\"/>\n",
    "Para la descarga de datos, se ha optado por el uso de un API.\n",
    "En concreto se va a utilizar el API de goodreads, una página especializada en libros, con más de 85 millones de usuarios y más de 2.5 billones (americanos) de libros. ([https://www.goodreads.com/about/us](https://www.goodreads.com/about/us)).\n",
    "\n",
    "El API ([https://www.goodreads.com/api](https://www.goodreads.com/api)) disponde un endpoint rest en el que se puede obtener la información detallada de un libro por _ISBN_ o por un _ID_ propio de su sistema. \n",
    "Para el caso de esta práctica se ha hecho un script en python (*goodreads.py*) que permite descargar la lista completa de libros en un fichero csv. Para facilitar el uso del notebook, se proporciorna un fichero csv con los libros descargados previamente: _books.csv_ \n",
    "\n",
    "Para usar el script bastaría con lanzar el comando: `python3 goodreads.py` Este script acepta parametros de entrada, como desde que libro hasta que libro se quiere ir, y cuantos libros se quieren saltar entre cada libro. `python3 goodreads.py -o FILENAME -s START_BOOK -e END_BOOK -l SKIP_BOOKS` "
   ]
  },
  {
   "cell_type": "markdown",
   "metadata": {},
   "source": [
    "## Carga inicial de los datos <a class=\"anchor\" name=\"carga-inicial\"/>\n",
    "\n",
    "Se carga en memoria mediante pandas el dataset de libros almancenado en _books.csv_. \n",
    "\n",
    "Adicionalmente se obtiene la primera información sobre los datos que contine el dataset. "
   ]
  },
  {
   "cell_type": "code",
   "execution_count": null,
   "metadata": {},
   "outputs": [],
   "source": [
    "import pandas as pd\n",
    "\n",
    "df = pd.read_csv(\"books.csv\")\n",
    "df.info()"
   ]
  },
  {
   "cell_type": "code",
   "execution_count": null,
   "metadata": {},
   "outputs": [],
   "source": [
    "df.head()"
   ]
  },
  {
   "cell_type": "markdown",
   "metadata": {},
   "source": [
    "## Observación de valores nulos <a class=\"anchor\" name=\"datos-nulos\"/>\n",
    "El siguiente paso es observar los datos, los valores que toman y si hay valores nulos. \n",
    "\n",
    "Para cada una de las columnas del dataset se identifica si tienen valores nulos y cuántos hay en cada uno y la acción a tomar en cada caso.\n"
   ]
  },
  {
   "cell_type": "markdown",
   "metadata": {},
   "source": [
    "Con los tipos y la muestra, se puede deducir la información de cada columna:\n",
    "\n",
    "| Columna | Tipo | Observaciones | Tipo de Campo |\n",
    "| --- | --- | --- | --- |\n",
    "| id | int64 | ID en GoodReads | Identificador |\n",
    "| isbn | object |  ISBN | Identificador |\n",
    "| title | object |  Titulo | Información |\n",
    "| isbn13 | float64 | Codigo ISBN de 13 digitos |  Identificador |\n",
    "| asin | object | ??? |  Identificador |\n",
    "| kindle_asin | float64 | Codigo Kindle |  Identificador |\n",
    "| marketplace_id | float64 | Código del mercado |  Identificador |\n",
    "| country_code | object |  Código de País | Información |\n",
    "| publication_date | object |  Fecha de publicación | Información | \n",
    "| publisher | object | Publicador/Editorial | Información |\n",
    "| language_code | object | Código de idioma de la publicación | Información |\n",
    "| is_ebook | bool | Es un E-Book | Información |\n",
    "| books_count | int64 | ? | Usuarios |\n",
    "| best_book_id | int64 | ? | Usuarios |\n",
    "| reviews_count | int64 | Número de opiniones | Usuarios |\n",
    "| ratings_sum | int64 | Sumatorio de las puntuaciones | Usuarios |\n",
    "| ratings_count | int64 | Número de puntuaciones | Usuarios |\n",
    "| text_reviews_count | int64 | Número de opiniones escritas | Usuarios |\n",
    "| original_publication_date | object | Fecha de publicación original | Informacion |\n",
    "| original_title | object| Titulo original | Informacion |\n",
    "| media_type | object | Tipo de medio | Información |\n",
    "| num_ratings_5 | int64 | Número de veces que han puntuado con un 5 | Usuarios |\n",
    "| num_ratings_4 | int64 | Número de veces que han puntuado con un 4 | Usuarios |\n",
    "| num_ratings_3 | int64 | Número de veces que han puntuado con un 3 | Usuarios |\n",
    "| num_ratings_2 | int64 | Número de veces que han puntuado con un 2 | Usuarios |\n",
    "| num_ratings_1 | int64 | Número de veces que han puntuado con un 1 | Usuarios |\n",
    "| average_rating | float64 | Valoración media | Usuarios |\n",
    "| num_pages | float64 | Número de páginas | Información |\n",
    "| format | object | Formato | Información |\n",
    "| edition_information | object  | Informacíón sobre la edición | Información |\n",
    "| ratings_count_global | int64  | Número de valoraciones total | Usuarios |\n",
    "| text_reviews_count_global | int64 | Número de reseñas total | Usuarios |\n",
    "| authors | object | Autor | Autores |\n",
    "| illustrator | object | Ilustrador | Autores | \n",
    "| contributor | object | Constribuidor | Autores |\n",
    "| editor | object | Editor | Autores |\n",
    "| translator | object | Traductor | Autores |\n",
    "| narrator | object | Narrador | Autores |\n",
    "| to_read | float64 | Número de personas que lo quieren leer | Usuarios |\n",
    "| read | int64 | Número de personas que lo han leído | Usuarios |\n",
    "| currently_reading | float64 | Número de personas que lo están leyendo | Usuarios |\n",
    "| genres | object | Lista de géneros | Información |\n",
    "\n",
    "Adicionalmente se ha identificado a que hace referencia cada columna:\n",
    "* Identificador : Identificadores del libro\n",
    "* Información: Información sobre el libro o la edición\n",
    "* Usuarios: Información sobre las valoraciones de los usuarios, reseñas, etc."
   ]
  },
  {
   "cell_type": "markdown",
   "metadata": {},
   "source": [
    "Se observa cuantos valores nulos contiene cada columna"
   ]
  },
  {
   "cell_type": "code",
   "execution_count": null,
   "metadata": {},
   "outputs": [],
   "source": [
    "df.isna().sum()"
   ]
  },
  {
   "cell_type": "markdown",
   "metadata": {},
   "source": [
    "### Información sobre los identificadores <a class=\"anchor\" name=\"columnas-identificadores\"/>"
   ]
  },
  {
   "cell_type": "markdown",
   "metadata": {},
   "source": [
    "Se eliminarán todas las filas que no contengan **isbn** ni **isbn13** dado que es un identificador de libro y va ayudar a eliminar libros que no tienen todos los datos cargados."
   ]
  },
  {
   "cell_type": "code",
   "execution_count": null,
   "metadata": {},
   "outputs": [],
   "source": [
    "df.dropna(subset=[\"isbn\", \"isbn13\"], inplace=True)"
   ]
  },
  {
   "cell_type": "markdown",
   "metadata": {},
   "source": [
    "Las columnas **asin**, **kindel_asin** y **marketplace_id** apenas si tienen valores, por lo que no parecen que vayan a ser estadísticamente relevantes por lo que se pueden eliminar del dataset."
   ]
  },
  {
   "cell_type": "code",
   "execution_count": null,
   "metadata": {},
   "outputs": [],
   "source": [
    "df.drop(columns = ['asin', 'kindle_asin', 'marketplace_id'], inplace=True)"
   ]
  },
  {
   "cell_type": "markdown",
   "metadata": {},
   "source": [
    "### Información sobre el libro <a class=\"anchor\" name=\"columnas-informacion\"/>"
   ]
  },
  {
   "cell_type": "markdown",
   "metadata": {},
   "source": [
    "Se observa que todos los libros tienen titulo(**title**) y practicamente todos tienes **original_title**. Se suprime los libros que no tienen alguno de esos dos campos debido al gran volumen de información que tenemos y así poder mezclar mejor los datos."
   ]
  },
  {
   "cell_type": "code",
   "execution_count": null,
   "metadata": {},
   "outputs": [],
   "source": [
    "df.dropna(subset=[\"title\", \"original_title\"], inplace=True)"
   ]
  },
  {
   "cell_type": "markdown",
   "metadata": {},
   "source": [
    "Las columna **country_code** no contiene nulos pero se ve que todos los valores son iguales por lo que podría ser eliminada."
   ]
  },
  {
   "cell_type": "code",
   "execution_count": null,
   "metadata": {},
   "outputs": [],
   "source": [
    "df.country_code.unique()"
   ]
  },
  {
   "cell_type": "code",
   "execution_count": null,
   "metadata": {},
   "outputs": [],
   "source": [
    "df.drop(columns = ['country_code'], inplace=True)"
   ]
  },
  {
   "cell_type": "markdown",
   "metadata": {},
   "source": [
    "#### ¿Qué hacer con la columna de fechas?"
   ]
  },
  {
   "cell_type": "code",
   "execution_count": null,
   "metadata": {},
   "outputs": [],
   "source": [
    "print(\"publication_date\", df.publication_date.isna().sum())\n",
    "print(\"original_publication_date\", df.original_publication_date.isna().sum())\n",
    "df.dropna(subset=[\"original_publication_date\"], inplace=True)\n",
    "print(\"publication_date\", df.publication_date.isna().sum())\n",
    "print(\"original_publication_date\", df.original_publication_date.isna().sum())"
   ]
  },
  {
   "cell_type": "markdown",
   "metadata": {},
   "source": [
    "Tanto la columna **publisher** como **language_code** contienen nulos y deben ser tratados como *unkown* en lugar de como nulos, dado que es una información que no ha sido proporcionada."
   ]
  },
  {
   "cell_type": "code",
   "execution_count": null,
   "metadata": {},
   "outputs": [],
   "source": [
    "df.publisher.fillna(value=\"unknown\", inplace=True)\n",
    "df.language_code.fillna(value=\"unknown\", inplace=True)"
   ]
  },
  {
   "cell_type": "markdown",
   "metadata": {},
   "source": [
    "La columna **is_ebook** no contine nulos y tiene un valor boolean en el que indica si un libro está en formato electrónico o no."
   ]
  },
  {
   "cell_type": "code",
   "execution_count": null,
   "metadata": {},
   "outputs": [],
   "source": [
    "df.is_ebook.unique()"
   ]
  },
  {
   "cell_type": "markdown",
   "metadata": {},
   "source": [
    "Parece que la columna **media_type** tiene nulos, se obtienen los valores únicos:"
   ]
  },
  {
   "cell_type": "code",
   "execution_count": null,
   "metadata": {},
   "outputs": [],
   "source": [
    "df[\"media_type\"].unique()"
   ]
  },
  {
   "cell_type": "markdown",
   "metadata": {},
   "source": [
    "Se comprueba qué tipo de elementos son considerados *not a book*:"
   ]
  },
  {
   "cell_type": "code",
   "execution_count": null,
   "metadata": {},
   "outputs": [],
   "source": [
    "df[[\"title\", \"media_type\"]][df.media_type == \"not a book\"].head()"
   ]
  },
  {
   "cell_type": "markdown",
   "metadata": {},
   "source": [
    "Se verifican ahora los que se consideran *periodical*:"
   ]
  },
  {
   "cell_type": "code",
   "execution_count": null,
   "metadata": {},
   "outputs": [],
   "source": [
    "df[[\"title\", \"media_type\"]][df.media_type == \"periodical\"].head()"
   ]
  },
  {
   "cell_type": "markdown",
   "metadata": {},
   "source": [
    "Por último, se revisa cuales son considerados nulos:"
   ]
  },
  {
   "cell_type": "code",
   "execution_count": null,
   "metadata": {},
   "outputs": [],
   "source": [
    "df[[\"title\", \"media_type\"]][df.media_type.isna()].head()"
   ]
  },
  {
   "cell_type": "markdown",
   "metadata": {},
   "source": [
    "Se reemplazan los libros con **media_type** *NaN* por *Unknown*:"
   ]
  },
  {
   "cell_type": "code",
   "execution_count": null,
   "metadata": {},
   "outputs": [],
   "source": [
    "df.media_type.fillna(value='unknown', inplace=True)\n",
    "df.media_type.unique()"
   ]
  },
  {
   "cell_type": "markdown",
   "metadata": {},
   "source": [
    "La columna **num_pages** contiene valores nulos. \n",
    "Hay que tenerlo en cuenta a la hora de calcular datos con ésta columna (p.ej la media, etc)."
   ]
  },
  {
   "cell_type": "markdown",
   "metadata": {},
   "source": [
    "Además, se comprubea si hay libros con 0 páginas, en ese caso se modifica su valor por np.nan"
   ]
  },
  {
   "cell_type": "code",
   "execution_count": null,
   "metadata": {},
   "outputs": [],
   "source": [
    "import numpy as np\n",
    "df.loc[df.num_pages == 0, \"num_pages\"] = np.nan\n",
    "df.num_pages.isna().sum()"
   ]
  },
  {
   "cell_type": "code",
   "execution_count": null,
   "metadata": {},
   "outputs": [],
   "source": [
    "df.num_pages.loc[~df.num_pages.isna()].mean() #num_pages_mean sin tener en cuenta datos nulos"
   ]
  },
  {
   "cell_type": "code",
   "execution_count": null,
   "metadata": {},
   "outputs": [],
   "source": [
    "df.num_pages.loc[~df.num_pages.isna()].astype(\"int64\").unique()"
   ]
  },
  {
   "cell_type": "markdown",
   "metadata": {},
   "source": [
    "Se analiza la columna **format** y se observan valores nulos"
   ]
  },
  {
   "cell_type": "code",
   "execution_count": null,
   "metadata": {},
   "outputs": [],
   "source": [
    "df.format.unique()"
   ]
  },
  {
   "cell_type": "markdown",
   "metadata": {},
   "source": [
    "Para evitar el borrado de muchos libros de forma inncesaria a todos los libros que no tengan un formato especificado se les asigna el formato \"unknown\""
   ]
  },
  {
   "cell_type": "code",
   "execution_count": null,
   "metadata": {},
   "outputs": [],
   "source": [
    "df.format = df.format.fillna(value=\"unknown\")\n",
    "df.format.value_counts()"
   ]
  },
  {
   "cell_type": "markdown",
   "metadata": {},
   "source": [
    "Del mismo modo que la columna anterior, se analiza la columna **edition_information** y se tratan los valores nulos. "
   ]
  },
  {
   "cell_type": "code",
   "execution_count": null,
   "metadata": {},
   "outputs": [],
   "source": [
    "df.edition_information.head()"
   ]
  },
  {
   "cell_type": "markdown",
   "metadata": {},
   "source": [
    "Para evitar el borrado de muchos libros de forma inncesaria se asigna el formato \"unknown\". "
   ]
  },
  {
   "cell_type": "code",
   "execution_count": null,
   "metadata": {},
   "outputs": [],
   "source": [
    "df.edition_information = df.edition_information.fillna(value=\"unknown\")\n",
    "df.edition_information.value_counts().head()"
   ]
  },
  {
   "cell_type": "markdown",
   "metadata": {},
   "source": [
    "Se puede observar que en la mayoría de los casos no se ha propocionado información por lo que esta información puede terminar no siendo de utilidad. "
   ]
  },
  {
   "cell_type": "markdown",
   "metadata": {},
   "source": [
    "Sobre el campo **genres** se puede ver que es un campo con multivalores, por lo que el tratamiento que se hará en convertir el campo de generos a columnas, para ello se utiliza la función \"get_dummies\" que genera tantas columnas como generos haya."
   ]
  },
  {
   "cell_type": "markdown",
   "metadata": {},
   "source": [
    "Para evitar hacer la operación getdummies, que es un poco pesada, se ha creado otro notebook, create_genres que genera un csv con los generos ya normalizados en columnas, y en este punto unicamente se hace la unión con el datafrme "
   ]
  },
  {
   "cell_type": "code",
   "execution_count": null,
   "metadata": {},
   "outputs": [],
   "source": [
    "#df.join(df.genres.str.get_dummies(sep=\",\"))\n",
    "df_genres = pd.read_csv(\"genres.csv\")\n",
    "df = df.join(df_genres)\n",
    "df.columns"
   ]
  },
  {
   "cell_type": "markdown",
   "metadata": {},
   "source": [
    "### Información sobre los usuarios <a class=\"anchor\" name=\"columnas-usuarios\"/>"
   ]
  },
  {
   "cell_type": "markdown",
   "metadata": {},
   "source": [
    "Las columnas **books_count** y **best_book_id** no tienen un valor relevante para este estudio por lo que se eliminan del set de datos."
   ]
  },
  {
   "cell_type": "code",
   "execution_count": null,
   "metadata": {},
   "outputs": [],
   "source": [
    "df.drop(columns=[\"books_count\", \"best_book_id\"], inplace=True)"
   ]
  },
  {
   "cell_type": "markdown",
   "metadata": {},
   "source": [
    "Como se ha observado anteriormente, se ve si existen nulos en las columnas referidas a las valoraciones de los usuarios:"
   ]
  },
  {
   "cell_type": "code",
   "execution_count": null,
   "metadata": {},
   "outputs": [],
   "source": [
    "print(\"reviews_count: {}\".format(df.reviews_count.isna().sum()))\n",
    "print(\"ratings_sum: {}\".format(df.ratings_sum.isna().sum()))\n",
    "print(\"ratings_count: {}\".format(df.ratings_count.isna().sum()))\n",
    "print(\"text_reviews_count: {}\".format(df.text_reviews_count.isna().sum()))\n",
    "print(\"text_reviews_count_global: {}\".format(df.text_reviews_count_global.isna().sum()))\n",
    "print(\"num_ratings_5: {}\".format(df.num_ratings_5.isna().sum()))\n",
    "print(\"num_ratings_4: {}\".format(df.num_ratings_4.isna().sum()))\n",
    "print(\"num_ratings_3: {}\".format(df.num_ratings_3.isna().sum()))\n",
    "print(\"num_ratings_2: {}\".format(df.num_ratings_2.isna().sum()))\n",
    "print(\"num_ratings_1: {}\".format(df.num_ratings_1.isna().sum()))\n",
    "print(\"average_rating: {}\".format(df.average_rating.isna().sum()))\n",
    "print(\"rating_count_global: {}\".format(df.ratings_count_global.isna().sum()))\n",
    "print(\"to read: {}\".format(df.to_read.isna().sum()))\n",
    "print(\"read: {}\".format(df.read.isna().sum()))\n",
    "print(\"currently reading: {}\".format(df.currently_reading.isna().sum()))"
   ]
  },
  {
   "cell_type": "markdown",
   "metadata": {},
   "source": [
    "Se analiza la columna **average_rating**. En caso de no tener valores, se deberían filtrar los registros que correspondan en una vista para hacer calculos. P.ej calcular los libros que tengan valoración por encima de la media.\n",
    "\n",
    "A priori, no se observan libross sin valoración media."
   ]
  },
  {
   "cell_type": "code",
   "execution_count": null,
   "metadata": {},
   "outputs": [],
   "source": [
    "df.average_rating.fillna(value=\"unknow\", inplace=True)\n",
    "df.average_rating.value_counts().head()"
   ]
  },
  {
   "cell_type": "markdown",
   "metadata": {},
   "source": [
    "A continuación se trata el campo **ratings_count_global**. Representa el total de valoraciones que ha recibido el libro.\n",
    "En caso de tener algun valor nulo, se reemplaza por cero."
   ]
  },
  {
   "cell_type": "code",
   "execution_count": null,
   "metadata": {},
   "outputs": [],
   "source": [
    "df.ratings_count_global.fillna(value=0, inplace=True)"
   ]
  },
  {
   "cell_type": "markdown",
   "metadata": {},
   "source": [
    "Además, el tipo de datos es el correcto para un contador"
   ]
  },
  {
   "cell_type": "code",
   "execution_count": null,
   "metadata": {},
   "outputs": [],
   "source": [
    "df.ratings_count_global.dtype"
   ]
  },
  {
   "cell_type": "markdown",
   "metadata": {},
   "source": [
    "Las columnas **to_read**, **read**, **currently_reading** se interprentan como un contador con la gente que ha leído, está leyendo o va leer el libro, por lo que se establece que los valores nulos se sustituyen por 0."
   ]
  },
  {
   "cell_type": "code",
   "execution_count": null,
   "metadata": {},
   "outputs": [],
   "source": [
    "df.to_read.fillna(value=0, inplace=True)\n",
    "df.read.fillna(value=0, inplace=True)\n",
    "df.currently_reading.fillna(value=0, inplace=True)"
   ]
  },
  {
   "cell_type": "markdown",
   "metadata": {},
   "source": [
    "Dado que representa un número de personas, se expresan los resultados como números enteros"
   ]
  },
  {
   "cell_type": "code",
   "execution_count": null,
   "metadata": {},
   "outputs": [],
   "source": [
    "df.to_read.astype('int64')\n",
    "df.read.astype('int64')\n",
    "df.currently_reading.astype('int64')"
   ]
  },
  {
   "cell_type": "code",
   "execution_count": null,
   "metadata": {},
   "outputs": [],
   "source": [
    "df.info()"
   ]
  },
  {
   "cell_type": "markdown",
   "metadata": {},
   "source": [
    "### Información sobre los autores <a class=\"anchor\" name=\"columnas-autores\"/>"
   ]
  },
  {
   "cell_type": "markdown",
   "metadata": {},
   "source": [
    "A continuación se tratan las columnas que tiene información sobre los autores, ilustradores, etc."
   ]
  },
  {
   "cell_type": "code",
   "execution_count": null,
   "metadata": {},
   "outputs": [],
   "source": [
    "print(\"authors: {}\".format(df.authors.isna().sum()))\n",
    "print(\"illustrator: {}\".format(df.illustrator.isna().sum()))\n",
    "print(\"contributor: {}\".format(df.contributor.isna().sum()))\n",
    "print(\"editor: {}\".format(df.editor.isna().sum()))\n",
    "print(\"translator: {}\".format(df.translator.isna().sum()))\n",
    "print(\"narrator: {}\".format(df.narrator.isna().sum()))\n"
   ]
  },
  {
   "cell_type": "markdown",
   "metadata": {},
   "source": [
    "Para este caso, unicamente se van a tratar a los autores, puesto que el resto de campos tienen muchos valores nulos y no aportan mucho valor al análisis que se va a realizar.\n",
    "Los autores nulos vamos a tratarlos como libros anonimos."
   ]
  },
  {
   "cell_type": "code",
   "execution_count": null,
   "metadata": {},
   "outputs": [],
   "source": [
    "df.authors.fillna(value=\"anonymous\", inplace=True)\n",
    "df.authors.isna().sum()"
   ]
  },
  {
   "cell_type": "markdown",
   "metadata": {},
   "source": [
    "\n",
    "Para evitar hacer la operación getdummies, que es un poco pesada, se ha creado otro notebook, create_authors que genera un csv con los autores ya normalizados en columnas, y en este punto unicamente se hace la unión con el dataframe "
   ]
  },
  {
   "cell_type": "code",
   "execution_count": null,
   "metadata": {},
   "outputs": [],
   "source": [
    "#df.join(df.genres.str.get_dummies(sep=\",\"))\n",
    "#df_authors = pd.read_csv(\"autores.csv\")\n",
    "#df = df.join(df_authors)\n",
    "#df.columns"
   ]
  },
  {
   "cell_type": "markdown",
   "metadata": {},
   "source": [
    "## Distribución y Correlaciones <a class=\"anchor\" name=\"distribucion-correlacion\"/>"
   ]
  },
  {
   "cell_type": "markdown",
   "metadata": {},
   "source": [
    "Tras la limpieza de datos nulos, se muestra como ha quedado la tabla"
   ]
  },
  {
   "cell_type": "code",
   "execution_count": null,
   "metadata": {},
   "outputs": [],
   "source": [
    "df.head()"
   ]
  },
  {
   "cell_type": "code",
   "execution_count": null,
   "metadata": {},
   "outputs": [],
   "source": []
  }
 ],
 "metadata": {
  "kernelspec": {
   "display_name": "Python 3",
   "language": "python",
   "name": "python3"
  },
  "language_info": {
   "codemirror_mode": {
    "name": "ipython",
    "version": 3
   },
   "file_extension": ".py",
   "mimetype": "text/x-python",
   "name": "python",
   "nbconvert_exporter": "python",
   "pygments_lexer": "ipython3",
   "version": "3.6.5"
  }
 },
 "nbformat": 4,
 "nbformat_minor": 2
}
