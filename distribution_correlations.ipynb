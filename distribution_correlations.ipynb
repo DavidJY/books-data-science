{
 "cells": [
  {
   "cell_type": "markdown",
   "metadata": {},
   "source": [
    "# Distribución y correlaciones"
   ]
  },
  {
   "cell_type": "markdown",
   "metadata": {},
   "source": [
    "## Indice\n",
    "* [Fechas de publicación](#Fechas-de-publicación)\n",
    "* [Géneros](#Géneros)\n",
    "* [Número de páginas](#Número-de-páginas)\n",
    "* [Formatos](#Formatos)\n",
    "* [Libros mejor valorados](#Libros-mejor-valorados)"
   ]
  },
  {
   "cell_type": "markdown",
   "metadata": {},
   "source": [
    "## Fechas de publicación"
   ]
  },
  {
   "cell_type": "markdown",
   "metadata": {},
   "source": [
    "Se comienza importando las librerías necesarias para llevar a cabo el estudio:"
   ]
  },
  {
   "cell_type": "code",
   "execution_count": null,
   "metadata": {},
   "outputs": [],
   "source": [
    "import pandas as pd\n",
    "from datetime import datetime\n",
    "import numpy as np"
   ]
  },
  {
   "cell_type": "markdown",
   "metadata": {},
   "source": [
    "A continuación se carga el dataset:"
   ]
  },
  {
   "cell_type": "code",
   "execution_count": null,
   "metadata": {},
   "outputs": [],
   "source": [
    "df = pd.read_csv(\"books.csv\")\n",
    "df.info()"
   ]
  },
  {
   "cell_type": "markdown",
   "metadata": {},
   "source": [
    "Existen dos columnas relacionadas con las fechas de publicación, **publication_date** y **original_publication_date**. Para comprobar cuál es más interesante para el estudio, se analizan los nulos en cada una de ellas:"
   ]
  },
  {
   "cell_type": "code",
   "execution_count": null,
   "metadata": {},
   "outputs": [],
   "source": [
    "print(\"Nulos en la columna *publication_date*: {}\".format(df.publication_date.isnull().sum()))\n",
    "print(\"Nulos en la columna *original_publication_date*: {}\".format(df.original_publication_date.isnull().sum()))"
   ]
  },
  {
   "cell_type": "markdown",
   "metadata": {},
   "source": [
    "Dado que **original_publication_date** tiene sensiblemente menos nulos, se escoge esta columna para el estudio. Se obtiene el dataframe que interesa, convirtiendo la columna **original_publication_date** a tipo *fecha* y eliminando los nulos:"
   ]
  },
  {
   "cell_type": "code",
   "execution_count": null,
   "metadata": {},
   "outputs": [],
   "source": [
    "s_dates = pd.to_datetime(df.original_publication_date, errors=\"coerce\")\n",
    "s_dates.dropna(inplace=True)\n",
    "print(\"Nulos en la columna *original_publication_date*: {}\".format(s_dates.isnull().sum()))\n",
    "s_dates.head()"
   ]
  },
  {
   "cell_type": "markdown",
   "metadata": {},
   "source": [
    "Se comprueba cual es el valor máximo y mínimo de la serie:"
   ]
  },
  {
   "cell_type": "code",
   "execution_count": null,
   "metadata": {},
   "outputs": [],
   "source": [
    "print(\"Fecha más reciente: {}\".format(s_dates.max()))\n",
    "print(\"Fecha más antigua: {}\".format(s_dates.min()))"
   ]
  },
  {
   "cell_type": "markdown",
   "metadata": {},
   "source": [
    "Se observa que existen libros cuya fecha original de publicación es el año 2068, por lo que se decide eliminar aquellos libros con fecha posterior al 2019. Para acotar el estudio al siglo XVIII y en adelante, también se decide eliminar aquellos libros con fecha de publicación anterior al año 1900:"
   ]
  },
  {
   "cell_type": "code",
   "execution_count": null,
   "metadata": {},
   "outputs": [],
   "source": [
    "mask = ((s_dates > datetime.strptime(\"2020\", '%Y')) | (s_dates < datetime.strptime(\"1900\", '%Y')))\n",
    "s_dates.drop(s_dates.loc[mask].index, inplace=True)\n",
    "\n",
    "print(\"Los 5 más recientes:\\n{}\".format(s_dates.sort_values(ascending=False)[:5]))\n",
    "print(\"Los 5 más antiguos:\\n{}\".format(s_dates.sort_values(ascending=True)[:5]))"
   ]
  },
  {
   "cell_type": "markdown",
   "metadata": {},
   "source": [
    "Se procede a agrupar los resultados por año de publicación:"
   ]
  },
  {
   "cell_type": "code",
   "execution_count": null,
   "metadata": {},
   "outputs": [],
   "source": [
    "s_dates = s_dates.groupby(s_dates.dt.year).agg('count')\n",
    "s_dates.head()"
   ]
  },
  {
   "cell_type": "markdown",
   "metadata": {},
   "source": [
    "A continuación se muestra esta información representada en un gráfico de barras:"
   ]
  },
  {
   "cell_type": "code",
   "execution_count": null,
   "metadata": {},
   "outputs": [],
   "source": [
    "%matplotlib inline\n",
    "import matplotlib.pyplot as plt\n",
    "from matplotlib import colors\n",
    "\n",
    "norm = colors.Normalize(0, 1750)\n",
    "\n",
    "def get_color(value):\n",
    "         \"\"\"Return color.\"\"\"\n",
    "         return plt.cm.viridis(norm(value))\n",
    "\n",
    "bar_colors = [get_color(i) for i in s_dates.values]\n",
    "\n",
    "fig = plt.figure(figsize=(25,10))\n",
    "plt.bar(s_dates.index, s_dates.values, color=bar_colors)\n",
    "\n",
    "# Configuramos la figura\n",
    "plt.title('Publicaciones anuales')\n",
    "plt.xlabel('Fecha')\n",
    "plt.ylabel('Frecuencia (nº de libros)')\n",
    "plt.xticks(ticks=s_dates.index, rotation='vertical')\n",
    "plt.grid()\n",
    "    \n",
    "plt.show()"
   ]
  },
  {
   "cell_type": "markdown",
   "metadata": {},
   "source": [
    "### Conclusiones\n",
    "\n",
    "Tal y como se aprecia en la figura anterior, el año 2006 es el año con más publicaciones dentro de los datos obtenidos en el dataset."
   ]
  },
  {
   "cell_type": "markdown",
   "metadata": {},
   "source": [
    "## Géneros"
   ]
  },
  {
   "cell_type": "markdown",
   "metadata": {},
   "source": [
    "A continuación se estudiará la distribución de los genéros dentro del dataset objeto de estudio.\n",
    "\n",
    "Lo primero que se puede comprobar es que la variable *genres* es de tipo multivaluado:"
   ]
  },
  {
   "cell_type": "code",
   "execution_count": null,
   "metadata": {},
   "outputs": [],
   "source": [
    "df.genres.head()"
   ]
  },
  {
   "cell_type": "markdown",
   "metadata": {},
   "source": [
    "Por otra parte, también se observa que la columna cuenta con nulos:"
   ]
  },
  {
   "cell_type": "code",
   "execution_count": null,
   "metadata": {},
   "outputs": [],
   "source": [
    "df.genres.isna().sum()"
   ]
  },
  {
   "cell_type": "markdown",
   "metadata": {},
   "source": [
    "En este caso, para el estudio sobre los géneros, interesa sustituir los valores nulos por el literal *unknown*. Se llevará a cabo haciendo una copia del dataframe, únicamente de la columna de interés, y así mantener el original intacto:"
   ]
  },
  {
   "cell_type": "code",
   "execution_count": null,
   "metadata": {},
   "outputs": [],
   "source": [
    "df_genres = df[[\"genres\"]].copy()\n",
    "df_genres.fillna(value=\"unknown\", inplace=True)\n",
    "print(\"Nulos en la columna genres: {}\".format(df_genres.genres.isna().sum()))\n",
    "df_genres.head(3)"
   ]
  },
  {
   "cell_type": "markdown",
   "metadata": {},
   "source": [
    "Sobre el dataframe de estudio, se utiliza la función *get_dummies* que extraerá todos los géneros a columnas y se eliminará la columna original *genres*:"
   ]
  },
  {
   "cell_type": "code",
   "execution_count": null,
   "metadata": {},
   "outputs": [],
   "source": [
    "df_genres = df_genres.join(df_genres.genres.str.get_dummies(sep=\",\"))\n",
    "df_genres.drop(columns=[\"genres\"], inplace=True)\n",
    "df_genres.columns.values"
   ]
  },
  {
   "cell_type": "markdown",
   "metadata": {},
   "source": [
    "A continuación se obtiene una Serie con el sumatorio de cada una de las columnas; Es decir, el número de libros asociados a cada uno de los géneros. Se ordena en orden descendente:"
   ]
  },
  {
   "cell_type": "code",
   "execution_count": null,
   "metadata": {},
   "outputs": [],
   "source": [
    "s_genres = df_genres.sum()\n",
    "s_genres.sort_values(inplace=True, ascending=False)\n",
    "\n",
    "s_genres"
   ]
  },
  {
   "cell_type": "markdown",
   "metadata": {},
   "source": [
    "Con el objetivo de generar el gráfico de barras correspondiente a los géneros más populares históricamente, se reducirá la muestra a aquellos que pertenecen al cuarto cuartil, el 25% de elementos con mayor frecuencia:"
   ]
  },
  {
   "cell_type": "code",
   "execution_count": null,
   "metadata": {},
   "outputs": [],
   "source": [
    "min_val = s_genres.quantile(.75)\n",
    "min_val"
   ]
  },
  {
   "cell_type": "code",
   "execution_count": null,
   "metadata": {},
   "outputs": [],
   "source": [
    "s_genres = s_genres.loc[s_genres >= min_val]\n",
    "s_genres.values"
   ]
  },
  {
   "cell_type": "markdown",
   "metadata": {},
   "source": [
    "A continuación el gráfico con la información de los géneros:"
   ]
  },
  {
   "cell_type": "code",
   "execution_count": null,
   "metadata": {},
   "outputs": [],
   "source": [
    "%matplotlib inline\n",
    "import matplotlib.pyplot as plt\n",
    "import numpy as np\n",
    "\n",
    "norm = colors.Normalize(s_genres.min(), s_genres.max())\n",
    "\n",
    "def get_color(value):\n",
    "         \"\"\"Return color.\"\"\"\n",
    "         return plt.cm.viridis(norm(value))\n",
    "\n",
    "bar_colors = [get_color(i) for i in s_genres.values]\n",
    "\n",
    "fig = plt.figure(figsize=(20,3))\n",
    "plt.bar(s_genres.index, s_genres.values, color=bar_colors)\n",
    "\n",
    "# Configuramos la figura\n",
    "plt.title('Géneros más populares')\n",
    "plt.xlabel('Géneros')\n",
    "plt.ylabel('Frecuencia')\n",
    "plt.xticks(rotation='vertical')\n",
    "plt.grid()\n",
    "\n",
    "plt.show()"
   ]
  },
  {
   "cell_type": "markdown",
   "metadata": {},
   "source": [
    "Por último, se muestra esta misma información, en esta ocasión con una nube de palabras:"
   ]
  },
  {
   "cell_type": "code",
   "execution_count": null,
   "metadata": {},
   "outputs": [],
   "source": [
    "from wordcloud import WordCloud\n",
    "\n",
    "wordcloud = WordCloud(\n",
    "    background_color=\"white\",\n",
    "    max_font_size=40,\n",
    "    relative_scaling=.5\n",
    ").generate(str(s_genres))\n",
    "\n",
    "plt.figure(figsize=(10,10))\n",
    "plt.imshow(wordcloud, interpolation=\"bilinear\")\n",
    "plt.axis(\"off\")\n",
    "plt.show()"
   ]
  },
  {
   "cell_type": "markdown",
   "metadata": {},
   "source": [
    "### Conclusiones\n",
    "\n",
    "Como se observa en ambas figuras, los 10 géneros más populares que aparecen en el dataset son:"
   ]
  },
  {
   "cell_type": "code",
   "execution_count": null,
   "metadata": {},
   "outputs": [],
   "source": [
    "s_genres[:10]"
   ]
  },
  {
   "cell_type": "markdown",
   "metadata": {},
   "source": [
    "## Número de páginas"
   ]
  },
  {
   "cell_type": "markdown",
   "metadata": {},
   "source": [
    "En este punto se va a analizar la distribución del número de páginas de los libros.\n",
    "\n",
    "Primero se observan los valores nulos del dataset para esta variable:"
   ]
  },
  {
   "cell_type": "code",
   "execution_count": null,
   "metadata": {},
   "outputs": [],
   "source": [
    "df.num_pages.isnull().sum()"
   ]
  },
  {
   "cell_type": "markdown",
   "metadata": {},
   "source": [
    "Se obtiene la serie sobre la que se va a realizar el estudio, se eliminan los nulos que no aportan valor al estudio y se cambia el tipo a int16:"
   ]
  },
  {
   "cell_type": "code",
   "execution_count": null,
   "metadata": {},
   "outputs": [],
   "source": [
    "s_pages = df.num_pages.dropna()\n",
    "print(\"Nulos en la serie: {}\".format(s_pages.isnull().sum()))\n",
    "s_pages = s_pages.astype(np.int16)\n",
    "s_pages.head()"
   ]
  },
  {
   "cell_type": "markdown",
   "metadata": {},
   "source": [
    "Información estadística sobre el número de páginas de los libros:"
   ]
  },
  {
   "cell_type": "code",
   "execution_count": null,
   "metadata": {},
   "outputs": [],
   "source": [
    "s_pages.describe()"
   ]
  },
  {
   "cell_type": "markdown",
   "metadata": {},
   "source": [
    "## Formatos"
   ]
  },
  {
   "cell_type": "markdown",
   "metadata": {},
   "source": [
    "El objetivo de este punto es analizar el dataset en función del formato de los libros.\n",
    "\n",
    "Para ello, obtenemos la serie de los formatos, habiendo sustituido los nulos por el valor *unknown*:"
   ]
  },
  {
   "cell_type": "code",
   "execution_count": null,
   "metadata": {},
   "outputs": [],
   "source": [
    "s_format = df.format.fillna(\"unknown\")\n",
    "print(\"Nulos: {}\".format(s_format.isnull().sum()))\n",
    "s_format.unique()"
   ]
  },
  {
   "cell_type": "markdown",
   "metadata": {},
   "source": [
    "A continuación se obtiene el número de libros por cada formato:"
   ]
  },
  {
   "cell_type": "code",
   "execution_count": null,
   "metadata": {},
   "outputs": [],
   "source": [
    "s_format_count = s_format.value_counts()\n",
    "s_format_count"
   ]
  },
  {
   "cell_type": "markdown",
   "metadata": {},
   "source": [
    "Ya que aparecen muchos formatos que no nos aportan información al estudio, se obtienen aquellos correspondientes con el último cuartil más representativo:"
   ]
  },
  {
   "cell_type": "code",
   "execution_count": null,
   "metadata": {},
   "outputs": [],
   "source": [
    "s_format_count = s_format_count.sort_values(ascending=False).loc[s_format_count.values > s_format_count.quantile(.75)]\n",
    "s_format_count"
   ]
  },
  {
   "cell_type": "markdown",
   "metadata": {},
   "source": [
    "A continuación se muestra el gráfico de barras con esta información:"
   ]
  },
  {
   "cell_type": "code",
   "execution_count": null,
   "metadata": {},
   "outputs": [],
   "source": [
    "%matplotlib inline\n",
    "\n",
    "norm = colors.Normalize(s_format_count.min(), s_format_count.max())\n",
    "\n",
    "def get_color(value):\n",
    "         \"\"\"Return color.\"\"\"\n",
    "         return plt.cm.viridis(norm(value))\n",
    "\n",
    "bar_colors = [get_color(i) for i in s_format_count.values]\n",
    "\n",
    "fig = plt.figure(figsize=(15,5))\n",
    "plt.bar(s_format_count.index, s_format_count.values, color=bar_colors)\n",
    "\n",
    "# Configuramos la figura\n",
    "plt.title('Formato de los libros')\n",
    "plt.xlabel('Formato')\n",
    "plt.ylabel('Frecuencia')\n",
    "plt.xticks(ticks=s_format_count.index, rotation='vertical')\n",
    "plt.grid()\n",
    "    \n",
    "plt.show()"
   ]
  },
  {
   "cell_type": "markdown",
   "metadata": {},
   "source": [
    "Tal y como muestra la figura anterior, los 10 formatos más comunes son (sin tener encuenta los *unknowns*):\n",
    "1. Paperback\n",
    "2. Hardcover\n",
    "3. Mass Market Paperback\n",
    "4. Unknown Binding\n",
    "5. Audio CD\n",
    "6. Audiobook\n",
    "7. Audio Cassette\n",
    "8. Board Book\n",
    "9. Audio\n",
    "10. Spiral-bound"
   ]
  },
  {
   "cell_type": "markdown",
   "metadata": {},
   "source": [
    "# Libros mejor valorados"
   ]
  },
  {
   "cell_type": "markdown",
   "metadata": {},
   "source": [
    "En este punto se va a analizar los libros con mejor valoración del dataset.\n",
    "\n",
    "Para ello, se obtiene la vista del dataset compuesta por las columnas:\n",
    "* Título\n",
    "* Valoración media\n",
    "* Número de valoraciones\n",
    "* Suma de valoraciones\n",
    "\n",
    "Se ordenan los resultados en orden descendente y se muestran los primeros:"
   ]
  },
  {
   "cell_type": "code",
   "execution_count": null,
   "metadata": {},
   "outputs": [],
   "source": [
    "df_ratings = df[[\"original_title\", \"authors\", \"average_rating\", \"ratings_count\", \"ratings_sum\"]].sort_values(by=[\"ratings_sum\"], ascending=False).head(100)\n",
    "best_ratings = df_ratings.groupby(['original_title']).size()\n",
    "best_ratings = best_ratings.sort_values(ascending=False)\n",
    "best_ratings"
   ]
  },
  {
   "cell_type": "markdown",
   "metadata": {},
   "source": [
    "A continuación se muestra un gráfico de barras con la misma información:"
   ]
  },
  {
   "cell_type": "code",
   "execution_count": null,
   "metadata": {},
   "outputs": [],
   "source": [
    "from matplotlib import colors\n",
    "\n",
    "norm = colors.Normalize(best_ratings.min(), best_ratings.max())\n",
    "\n",
    "def get_color(value):\n",
    "         \"\"\"Return color.\"\"\"\n",
    "         return plt.cm.viridis(norm(value))\n",
    "\n",
    "bar_colors = [get_color(i) for i in best_ratings.values]\n",
    "\n",
    "fig = plt.figure(figsize=(20,10))\n",
    "plt.bar(best_ratings.index, best_ratings.values, color=bar_colors)\n",
    "\n",
    "# Configuramos la figura\n",
    "plt.title('Libros mejor puntuados')\n",
    "plt.xlabel('Libros')\n",
    "plt.ylabel('Puntuación total')\n",
    "plt.xticks(rotation='vertical')\n",
    "plt.grid()\n",
    "\n",
    "plt.show()"
   ]
  },
  {
   "cell_type": "markdown",
   "metadata": {},
   "source": [
    "### Conclusiones"
   ]
  },
  {
   "cell_type": "markdown",
   "metadata": {},
   "source": [
    "La lista con los libros mejor valorados es:\n",
    "\n",
    "1. Pride and Prejudice                                     10\n",
    "2. Harry Potter and the Philosopher's Stone                 7\n",
    "3. Little Women                                             5\n",
    "4. Harry Potter and the Order of the Phoenix                5\n",
    "5. Harry Potter and the Prisoner of Azkaban                 5\n",
    "6. Memoirs of a Geisha                                      5\n",
    "7. The Fellowship of the Ring                               5\n",
    "8. The Da Vinci Code                                        4\n",
    "9. Harry Potter and the Half-Blood Prince                   4\n",
    "10. Harry Potter and the Chamber of Secrets                 4\n",
    "11. Of Mice and Men                                         3\n",
    "12. O Alquimista                                            3\n",
    "13. Nineteen Eighty-Four                                    3\n",
    "14. Lord of the Flies                                       3\n",
    "15. The Lovely Bones                                        3\n",
    "16. Het Achterhuis                                          3\n",
    "17. An Excellent conceited Tragedie of Romeo and Iuliet     3\n",
    "18. The Giver                                               3\n",
    "19. The Hobbit, or There and Back Again                     2\n",
    "20. The Lion, the Witch and the Wardrobe                    2\n",
    "21. Harry Potter and the Goblet of Fire                     2\n",
    "22. Angels & Demons                                         2\n",
    "23. Jane Eyre                                               2\n",
    "24. Animal Farm: A Fairy Story                              1\n",
    "25. A Game of Thrones                                       1\n",
    "26. The Kite Runner                                         1\n",
    "27. Harry Potter and the Deathly Hallows                    1\n",
    "28. The Lightning Thief                                     1\n",
    "29. The Catcher in the Rye                                  1\n",
    "30. To Kill a Mockingbird                                   1"
   ]
  }
 ],
 "metadata": {
  "kernelspec": {
   "display_name": "Python 3",
   "language": "python",
   "name": "python3"
  },
  "language_info": {
   "codemirror_mode": {
    "name": "ipython",
    "version": 3
   },
   "file_extension": ".py",
   "mimetype": "text/x-python",
   "name": "python",
   "nbconvert_exporter": "python",
   "pygments_lexer": "ipython3",
   "version": "3.7.2"
  }
 },
 "nbformat": 4,
 "nbformat_minor": 2
}
