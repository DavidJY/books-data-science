{
 "cells": [
  {
   "cell_type": "markdown",
   "metadata": {},
   "source": [
    "## Análisis exploratorio"
   ]
  },
  {
   "cell_type": "markdown",
   "metadata": {},
   "source": [
    "Cargamos el dataframe:"
   ]
  },
  {
   "cell_type": "code",
   "execution_count": 45,
   "metadata": {},
   "outputs": [
    {
     "data": {
      "text/html": [
       "<div>\n",
       "<style scoped>\n",
       "    .dataframe tbody tr th:only-of-type {\n",
       "        vertical-align: middle;\n",
       "    }\n",
       "\n",
       "    .dataframe tbody tr th {\n",
       "        vertical-align: top;\n",
       "    }\n",
       "\n",
       "    .dataframe thead th {\n",
       "        text-align: right;\n",
       "    }\n",
       "</style>\n",
       "<table border=\"1\" class=\"dataframe\">\n",
       "  <thead>\n",
       "    <tr style=\"text-align: right;\">\n",
       "      <th></th>\n",
       "      <th>books_count</th>\n",
       "      <th>best_book_id</th>\n",
       "      <th>reviews_count</th>\n",
       "      <th>ratings_sum</th>\n",
       "      <th>ratings_count</th>\n",
       "      <th>text_reviews_count</th>\n",
       "      <th>original_publication_date</th>\n",
       "      <th>original_title</th>\n",
       "      <th>media_type</th>\n",
       "      <th>num_ratings_5</th>\n",
       "      <th>num_ratings_4</th>\n",
       "      <th>num_ratings_3</th>\n",
       "      <th>num_ratings_2</th>\n",
       "      <th>num_ratings_1</th>\n",
       "    </tr>\n",
       "  </thead>\n",
       "  <tbody>\n",
       "    <tr>\n",
       "      <th>0</th>\n",
       "      <td>329</td>\n",
       "      <td>1</td>\n",
       "      <td>2484565</td>\n",
       "      <td>9397945</td>\n",
       "      <td>2061689</td>\n",
       "      <td>33051</td>\n",
       "      <td>2005/7/16</td>\n",
       "      <td>Harry Potter and the Half-Blood Prince</td>\n",
       "      <td>book</td>\n",
       "      <td>1370717</td>\n",
       "      <td>511319</td>\n",
       "      <td>148108</td>\n",
       "      <td>23215</td>\n",
       "      <td>8330</td>\n",
       "    </tr>\n",
       "    <tr>\n",
       "      <th>1</th>\n",
       "      <td>204</td>\n",
       "      <td>3</td>\n",
       "      <td>6587807</td>\n",
       "      <td>25971026</td>\n",
       "      <td>5817260</td>\n",
       "      <td>93396</td>\n",
       "      <td>1997/6/26</td>\n",
       "      <td>Harry Potter and the Philosopher's Stone</td>\n",
       "      <td>book</td>\n",
       "      <td>3732124</td>\n",
       "      <td>1357541</td>\n",
       "      <td>517618</td>\n",
       "      <td>117411</td>\n",
       "      <td>92566</td>\n",
       "    </tr>\n",
       "    <tr>\n",
       "      <th>2</th>\n",
       "      <td>148</td>\n",
       "      <td>5</td>\n",
       "      <td>2961357</td>\n",
       "      <td>10494960</td>\n",
       "      <td>2305410</td>\n",
       "      <td>45165</td>\n",
       "      <td>1999/7/8</td>\n",
       "      <td>Harry Potter and the Prisoner of Azkaban</td>\n",
       "      <td>book</td>\n",
       "      <td>1521804</td>\n",
       "      <td>573212</td>\n",
       "      <td>180231</td>\n",
       "      <td>22236</td>\n",
       "      <td>7927</td>\n",
       "    </tr>\n",
       "    <tr>\n",
       "      <th>3</th>\n",
       "      <td>6</td>\n",
       "      <td>10</td>\n",
       "      <td>37473</td>\n",
       "      <td>137459</td>\n",
       "      <td>29058</td>\n",
       "      <td>939</td>\n",
       "      <td>2005/1/1</td>\n",
       "      <td>Harry Potter Collection (Harry Potter, #1-6)</td>\n",
       "      <td>book</td>\n",
       "      <td>23380</td>\n",
       "      <td>4206</td>\n",
       "      <td>1030</td>\n",
       "      <td>203</td>\n",
       "      <td>239</td>\n",
       "    </tr>\n",
       "    <tr>\n",
       "      <th>4</th>\n",
       "      <td>7</td>\n",
       "      <td>9</td>\n",
       "      <td>78</td>\n",
       "      <td>96</td>\n",
       "      <td>26</td>\n",
       "      <td>1</td>\n",
       "      <td>2005/4/1</td>\n",
       "      <td>Unauthorized Harry Potter Book Seven News: \"Ha...</td>\n",
       "      <td>book</td>\n",
       "      <td>8</td>\n",
       "      <td>7</td>\n",
       "      <td>6</td>\n",
       "      <td>5</td>\n",
       "      <td>0</td>\n",
       "    </tr>\n",
       "  </tbody>\n",
       "</table>\n",
       "</div>"
      ],
      "text/plain": [
       "   books_count  best_book_id  reviews_count  ratings_sum  ratings_count  \\\n",
       "0          329             1        2484565      9397945        2061689   \n",
       "1          204             3        6587807     25971026        5817260   \n",
       "2          148             5        2961357     10494960        2305410   \n",
       "3            6            10          37473       137459          29058   \n",
       "4            7             9             78           96             26   \n",
       "\n",
       "   text_reviews_count original_publication_date  \\\n",
       "0               33051                 2005/7/16   \n",
       "1               93396                 1997/6/26   \n",
       "2               45165                  1999/7/8   \n",
       "3                 939                  2005/1/1   \n",
       "4                   1                  2005/4/1   \n",
       "\n",
       "                                      original_title media_type  \\\n",
       "0             Harry Potter and the Half-Blood Prince       book   \n",
       "1           Harry Potter and the Philosopher's Stone       book   \n",
       "2           Harry Potter and the Prisoner of Azkaban       book   \n",
       "3       Harry Potter Collection (Harry Potter, #1-6)       book   \n",
       "4  Unauthorized Harry Potter Book Seven News: \"Ha...       book   \n",
       "\n",
       "   num_ratings_5  num_ratings_4  num_ratings_3  num_ratings_2  num_ratings_1  \n",
       "0        1370717         511319         148108          23215           8330  \n",
       "1        3732124        1357541         517618         117411          92566  \n",
       "2        1521804         573212         180231          22236           7927  \n",
       "3          23380           4206           1030            203            239  \n",
       "4              8              7              6              5              0  "
      ]
     },
     "execution_count": 45,
     "metadata": {},
     "output_type": "execute_result"
    }
   ],
   "source": [
    "import pandas as pd\n",
    "\n",
    "df = pd.read_csv(filepath_or_buffer='./books.csv')\n",
    "\n",
    "# Columnas objetivo (David)\n",
    "interesting_columns = [\n",
    "    \"books_count\", \"best_book_id\", \"reviews_count\", \"ratings_sum\", \"ratings_count\",\n",
    "    \"text_reviews_count\", \"original_publication_date\", \"original_title\", \"media_type\",\n",
    "    \"num_ratings_5\", \"num_ratings_4\", \"num_ratings_3\", \"num_ratings_2\", \"num_ratings_1\"\n",
    "]\n",
    "\n",
    "df[interesting_columns].head()"
   ]
  },
  {
   "cell_type": "markdown",
   "metadata": {},
   "source": [
    "Veamos el tipo de los valores de cada columna:"
   ]
  },
  {
   "cell_type": "code",
   "execution_count": 46,
   "metadata": {},
   "outputs": [
    {
     "data": {
      "text/plain": [
       "books_count                   int64\n",
       "best_book_id                  int64\n",
       "reviews_count                 int64\n",
       "ratings_sum                   int64\n",
       "ratings_count                 int64\n",
       "text_reviews_count            int64\n",
       "original_publication_date    object\n",
       "original_title               object\n",
       "media_type                   object\n",
       "num_ratings_5                 int64\n",
       "num_ratings_4                 int64\n",
       "num_ratings_3                 int64\n",
       "num_ratings_2                 int64\n",
       "num_ratings_1                 int64\n",
       "dtype: object"
      ]
     },
     "execution_count": 46,
     "metadata": {},
     "output_type": "execute_result"
    }
   ],
   "source": [
    "df[interesting_columns].dtypes"
   ]
  },
  {
   "cell_type": "markdown",
   "metadata": {},
   "source": [
    "Con los tipos y la muestra, podemos deducir la información de cada columna:\n",
    "\n",
    "| Columna | Tipo | Observaciones |\n",
    "| --- | --- | --- |\n",
    "| books_count | int64 | ? |\n",
    "| best_book_id | int64 | ? |\n",
    "| reviews_count | int64 | Número de opiniones |\n",
    "| ratings_sum | int64 | Sumatorio de las puntuaciones |\n",
    "| ratings_count | int64 | Número de puntuaciones |\n",
    "| text_reviews_count | int64 | Número de opiniones escritas |\n",
    "| original_publication_date | object | Fecha de publicación original |\n",
    "| original_title | object| Titulo original |\n",
    "| media_type | object | Tipo de medio |\n",
    "| num_ratings_5 | int64 | Número de veces que han puntuado con un 5 |\n",
    "| num_ratings_4 | int64 | Número de veces que han puntuado con un 4 |\n",
    "| num_ratings_3 | int64 | Número de veces que han puntuado con un 3 |\n",
    "| num_ratings_2 | int64 | Número de veces que han puntuado con un 2 |\n",
    "| num_ratings_1 | int64 | Número de veces que han puntuado con un 1 |\n",
    "\n"
   ]
  },
  {
   "cell_type": "markdown",
   "metadata": {},
   "source": [
    "Vamos a eliminar las columnas que no aportan valor a nuestro estudio:"
   ]
  },
  {
   "cell_type": "code",
   "execution_count": 47,
   "metadata": {},
   "outputs": [
    {
     "data": {
      "text/html": [
       "<div>\n",
       "<style scoped>\n",
       "    .dataframe tbody tr th:only-of-type {\n",
       "        vertical-align: middle;\n",
       "    }\n",
       "\n",
       "    .dataframe tbody tr th {\n",
       "        vertical-align: top;\n",
       "    }\n",
       "\n",
       "    .dataframe thead th {\n",
       "        text-align: right;\n",
       "    }\n",
       "</style>\n",
       "<table border=\"1\" class=\"dataframe\">\n",
       "  <thead>\n",
       "    <tr style=\"text-align: right;\">\n",
       "      <th></th>\n",
       "      <th>id</th>\n",
       "      <th>isbn</th>\n",
       "      <th>author</th>\n",
       "      <th>title</th>\n",
       "      <th>isbn13</th>\n",
       "      <th>asin</th>\n",
       "      <th>kindle_asin</th>\n",
       "      <th>marketplace_id</th>\n",
       "      <th>country_code</th>\n",
       "      <th>publication_date</th>\n",
       "      <th>...</th>\n",
       "      <th>average_rating</th>\n",
       "      <th>num_pages</th>\n",
       "      <th>format</th>\n",
       "      <th>edition_information</th>\n",
       "      <th>ratings_count_global</th>\n",
       "      <th>text_reviews_count_global</th>\n",
       "      <th>authors</th>\n",
       "      <th>to_read</th>\n",
       "      <th>read</th>\n",
       "      <th>currently_reading</th>\n",
       "    </tr>\n",
       "  </thead>\n",
       "  <tbody>\n",
       "    <tr>\n",
       "      <th>0</th>\n",
       "      <td>1</td>\n",
       "      <td>0439785960</td>\n",
       "      <td>NaN</td>\n",
       "      <td>Harry Potter and the Half-Blood Prince (Harry ...</td>\n",
       "      <td>9.780440e+12</td>\n",
       "      <td>NaN</td>\n",
       "      <td>NaN</td>\n",
       "      <td>NaN</td>\n",
       "      <td>ES</td>\n",
       "      <td>2006/9/16</td>\n",
       "      <td>...</td>\n",
       "      <td>4.56</td>\n",
       "      <td>652.0</td>\n",
       "      <td>Paperback</td>\n",
       "      <td>NaN</td>\n",
       "      <td>1919694</td>\n",
       "      <td>25791</td>\n",
       "      <td>['J.K. Rowling', 'Mary GrandPré']</td>\n",
       "      <td>229495.0</td>\n",
       "      <td>7492</td>\n",
       "      <td>22335.0</td>\n",
       "    </tr>\n",
       "    <tr>\n",
       "      <th>1</th>\n",
       "      <td>3</td>\n",
       "      <td>0439554934</td>\n",
       "      <td>NaN</td>\n",
       "      <td>Harry Potter and the Sorcerer's Stone (Harry P...</td>\n",
       "      <td>9.780440e+12</td>\n",
       "      <td>NaN</td>\n",
       "      <td>NaN</td>\n",
       "      <td>NaN</td>\n",
       "      <td>ES</td>\n",
       "      <td>1997/6/26</td>\n",
       "      <td>...</td>\n",
       "      <td>4.46</td>\n",
       "      <td>320.0</td>\n",
       "      <td>Hardcover</td>\n",
       "      <td>NaN</td>\n",
       "      <td>5536122</td>\n",
       "      <td>69174</td>\n",
       "      <td>['J.K. Rowling', 'Mary GrandPré']</td>\n",
       "      <td>3286.0</td>\n",
       "      <td>15019</td>\n",
       "      <td>87801.0</td>\n",
       "    </tr>\n",
       "    <tr>\n",
       "      <th>2</th>\n",
       "      <td>5</td>\n",
       "      <td>043965548X</td>\n",
       "      <td>NaN</td>\n",
       "      <td>Harry Potter and the Prisoner of Azkaban (Harr...</td>\n",
       "      <td>9.780440e+12</td>\n",
       "      <td>NaN</td>\n",
       "      <td>NaN</td>\n",
       "      <td>NaN</td>\n",
       "      <td>ES</td>\n",
       "      <td>2004/5/1</td>\n",
       "      <td>...</td>\n",
       "      <td>4.55</td>\n",
       "      <td>435.0</td>\n",
       "      <td>Mass Market Paperback</td>\n",
       "      <td>NaN</td>\n",
       "      <td>2120869</td>\n",
       "      <td>33324</td>\n",
       "      <td>['J.K. Rowling', 'Mary GrandPré']</td>\n",
       "      <td>193024.0</td>\n",
       "      <td>10469</td>\n",
       "      <td>31945.0</td>\n",
       "    </tr>\n",
       "    <tr>\n",
       "      <th>3</th>\n",
       "      <td>7</td>\n",
       "      <td>0439887453</td>\n",
       "      <td>NaN</td>\n",
       "      <td>The Harry Potter Collection (Harry Potter, #1-6)</td>\n",
       "      <td>9.780440e+12</td>\n",
       "      <td>NaN</td>\n",
       "      <td>NaN</td>\n",
       "      <td>NaN</td>\n",
       "      <td>ES</td>\n",
       "      <td>2006/9/1</td>\n",
       "      <td>...</td>\n",
       "      <td>4.73</td>\n",
       "      <td>NaN</td>\n",
       "      <td>Paperback</td>\n",
       "      <td>Box Set</td>\n",
       "      <td>1597</td>\n",
       "      <td>115</td>\n",
       "      <td>['J.K. Rowling', 'Mary GrandPré']</td>\n",
       "      <td>4521.0</td>\n",
       "      <td>24</td>\n",
       "      <td>189.0</td>\n",
       "    </tr>\n",
       "    <tr>\n",
       "      <th>4</th>\n",
       "      <td>9</td>\n",
       "      <td>0976540606</td>\n",
       "      <td>NaN</td>\n",
       "      <td>Unauthorized Harry Potter Book Seven News: \"Ha...</td>\n",
       "      <td>9.780977e+12</td>\n",
       "      <td>NaN</td>\n",
       "      <td>NaN</td>\n",
       "      <td>NaN</td>\n",
       "      <td>ES</td>\n",
       "      <td>2005/4/26</td>\n",
       "      <td>...</td>\n",
       "      <td>3.69</td>\n",
       "      <td>152.0</td>\n",
       "      <td>Paperback</td>\n",
       "      <td>NaN</td>\n",
       "      <td>18</td>\n",
       "      <td>1</td>\n",
       "      <td>['W. Frederick Zimmerman']</td>\n",
       "      <td>27.0</td>\n",
       "      <td>2</td>\n",
       "      <td>NaN</td>\n",
       "    </tr>\n",
       "  </tbody>\n",
       "</table>\n",
       "<p>5 rows × 33 columns</p>\n",
       "</div>"
      ],
      "text/plain": [
       "   id        isbn  author                                              title  \\\n",
       "0   1  0439785960     NaN  Harry Potter and the Half-Blood Prince (Harry ...   \n",
       "1   3  0439554934     NaN  Harry Potter and the Sorcerer's Stone (Harry P...   \n",
       "2   5  043965548X     NaN  Harry Potter and the Prisoner of Azkaban (Harr...   \n",
       "3   7  0439887453     NaN   The Harry Potter Collection (Harry Potter, #1-6)   \n",
       "4   9  0976540606     NaN  Unauthorized Harry Potter Book Seven News: \"Ha...   \n",
       "\n",
       "         isbn13 asin  kindle_asin  marketplace_id country_code  \\\n",
       "0  9.780440e+12  NaN          NaN             NaN           ES   \n",
       "1  9.780440e+12  NaN          NaN             NaN           ES   \n",
       "2  9.780440e+12  NaN          NaN             NaN           ES   \n",
       "3  9.780440e+12  NaN          NaN             NaN           ES   \n",
       "4  9.780977e+12  NaN          NaN             NaN           ES   \n",
       "\n",
       "  publication_date        ...         average_rating num_pages  \\\n",
       "0        2006/9/16        ...                   4.56     652.0   \n",
       "1        1997/6/26        ...                   4.46     320.0   \n",
       "2         2004/5/1        ...                   4.55     435.0   \n",
       "3         2006/9/1        ...                   4.73       NaN   \n",
       "4        2005/4/26        ...                   3.69     152.0   \n",
       "\n",
       "                  format  edition_information  ratings_count_global  \\\n",
       "0              Paperback                  NaN               1919694   \n",
       "1              Hardcover                  NaN               5536122   \n",
       "2  Mass Market Paperback                  NaN               2120869   \n",
       "3              Paperback              Box Set                  1597   \n",
       "4              Paperback                  NaN                    18   \n",
       "\n",
       "   text_reviews_count_global                            authors   to_read  \\\n",
       "0                      25791  ['J.K. Rowling', 'Mary GrandPré']  229495.0   \n",
       "1                      69174  ['J.K. Rowling', 'Mary GrandPré']    3286.0   \n",
       "2                      33324  ['J.K. Rowling', 'Mary GrandPré']  193024.0   \n",
       "3                        115  ['J.K. Rowling', 'Mary GrandPré']    4521.0   \n",
       "4                          1         ['W. Frederick Zimmerman']      27.0   \n",
       "\n",
       "    read  currently_reading  \n",
       "0   7492            22335.0  \n",
       "1  15019            87801.0  \n",
       "2  10469            31945.0  \n",
       "3     24              189.0  \n",
       "4      2                NaN  \n",
       "\n",
       "[5 rows x 33 columns]"
      ]
     },
     "execution_count": 47,
     "metadata": {},
     "output_type": "execute_result"
    }
   ],
   "source": [
    "droppable_columns = [\"books_count\", \"best_book_id\", \"original_title\", \"original_publication_date\"]\n",
    "df.drop(columns=droppable_columns, inplace=True)\n",
    "\n",
    "df.head()"
   ]
  },
  {
   "cell_type": "markdown",
   "metadata": {},
   "source": [
    "Veamos si existen nulos en las columnas seleccionadas:"
   ]
  },
  {
   "cell_type": "code",
   "execution_count": 48,
   "metadata": {},
   "outputs": [
    {
     "name": "stdout",
     "output_type": "stream",
     "text": [
      "reviews_count: 0\n",
      "ratings_sum: 0\n",
      "ratings_count: 0\n",
      "text_reviews_count: 0\n",
      "media_type: 936\n",
      "num_ratings_5: 0\n",
      "num_ratings_4: 0\n",
      "num_ratings_3: 0\n",
      "num_ratings_2: 0\n",
      "num_ratings_1: 0\n"
     ]
    }
   ],
   "source": [
    "print(\"reviews_count: {}\".format(df[\"reviews_count\"].isnull().sum()))\n",
    "print(\"ratings_sum: {}\".format(df[\"ratings_sum\"].isnull().sum()))\n",
    "print(\"ratings_count: {}\".format(df[\"ratings_count\"].isnull().sum()))\n",
    "print(\"text_reviews_count: {}\".format(df[\"text_reviews_count\"].isnull().sum()))\n",
    "print(\"media_type: {}\".format(df[\"media_type\"].isnull().sum()))\n",
    "print(\"num_ratings_5: {}\".format(df[\"num_ratings_5\"].isnull().sum()))\n",
    "print(\"num_ratings_4: {}\".format(df[\"num_ratings_4\"].isnull().sum()))\n",
    "print(\"num_ratings_3: {}\".format(df[\"num_ratings_3\"].isnull().sum()))\n",
    "print(\"num_ratings_2: {}\".format(df[\"num_ratings_2\"].isnull().sum()))\n",
    "print(\"num_ratings_1: {}\".format(df[\"num_ratings_1\"].isnull().sum()))"
   ]
  },
  {
   "cell_type": "markdown",
   "metadata": {},
   "source": [
    "Parece que la columna *media_type* tiene nulos, veamos los valores únicos:"
   ]
  },
  {
   "cell_type": "code",
   "execution_count": 56,
   "metadata": {},
   "outputs": [],
   "source": [
    "df[\"media_type\"].unique()"
   ]
  },
  {
   "cell_type": "markdown",
   "metadata": {},
   "source": [
    "Vamos a comprobar qué tipo de elementos son considerados *not a book*:"
   ]
  },
  {
   "cell_type": "code",
   "execution_count": 50,
   "metadata": {},
   "outputs": [
    {
     "data": {
      "text/html": [
       "<div>\n",
       "<style scoped>\n",
       "    .dataframe tbody tr th:only-of-type {\n",
       "        vertical-align: middle;\n",
       "    }\n",
       "\n",
       "    .dataframe tbody tr th {\n",
       "        vertical-align: top;\n",
       "    }\n",
       "\n",
       "    .dataframe thead th {\n",
       "        text-align: right;\n",
       "    }\n",
       "</style>\n",
       "<table border=\"1\" class=\"dataframe\">\n",
       "  <thead>\n",
       "    <tr style=\"text-align: right;\">\n",
       "      <th></th>\n",
       "      <th>title</th>\n",
       "      <th>media_type</th>\n",
       "    </tr>\n",
       "  </thead>\n",
       "  <tbody>\n",
       "    <tr>\n",
       "      <th>1320</th>\n",
       "      <td>Mini-Manual of the Urban Guerrilla</td>\n",
       "      <td>not a book</td>\n",
       "    </tr>\n",
       "    <tr>\n",
       "      <th>1806</th>\n",
       "      <td>The Second World War: A Complete History</td>\n",
       "      <td>not a book</td>\n",
       "    </tr>\n",
       "  </tbody>\n",
       "</table>\n",
       "</div>"
      ],
      "text/plain": [
       "                                         title  media_type\n",
       "1320        Mini-Manual of the Urban Guerrilla  not a book\n",
       "1806  The Second World War: A Complete History  not a book"
      ]
     },
     "execution_count": 50,
     "metadata": {},
     "output_type": "execute_result"
    }
   ],
   "source": [
    "df[[\"title\", \"media_type\"]][df.media_type == \"not a book\"]"
   ]
  },
  {
   "cell_type": "markdown",
   "metadata": {},
   "source": [
    "Veamos ahora los que se consideran *periodical*:"
   ]
  },
  {
   "cell_type": "code",
   "execution_count": 51,
   "metadata": {},
   "outputs": [
    {
     "data": {
      "text/html": [
       "<div>\n",
       "<style scoped>\n",
       "    .dataframe tbody tr th:only-of-type {\n",
       "        vertical-align: middle;\n",
       "    }\n",
       "\n",
       "    .dataframe tbody tr th {\n",
       "        vertical-align: top;\n",
       "    }\n",
       "\n",
       "    .dataframe thead th {\n",
       "        text-align: right;\n",
       "    }\n",
       "</style>\n",
       "<table border=\"1\" class=\"dataframe\">\n",
       "  <thead>\n",
       "    <tr style=\"text-align: right;\">\n",
       "      <th></th>\n",
       "      <th>title</th>\n",
       "      <th>media_type</th>\n",
       "    </tr>\n",
       "  </thead>\n",
       "  <tbody>\n",
       "    <tr>\n",
       "      <th>2952</th>\n",
       "      <td>McSweeney's #24</td>\n",
       "      <td>periodical</td>\n",
       "    </tr>\n",
       "  </tbody>\n",
       "</table>\n",
       "</div>"
      ],
      "text/plain": [
       "                title  media_type\n",
       "2952  McSweeney's #24  periodical"
      ]
     },
     "execution_count": 51,
     "metadata": {},
     "output_type": "execute_result"
    }
   ],
   "source": [
    "df[[\"title\", \"media_type\"]][df.media_type == \"periodical\"]"
   ]
  },
  {
   "cell_type": "markdown",
   "metadata": {},
   "source": [
    "Por último, veamos los primeros que son considerados nulos:"
   ]
  },
  {
   "cell_type": "code",
   "execution_count": 52,
   "metadata": {},
   "outputs": [
    {
     "data": {
      "text/html": [
       "<div>\n",
       "<style scoped>\n",
       "    .dataframe tbody tr th:only-of-type {\n",
       "        vertical-align: middle;\n",
       "    }\n",
       "\n",
       "    .dataframe tbody tr th {\n",
       "        vertical-align: top;\n",
       "    }\n",
       "\n",
       "    .dataframe thead th {\n",
       "        text-align: right;\n",
       "    }\n",
       "</style>\n",
       "<table border=\"1\" class=\"dataframe\">\n",
       "  <thead>\n",
       "    <tr style=\"text-align: right;\">\n",
       "      <th></th>\n",
       "      <th>title</th>\n",
       "      <th>media_type</th>\n",
       "    </tr>\n",
       "  </thead>\n",
       "  <tbody>\n",
       "    <tr>\n",
       "      <th>54</th>\n",
       "      <td>The Pobble Who Has No Toes (Edward Lear's Litt...</td>\n",
       "      <td>NaN</td>\n",
       "    </tr>\n",
       "    <tr>\n",
       "      <th>56</th>\n",
       "      <td>Public Places-Urban Spaces: The Dimensions of ...</td>\n",
       "      <td>NaN</td>\n",
       "    </tr>\n",
       "    <tr>\n",
       "      <th>57</th>\n",
       "      <td>Haunted Places in America: A Guide to Spooked ...</td>\n",
       "      <td>NaN</td>\n",
       "    </tr>\n",
       "    <tr>\n",
       "      <th>58</th>\n",
       "      <td>Together Alone: Personal Relationships in Publ...</td>\n",
       "      <td>NaN</td>\n",
       "    </tr>\n",
       "    <tr>\n",
       "      <th>59</th>\n",
       "      <td>Art for Public Places: Critical Essays</td>\n",
       "      <td>NaN</td>\n",
       "    </tr>\n",
       "  </tbody>\n",
       "</table>\n",
       "</div>"
      ],
      "text/plain": [
       "                                                title media_type\n",
       "54  The Pobble Who Has No Toes (Edward Lear's Litt...        NaN\n",
       "56  Public Places-Urban Spaces: The Dimensions of ...        NaN\n",
       "57  Haunted Places in America: A Guide to Spooked ...        NaN\n",
       "58  Together Alone: Personal Relationships in Publ...        NaN\n",
       "59             Art for Public Places: Critical Essays        NaN"
      ]
     },
     "execution_count": 52,
     "metadata": {},
     "output_type": "execute_result"
    }
   ],
   "source": [
    "df[[\"title\", \"media_type\"]][df.media_type.isna()].head()"
   ]
  },
  {
   "cell_type": "markdown",
   "metadata": {},
   "source": [
    "Sustituimos los items *NaN* por *Unknown*:"
   ]
  },
  {
   "cell_type": "code",
   "execution_count": 53,
   "metadata": {},
   "outputs": [
    {
     "data": {
      "text/plain": [
       "array(['book', 'unknown', 'not a book', 'periodical'], dtype=object)"
      ]
     },
     "execution_count": 53,
     "metadata": {},
     "output_type": "execute_result"
    }
   ],
   "source": [
    "df.media_type = df.media_type.fillna(value='unknown')\n",
    "df.media_type.isna().sum()\n",
    "df.media_type.unique()"
   ]
  }
 ],
 "metadata": {
  "kernelspec": {
   "display_name": "Python 3",
   "language": "python",
   "name": "python3"
  },
  "language_info": {
   "codemirror_mode": {
    "name": "ipython",
    "version": 3
   },
   "file_extension": ".py",
   "mimetype": "text/x-python",
   "name": "python",
   "nbconvert_exporter": "python",
   "pygments_lexer": "ipython3",
   "version": "3.7.1"
  }
 },
 "nbformat": 4,
 "nbformat_minor": 2
}
