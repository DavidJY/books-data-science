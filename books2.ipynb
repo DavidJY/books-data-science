{
 "cells": [
  {
   "cell_type": "markdown",
   "metadata": {},
   "source": [
    "## Carga inicial de los datos\n",
    "\n",
    "Cargamos con pandas en memoria nuestro dataset de libros"
   ]
  },
  {
   "cell_type": "code",
   "execution_count": 9,
   "metadata": {},
   "outputs": [
    {
     "data": {
      "text/html": [
       "<div>\n",
       "<style scoped>\n",
       "    .dataframe tbody tr th:only-of-type {\n",
       "        vertical-align: middle;\n",
       "    }\n",
       "\n",
       "    .dataframe tbody tr th {\n",
       "        vertical-align: top;\n",
       "    }\n",
       "\n",
       "    .dataframe thead th {\n",
       "        text-align: right;\n",
       "    }\n",
       "</style>\n",
       "<table border=\"1\" class=\"dataframe\">\n",
       "  <thead>\n",
       "    <tr style=\"text-align: right;\">\n",
       "      <th></th>\n",
       "      <th>id</th>\n",
       "      <th>isbn</th>\n",
       "      <th>author</th>\n",
       "      <th>title</th>\n",
       "      <th>isbn13</th>\n",
       "      <th>asin</th>\n",
       "      <th>kindle_asin</th>\n",
       "      <th>marketplace_id</th>\n",
       "      <th>country_code</th>\n",
       "      <th>publication_date</th>\n",
       "      <th>...</th>\n",
       "      <th>average_rating</th>\n",
       "      <th>num_pages</th>\n",
       "      <th>format</th>\n",
       "      <th>edition_information</th>\n",
       "      <th>ratings_count_global</th>\n",
       "      <th>text_reviews_count_global</th>\n",
       "      <th>authors</th>\n",
       "      <th>to_read</th>\n",
       "      <th>read</th>\n",
       "      <th>currently_reading</th>\n",
       "    </tr>\n",
       "  </thead>\n",
       "  <tbody>\n",
       "    <tr>\n",
       "      <th>0</th>\n",
       "      <td>1</td>\n",
       "      <td>0439785960</td>\n",
       "      <td>NaN</td>\n",
       "      <td>Harry Potter and the Half-Blood Prince (Harry ...</td>\n",
       "      <td>9.780440e+12</td>\n",
       "      <td>NaN</td>\n",
       "      <td>NaN</td>\n",
       "      <td>NaN</td>\n",
       "      <td>ES</td>\n",
       "      <td>2006/9/16</td>\n",
       "      <td>...</td>\n",
       "      <td>4.56</td>\n",
       "      <td>652.0</td>\n",
       "      <td>Paperback</td>\n",
       "      <td>NaN</td>\n",
       "      <td>1919694</td>\n",
       "      <td>25791</td>\n",
       "      <td>['J.K. Rowling', 'Mary GrandPré']</td>\n",
       "      <td>229495.0</td>\n",
       "      <td>7492</td>\n",
       "      <td>22335.0</td>\n",
       "    </tr>\n",
       "    <tr>\n",
       "      <th>1</th>\n",
       "      <td>3</td>\n",
       "      <td>0439554934</td>\n",
       "      <td>NaN</td>\n",
       "      <td>Harry Potter and the Sorcerer's Stone (Harry P...</td>\n",
       "      <td>9.780440e+12</td>\n",
       "      <td>NaN</td>\n",
       "      <td>NaN</td>\n",
       "      <td>NaN</td>\n",
       "      <td>ES</td>\n",
       "      <td>1997/6/26</td>\n",
       "      <td>...</td>\n",
       "      <td>4.46</td>\n",
       "      <td>320.0</td>\n",
       "      <td>Hardcover</td>\n",
       "      <td>NaN</td>\n",
       "      <td>5536122</td>\n",
       "      <td>69174</td>\n",
       "      <td>['J.K. Rowling', 'Mary GrandPré']</td>\n",
       "      <td>3286.0</td>\n",
       "      <td>15019</td>\n",
       "      <td>87801.0</td>\n",
       "    </tr>\n",
       "    <tr>\n",
       "      <th>2</th>\n",
       "      <td>5</td>\n",
       "      <td>043965548X</td>\n",
       "      <td>NaN</td>\n",
       "      <td>Harry Potter and the Prisoner of Azkaban (Harr...</td>\n",
       "      <td>9.780440e+12</td>\n",
       "      <td>NaN</td>\n",
       "      <td>NaN</td>\n",
       "      <td>NaN</td>\n",
       "      <td>ES</td>\n",
       "      <td>2004/5/1</td>\n",
       "      <td>...</td>\n",
       "      <td>4.55</td>\n",
       "      <td>435.0</td>\n",
       "      <td>Mass Market Paperback</td>\n",
       "      <td>NaN</td>\n",
       "      <td>2120869</td>\n",
       "      <td>33324</td>\n",
       "      <td>['J.K. Rowling', 'Mary GrandPré']</td>\n",
       "      <td>193024.0</td>\n",
       "      <td>10469</td>\n",
       "      <td>31945.0</td>\n",
       "    </tr>\n",
       "    <tr>\n",
       "      <th>3</th>\n",
       "      <td>7</td>\n",
       "      <td>0439887453</td>\n",
       "      <td>NaN</td>\n",
       "      <td>The Harry Potter Collection (Harry Potter, #1-6)</td>\n",
       "      <td>9.780440e+12</td>\n",
       "      <td>NaN</td>\n",
       "      <td>NaN</td>\n",
       "      <td>NaN</td>\n",
       "      <td>ES</td>\n",
       "      <td>2006/9/1</td>\n",
       "      <td>...</td>\n",
       "      <td>4.73</td>\n",
       "      <td>NaN</td>\n",
       "      <td>Paperback</td>\n",
       "      <td>Box Set</td>\n",
       "      <td>1597</td>\n",
       "      <td>115</td>\n",
       "      <td>['J.K. Rowling', 'Mary GrandPré']</td>\n",
       "      <td>4521.0</td>\n",
       "      <td>24</td>\n",
       "      <td>189.0</td>\n",
       "    </tr>\n",
       "    <tr>\n",
       "      <th>4</th>\n",
       "      <td>9</td>\n",
       "      <td>0976540606</td>\n",
       "      <td>NaN</td>\n",
       "      <td>Unauthorized Harry Potter Book Seven News: \"Ha...</td>\n",
       "      <td>9.780977e+12</td>\n",
       "      <td>NaN</td>\n",
       "      <td>NaN</td>\n",
       "      <td>NaN</td>\n",
       "      <td>ES</td>\n",
       "      <td>2005/4/26</td>\n",
       "      <td>...</td>\n",
       "      <td>3.69</td>\n",
       "      <td>152.0</td>\n",
       "      <td>Paperback</td>\n",
       "      <td>NaN</td>\n",
       "      <td>18</td>\n",
       "      <td>1</td>\n",
       "      <td>['W. Frederick Zimmerman']</td>\n",
       "      <td>27.0</td>\n",
       "      <td>2</td>\n",
       "      <td>NaN</td>\n",
       "    </tr>\n",
       "  </tbody>\n",
       "</table>\n",
       "<p>5 rows × 37 columns</p>\n",
       "</div>"
      ],
      "text/plain": [
       "   id        isbn  author                                              title  \\\n",
       "0   1  0439785960     NaN  Harry Potter and the Half-Blood Prince (Harry ...   \n",
       "1   3  0439554934     NaN  Harry Potter and the Sorcerer's Stone (Harry P...   \n",
       "2   5  043965548X     NaN  Harry Potter and the Prisoner of Azkaban (Harr...   \n",
       "3   7  0439887453     NaN   The Harry Potter Collection (Harry Potter, #1-6)   \n",
       "4   9  0976540606     NaN  Unauthorized Harry Potter Book Seven News: \"Ha...   \n",
       "\n",
       "         isbn13 asin  kindle_asin  marketplace_id country_code  \\\n",
       "0  9.780440e+12  NaN          NaN             NaN           ES   \n",
       "1  9.780440e+12  NaN          NaN             NaN           ES   \n",
       "2  9.780440e+12  NaN          NaN             NaN           ES   \n",
       "3  9.780440e+12  NaN          NaN             NaN           ES   \n",
       "4  9.780977e+12  NaN          NaN             NaN           ES   \n",
       "\n",
       "  publication_date  ... average_rating num_pages                 format  \\\n",
       "0        2006/9/16  ...           4.56     652.0              Paperback   \n",
       "1        1997/6/26  ...           4.46     320.0              Hardcover   \n",
       "2         2004/5/1  ...           4.55     435.0  Mass Market Paperback   \n",
       "3         2006/9/1  ...           4.73       NaN              Paperback   \n",
       "4        2005/4/26  ...           3.69     152.0              Paperback   \n",
       "\n",
       "   edition_information  ratings_count_global  text_reviews_count_global  \\\n",
       "0                  NaN               1919694                      25791   \n",
       "1                  NaN               5536122                      69174   \n",
       "2                  NaN               2120869                      33324   \n",
       "3              Box Set                  1597                        115   \n",
       "4                  NaN                    18                          1   \n",
       "\n",
       "                             authors   to_read   read currently_reading  \n",
       "0  ['J.K. Rowling', 'Mary GrandPré']  229495.0   7492           22335.0  \n",
       "1  ['J.K. Rowling', 'Mary GrandPré']    3286.0  15019           87801.0  \n",
       "2  ['J.K. Rowling', 'Mary GrandPré']  193024.0  10469           31945.0  \n",
       "3  ['J.K. Rowling', 'Mary GrandPré']    4521.0     24             189.0  \n",
       "4         ['W. Frederick Zimmerman']      27.0      2               NaN  \n",
       "\n",
       "[5 rows x 37 columns]"
      ]
     },
     "execution_count": 9,
     "metadata": {},
     "output_type": "execute_result"
    }
   ],
   "source": [
    "import pandas as pd\n",
    "\n",
    "df = pd.read_csv(\"books.csv\")\n",
    "df.head()"
   ]
  },
  {
   "cell_type": "markdown",
   "metadata": {},
   "source": [
    "Contamos cuantos valores tiene cada columna para intuir que columnas tienen valores nulos:"
   ]
  },
  {
   "cell_type": "code",
   "execution_count": 10,
   "metadata": {},
   "outputs": [
    {
     "data": {
      "text/plain": [
       "id                           3080\n",
       "isbn                         3051\n",
       "author                          0\n",
       "title                        3080\n",
       "isbn13                       3061\n",
       "asin                            2\n",
       "kindle_asin                     0\n",
       "marketplace_id                  0\n",
       "country_code                 3080\n",
       "publication_date             3080\n",
       "publisher                    3038\n",
       "language_code                1208\n",
       "is_ebook                     3080\n",
       "books_count                  3080\n",
       "best_book_id                 3080\n",
       "reviews_count                3080\n",
       "ratings_sum                  3080\n",
       "ratings_count                3080\n",
       "text_reviews_count           3080\n",
       "original_publication_date    3080\n",
       "original_title               2940\n",
       "media_type                   2144\n",
       "num_ratings_5                3080\n",
       "num_ratings_4                3080\n",
       "num_ratings_3                3080\n",
       "num_ratings_2                3080\n",
       "num_ratings_1                3080\n",
       "average_rating               3080\n",
       "num_pages                    2877\n",
       "format                       3022\n",
       "edition_information           224\n",
       "ratings_count_global         3080\n",
       "text_reviews_count_global    3080\n",
       "authors                      3080\n",
       "to_read                      3079\n",
       "read                         3080\n",
       "currently_reading            2371\n",
       "dtype: int64"
      ]
     },
     "execution_count": 10,
     "metadata": {},
     "output_type": "execute_result"
    }
   ],
   "source": [
    "df.count() "
   ]
  },
  {
   "cell_type": "markdown",
   "metadata": {},
   "source": [
    "Se observa que las columnas **isbn** y **isbn13** tienen muy pocos valores nulos por lo que se pueden eliminar las filas que no contienen dicho valor, dado que es el identificador del libro según un estándar internacional."
   ]
  },
  {
   "cell_type": "code",
   "execution_count": 11,
   "metadata": {},
   "outputs": [
    {
     "data": {
      "text/plain": [
       "id                           3049\n",
       "isbn                         3049\n",
       "author                          0\n",
       "title                        3049\n",
       "isbn13                       3049\n",
       "asin                            0\n",
       "kindle_asin                     0\n",
       "marketplace_id                  0\n",
       "country_code                 3049\n",
       "publication_date             3049\n",
       "publisher                    3007\n",
       "language_code                1190\n",
       "is_ebook                     3049\n",
       "books_count                  3049\n",
       "best_book_id                 3049\n",
       "reviews_count                3049\n",
       "ratings_sum                  3049\n",
       "ratings_count                3049\n",
       "text_reviews_count           3049\n",
       "original_publication_date    3049\n",
       "original_title               2913\n",
       "media_type                   2115\n",
       "num_ratings_5                3049\n",
       "num_ratings_4                3049\n",
       "num_ratings_3                3049\n",
       "num_ratings_2                3049\n",
       "num_ratings_1                3049\n",
       "average_rating               3049\n",
       "num_pages                    2846\n",
       "format                       2991\n",
       "edition_information           218\n",
       "ratings_count_global         3049\n",
       "text_reviews_count_global    3049\n",
       "authors                      3049\n",
       "to_read                      3049\n",
       "read                         3049\n",
       "currently_reading            2345\n",
       "dtype: int64"
      ]
     },
     "execution_count": 11,
     "metadata": {},
     "output_type": "execute_result"
    }
   ],
   "source": [
    "df.dropna(subset=[\"isbn\", \"isbn13\"], inplace=True)\n",
    "df.isbn.isna().sum()\n",
    "df.isbn13.isna().sum()\n",
    "df.count()"
   ]
  },
  {
   "cell_type": "markdown",
   "metadata": {},
   "source": [
    "Las columnas **asin**, **kindel_asin** y **marketplace_id** apenas si tienen valores, por lo que no parecen que vayan a ser estadísticamente relevantes por lo que se pueden eliminar del dataset"
   ]
  },
  {
   "cell_type": "code",
   "execution_count": 12,
   "metadata": {},
   "outputs": [
    {
     "data": {
      "text/plain": [
       "id                           3049\n",
       "isbn                         3049\n",
       "author                          0\n",
       "title                        3049\n",
       "isbn13                       3049\n",
       "country_code                 3049\n",
       "publication_date             3049\n",
       "publisher                    3007\n",
       "language_code                1190\n",
       "is_ebook                     3049\n",
       "books_count                  3049\n",
       "best_book_id                 3049\n",
       "reviews_count                3049\n",
       "ratings_sum                  3049\n",
       "ratings_count                3049\n",
       "text_reviews_count           3049\n",
       "original_publication_date    3049\n",
       "original_title               2913\n",
       "media_type                   2115\n",
       "num_ratings_5                3049\n",
       "num_ratings_4                3049\n",
       "num_ratings_3                3049\n",
       "num_ratings_2                3049\n",
       "num_ratings_1                3049\n",
       "average_rating               3049\n",
       "num_pages                    2846\n",
       "format                       2991\n",
       "edition_information           218\n",
       "ratings_count_global         3049\n",
       "text_reviews_count_global    3049\n",
       "authors                      3049\n",
       "to_read                      3049\n",
       "read                         3049\n",
       "currently_reading            2345\n",
       "dtype: int64"
      ]
     },
     "execution_count": 12,
     "metadata": {},
     "output_type": "execute_result"
    }
   ],
   "source": [
    "df = df.drop(['asin', 'kindle_asin', 'marketplace_id'], axis=1)\n",
    "df.count()"
   ]
  },
  {
   "cell_type": "markdown",
   "metadata": {},
   "source": [
    "Las columna **country_code** no contiene nulos pero se ve que todos los valores son iguales por lo que podría ser eliminada. Por otor lado, la columna **publication_date** no contiene nulos en el subset de datos."
   ]
  },
  {
   "cell_type": "code",
   "execution_count": 15,
   "metadata": {},
   "outputs": [
    {
     "data": {
      "text/plain": [
       "array(['ES'], dtype=object)"
      ]
     },
     "execution_count": 15,
     "metadata": {},
     "output_type": "execute_result"
    }
   ],
   "source": [
    "df.country_code.unique()"
   ]
  },
  {
   "cell_type": "code",
   "execution_count": 26,
   "metadata": {},
   "outputs": [
    {
     "data": {
      "text/plain": [
       "count         3049\n",
       "unique        1602\n",
       "top       2005/1/1\n",
       "freq            23\n",
       "Name: publication_date, dtype: object"
      ]
     },
     "execution_count": 26,
     "metadata": {},
     "output_type": "execute_result"
    }
   ],
   "source": [
    "df.publication_date.describe()"
   ]
  },
  {
   "cell_type": "markdown",
   "metadata": {},
   "source": [
    "La columna **publisher** contiene nulos y deben ser tratados como *unkown* en lugar de como nulos, dado que es una información que no ha sido proporcionada."
   ]
  },
  {
   "cell_type": "code",
   "execution_count": 29,
   "metadata": {},
   "outputs": [
    {
     "data": {
      "text/plain": [
       "42"
      ]
     },
     "execution_count": 29,
     "metadata": {},
     "output_type": "execute_result"
    }
   ],
   "source": [
    "df.publisher.isna().sum()"
   ]
  },
  {
   "cell_type": "code",
   "execution_count": 31,
   "metadata": {},
   "outputs": [
    {
     "data": {
      "text/plain": [
       "count       3049\n",
       "unique      1248\n",
       "top       unknow\n",
       "freq          42\n",
       "Name: publisher, dtype: object"
      ]
     },
     "execution_count": 31,
     "metadata": {},
     "output_type": "execute_result"
    }
   ],
   "source": [
    "df.publisher = df.publisher.fillna(value=\"unknow\")\n",
    "df.publisher.describe()"
   ]
  },
  {
   "cell_type": "markdown",
   "metadata": {},
   "source": [
    "La columna **language_code** proporciona información sobre el idioma en que está escrito el libro"
   ]
  },
  {
   "cell_type": "code",
   "execution_count": 34,
   "metadata": {},
   "outputs": [
    {
     "data": {
      "text/plain": [
       "array(['eng', 'en-US', nan, 'fre', 'en-GB', 'spa', 'grc', 'en-CA', 'jpn',\n",
       "       'nl', 'ger', 'lat', 'ita', 'zho'], dtype=object)"
      ]
     },
     "execution_count": 34,
     "metadata": {},
     "output_type": "execute_result"
    }
   ],
   "source": [
    "df.language_code.unique()"
   ]
  },
  {
   "cell_type": "markdown",
   "metadata": {},
   "source": [
    "Del mismo modo que tenemos en cuenta los publicadores como desconocidos vamos a hacer el mismo trabajo con el idioma de los libros que no son indicados"
   ]
  },
  {
   "cell_type": "code",
   "execution_count": 36,
   "metadata": {},
   "outputs": [
    {
     "data": {
      "text/plain": [
       "0"
      ]
     },
     "execution_count": 36,
     "metadata": {},
     "output_type": "execute_result"
    }
   ],
   "source": [
    "df.language_code = df.language_code.fillna(value=\"unknow\")\n",
    "df.language_code.isna().sum()"
   ]
  },
  {
   "cell_type": "markdown",
   "metadata": {},
   "source": [
    "La columna **is_ebook** tiene un valor boolean en el que indica si un libro está en formato electrónico o no. En principio no contiene nulos."
   ]
  },
  {
   "cell_type": "code",
   "execution_count": 41,
   "metadata": {},
   "outputs": [
    {
     "data": {
      "text/plain": [
       "array([False,  True])"
      ]
     },
     "execution_count": 41,
     "metadata": {},
     "output_type": "execute_result"
    }
   ],
   "source": [
    "df.is_ebook.unique()"
   ]
  }
 ],
 "metadata": {
  "kernelspec": {
   "display_name": "Python 3",
   "language": "python",
   "name": "python3"
  },
  "language_info": {
   "codemirror_mode": {
    "name": "ipython",
    "version": 3
   },
   "file_extension": ".py",
   "mimetype": "text/x-python",
   "name": "python",
   "nbconvert_exporter": "python",
   "pygments_lexer": "ipython3",
   "version": "3.7.2"
  }
 },
 "nbformat": 4,
 "nbformat_minor": 2
}
